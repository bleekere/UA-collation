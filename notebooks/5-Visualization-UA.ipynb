{
 "cells": [
  {
   "cell_type": "markdown",
   "metadata": {},
   "source": [
    "# Collation outputs and visualization\n",
    "\n",
    "CollateX has several output visualization options. So far, we have used the alignment table and the graph. Within these two formats, there are many different options:\n",
    "\n",
    "- table formats\n",
    "     - plain text table (no need to specify the output)\n",
    "     - HTML table (output='html')\n",
    "     - HTML vertical table with colors (output='html2')\n",
    "     - JSON (output='json')\n",
    "     - XML (output='xml')\n",
    "     - XML/TEI (output='tei')\n",
    "- graph format\n",
    "    - Simple SVG (output='svg_simple')\n",
    "    - Detailed SVG (output='svg')\n"
   ]
  },
  {
   "cell_type": "markdown",
   "metadata": {},
   "source": [
    "Play around with the different visualization options. Which one works best for long witnesses? Which one works best for shorter text fragments? You can work with the data of Darwin (only the first part of each witness) or another dataset of your choice."
   ]
  },
  {
   "cell_type": "code",
   "execution_count": null,
   "metadata": {},
   "outputs": [],
   "source": [
    "collation = Collation()\n",
    "witness_1859 = open( \"../data/Darwin/txt/darwin1859_par1.txt\", encoding='utf-8' ).read()\n",
    "witness_1860 = open( \"../data/Darwin/txt/darwin1860_par1.txt\", encoding='utf-8' ).read()\n",
    "witness_1861 = open( \"../data/Darwin/txt/darwin1861_par1.txt\", encoding='utf-8' ).read()\n",
    "witness_1866 = open( \"../data/Darwin/txt/darwin1866_par1.txt\", encoding='utf-8' ).read()\n",
    "witness_1869 = open( \"../data/Darwin/txt/darwin1869_par1.txt\", encoding='utf-8' ).read()\n",
    "witness_1872 = open( \"../data/Darwin/txt/darwin1872_par1.txt\", encoding='utf-8' ).read()\n",
    "collation.add_plain_witness( \"1859\", witness_1859 )\n",
    "collation.add_plain_witness( \"1860\", witness_1860 )\n",
    "collation.add_plain_witness( \"1861\", witness_1861 )\n",
    "collation.add_plain_witness( \"1866\", witness_1866 )\n",
    "collation.add_plain_witness( \"1869\", witness_1869 )\n",
    "collation.add_plain_witness( \"1872\", witness_1872 )"
   ]
  },
  {
   "cell_type": "code",
   "execution_count": null,
   "metadata": {},
   "outputs": [],
   "source": [
    "alignment_table = collate(collation, layout='vertical', output='html')"
   ]
  }
 ],
 "metadata": {
  "kernelspec": {
   "display_name": "Python 3 (ipykernel)",
   "language": "python",
   "name": "python3"
  },
  "language_info": {
   "codemirror_mode": {
    "name": "ipython",
    "version": 3
   },
   "file_extension": ".py",
   "mimetype": "text/x-python",
   "name": "python",
   "nbconvert_exporter": "python",
   "pygments_lexer": "ipython3",
   "version": "3.8.9"
  }
 },
 "nbformat": 4,
 "nbformat_minor": 4
}
