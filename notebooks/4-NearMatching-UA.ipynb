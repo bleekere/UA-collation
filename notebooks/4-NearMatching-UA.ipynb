{
 "cells": [
  {
   "cell_type": "markdown",
   "metadata": {},
   "source": [
    "# Near matching\n",
    "\n",
    "* Switched off by default\n",
    "* Computationally expensive\n",
    "* Works only on two conditions:\n",
    "    1. Different numbers of tokens;\n",
    "    2. No exact match.\n",
    "* Calculates the nearest match using _edit distance_ or _Levenshtein distance_.\n",
    "\n",
    "**Iterative approach**  \n",
    "Performing computationally inexpensive exact string matching first (in the *alignment* stage) and then calculating the more expensive edit distance (in the *analysis* stage) only where *alignment* has failed to give a satisfactory answer reduces the amount of computation required."
   ]
  },
  {
   "cell_type": "code",
   "execution_count": null,
   "metadata": {},
   "outputs": [],
   "source": [
    "from collatex import *\n",
    "collation = Collation()\n",
    "collation.add_plain_witness(\"A\", \"The gray dog.\")\n",
    "collation.add_plain_witness(\"B\", \"The big grey dog.\")\n",
    "alignment_table = collate(collation, segmentation=False)\n",
    "print(alignment_table)"
   ]
  },
  {
   "cell_type": "code",
   "execution_count": null,
   "metadata": {},
   "outputs": [],
   "source": [
    "from collatex import *\n",
    "collation = Collation()\n",
    "collation.add_plain_witness(\"A\", \"The gray dog.\")\n",
    "collation.add_plain_witness(\"B\", \"The big grey dog.\")\n",
    "alignment_table = collate(collation, segmentation=False, near_match=True)\n",
    "print(alignment_table)"
   ]
  }
 ],
 "metadata": {
  "anaconda-cloud": {},
  "kernelspec": {
   "display_name": "Python 3 (ipykernel)",
   "language": "python",
   "name": "python3"
  },
  "language_info": {
   "codemirror_mode": {
    "name": "ipython",
    "version": 3
   },
   "file_extension": ".py",
   "mimetype": "text/x-python",
   "name": "python",
   "nbconvert_exporter": "python",
   "pygments_lexer": "ipython3",
   "version": "3.8.9"
  }
 },
 "nbformat": 4,
 "nbformat_minor": 1
}
