{
 "cells": [
  {
   "cell_type": "markdown",
   "metadata": {},
   "source": [
    "# Hogwarts High\n",
    "## Collating the British and American versions of Harry Potter"
   ]
  },
  {
   "cell_type": "markdown",
   "metadata": {},
   "source": [
    "### Introduction\n",
    "\n",
    "It is a well-known fact that the Harry Potter novels initially appeared in a so-called \"British version\" (UK), which was subsequently edited into an \"American version\" (VS). There are at least two intriguing aspects to this:\n",
    "\n",
    "- Rowling worked **herself**, with her American editor, on the US version; thus, she can be said to have endorsed or even \"authorized\" the changes. Because of this, one could easily claim that the US version should not be considered a mere derivative of a \"more original, authentic\" UK version.\n",
    "- The changes are relatively **frequent** and sometimes fairly far-reaching: they involve much more than just superficial modifications, e.g. on the level of orthography. Especially, the many (seemingly unnecessary) stylistic interventions are striking (see below) and they are not always easy to account for on the basis of straightforward cultural differences.\n",
    "\n",
    "One extremely complicating matter is that the differences between the US and UK versions are not the only differences  that have to be taken into account. Throughout the years, Rowling and her publishers made numerous adaptations to the text, for instance, emendations that corrected obvious mistakes in the plot (consult e.g. [this semi-official list](https://www.hp-lexicon.org/differences-changes-text/)). Although Bloomsbury, her UK publishing house, has published a partial list of the \"official\" changes (by 2004), it is clear that this list is not exhaustive, so that the latest versions contain a curious mix of both **\"canonical\" and \"apocryphal\" variants**. Especially interesting (from the point of view of **stemmatology**, see below), is that some changes were originally made in the US version before making their way into subsequent re-editions of the UK versions. In editorial theory, this phenomenon is known as **contamination**, i.e. the genetic process where (initially independent) lines of textual offspring start to influence or contaminate each other. This should again raise the awareness with the reader that the UK version should necessarily be considered more \"original\" or \"authentic\" with respect to the US version -- one cannot easily claim *precedence* over the other.\n",
    "\n",
    "This makes the study of the Potter variants, official and non-official alike, very convoluted. Powerful **mediating institutions**, like *amazon.com* for instance, moreover make it surprisingly difficult to retrieve specific (e.g. original) versions of the books, let alone in an electronic format. Recent bibliographic studies on Rowling do not help much in this respect and provide no reasonably detailed \"stemma\" or genetic tree of the different versions which have been published.\n",
    "\n",
    "There has been some previous research into the matter, for example, the excellent article by Philip Nel that we use as a basis for this chapter:\n",
    "\n",
    "> Philip Nel, \"You Say 'Jelly,' I Say 'Jell-O'?: Harry Potter and the Transfiguration of Language.\" *The Ivory Tower and Harry Potter: Perspectives on a Literary Phenomenon*, ed. Lana Whited. Columbia and London: University of Missouri Press, pp. 261-84.\n",
    "\n",
    "However, while Nel does a great job at inventorizing and interpreting numerous differences between the US and UK version (especially from the point of view of \"intralingual, but intercultural translation\"), it is clear that he essentially relies on a manual comparison of the books. By necessity, such a laborious exercise must be limited to a small selection or **sample**, compiled during a sustained close reading. For other readers and scholars, it can be hard to assess whether the sample of items is truly representative -- which differences were left out? -- and what the **exact criteria** for inclusion in the discussion were. Moreover, Nel's analysis is qualitative rather than quantitative and considerations of a more empirical nature are notably absent: we do not get to see which books of the series were more heavily edited than others or which *sort* of edits were more common than others.\n",
    "\n",
    "### Collation\n",
    "Here, it is clear that we assume the role of the Devil's advocate in an attempt to introduce the added value which digital methods and distant reading might bring to this debate. We will turn to a popular methodology called **collation** that allows us to provide a higher-level **macroanalysis** of some the deviations between the US and UK version. Collation, in the context of (digital) literary studies, refers to the process where scholars compare and align different versions of the same text, for instance, for the sake of producing an edition with a **critical apparatus**. A prototypical example where collation is useful is that of a medieval text that survives in a large number of manuscripts or \"witnesses\", which all show (subtle) deviations from each other. In such a case, critics might want to reconstruct the **stemma codicum** of the manuscripts, i.e. establishing a family tree that models which books were in all likelihood copied from which other(s).\n",
    "\n",
    "Especially in earlier times, this was often done using the so-called **Lachmannian method**, named after its inventor, the nineteenth-century German critic [Karl Lachmann](https://en.wikipedia.org/wiki/Karl_Lachmann). According to this method, it is possible to determine which manuscripts were copied from one another, by looking at the errors which they have in common (i.e. the **Principle of the Common Errors**). While still influential, this view is not entirely uncontested nowadays, partly because it can be difficult for modern readers to determine what exactly constitutes an \"error\".\n",
    "\n",
    "Collation has been -- and continues to be -- an important application in Digital Humanities and the advantages of computers for (semi-)automatic tools were recognized very early in the field. Traditionally, collation was often carried out in a **pairwise fashion**, where the extant copies of a text were aligned with a so-called **base manuscript**, that would serve as the reliable point of reference for an edition. Nowadays, this setup has become less common in textual scholarship. People often try to postpone the choice for a single base text (the *Urtext*) and instead align multiple versions of a text at the same time. Another shift has been that collation previously mostly happened at the level of individual words (often called 'tokens'), whereas modern scholarship increasingly is interested in character-level alignment too.\n",
    "\n",
    "In this chapter we will:\n",
    "1. Load a version of the Harry Potter texts in a handy, nested format\n",
    "2. Look into some very general differences between the US and UK version\n",
    "3. Use the stand-alone Java tool `CollateX` to perform a simple collation of the opening chapter of the series\n",
    "4. (Manually look into the Levenshtein metric, one influential historic method in alignment studies)\n",
    "5. Turn to Python to expand the scope of our collation, using the Python port of Collatex\n",
    "6. Establish a simple \"ontology\" of the sort of edits we find\n",
    "7. Measure whether the profile of the edits has changed throughout the books."
   ]
  },
  {
   "cell_type": "markdown",
   "metadata": {},
   "source": [
    "## General statistics"
   ]
  },
  {
   "cell_type": "markdown",
   "metadata": {},
   "source": [
    "In the code block below, we parse a ready-made TEI version of the British and American version of the Harry Potter series into two Python objects, `UK` and `US`:"
   ]
  },
  {
   "cell_type": "code",
   "execution_count": 3,
   "metadata": {},
   "outputs": [
    {
     "name": "stdout",
     "output_type": "stream",
     "text": [
      "Harry Potter and the Philosopher s Stone\n",
      "  - The Boy Who Lived\n",
      "  - The Vanishing Glass\n",
      "  - The Letters from No One\n",
      "  - The Keeper of the Keys\n",
      "  - Diagon Alley\n",
      "  - Quarters\n",
      "  - The Sorting Hat\n",
      "  - The Potions Master\n",
      "  - The Midnight Duel\n",
      "  - Hallowe’en\n",
      "  - Quidditch\n",
      "  - The Mirror of Erised\n",
      "  - Nicolas Flamel\n",
      "  - Norbert the Norwegian Ridgeback\n",
      "  - The Forbidden Forest\n",
      "  - Through the Trapdoor\n",
      "  - The Man with Two Faces\n",
      "Harry Potter and the Chamber of Secrets\n",
      "  - The Worst Birthday\n",
      "  - Dobby’s Warning\n",
      "  - The Burrow\n",
      "  - At Flourish and Blotts\n",
      "  - The Whomping Willow\n",
      "  - Gilderoy Lockhart\n",
      "  - Mudbloods and Murmurs\n",
      "  - The Deathday Party\n",
      "  - The Writing on the Wall\n",
      "  - The Rogue Bludger\n",
      "  - The Duelling Club\n",
      "  - The Polyjuice Potion\n",
      "  - The Very Secret Diary\n",
      "  - Cornelius Fudge\n",
      "  - Aragog\n",
      "  - The Chamber of Secrets\n",
      "  - The Heir of Slytherin\n",
      "  - Dobby’s Reward\n",
      "Harry Potter and the Prisoner of Azkaban\n",
      "  - Owl Post\n",
      "  - Aunt Marge’s Big Mistake\n",
      "  - The Knight Bus\n",
      "  - The Leaky Cauldron\n",
      "  - The Dementor\n",
      "  - Talons and Tea Leaves\n",
      "  - The Boggart in the Wardrobe\n",
      "  - Flight of the Fat Lady\n",
      "  - Grim Defeat\n",
      "  - The Marauder’s Map\n",
      "  - The Firebolt\n",
      "  - The Patronus\n",
      "  - Gryffindor versus Ravenclaw\n",
      "  - Snape’s Grudge\n",
      "  - The Quidditch Final\n",
      "  - Professor Trelawney’s Prediction\n",
      "  - Cat, Rat and Dog\n",
      "  - Moony, Wormtail, Padfoot and Prongs\n",
      "  - The Servant of Lord Voldemort\n",
      "  - The Dementor’s Kiss\n",
      "  - Hermione’s Secret\n",
      "  - Owl Post Again\n",
      "Harry Potter and the Goblet of Fire\n",
      "  - The Riddle House\n",
      "  - The Scar\n",
      "  - The Invitation\n",
      "  - Back to The Burrow\n",
      "  - Weasleys’ Wizard Wheezes\n",
      "  - The Portkey\n",
      "  - Bagman and Crouch\n",
      "  - The Quidditch World Cup\n",
      "  - The Dark Mark\n",
      "  - Mayhem at the Ministry\n",
      "  - Aboard the Hogwarts Express\n",
      "  - The Triwizard Tournament\n",
      "  - Eye Moody\n",
      "  - The Unforgivable Curses\n",
      "  - Beauxbatons and Durmstrang\n",
      "  - The Goblet of Fire\n",
      "  - The Four Champions\n",
      "  - The Weighing of the Wands\n",
      "  - The Hungarian Horntail\n",
      "  - The First Task\n",
      "  - Elf Liberation Front\n",
      "  - The Unexpected Task\n",
      "  - The Yule Ball\n",
      "  - Rita Skeeter’s Scoop\n",
      "  - The Egg and the Eye\n",
      "  - The Second Task\n",
      "  - Padfoot Returns\n",
      "  - The Madness of Mr Crouch\n",
      "  - The Dream\n",
      "  - The Pensieve\n",
      "  - The Third Task\n",
      "  - Flesh, Blood and Bone\n",
      "  - The Death Eaters\n",
      "  - Priori Incantatem\n",
      "  - Veritaserum\n",
      "  - The Parting of the Ways\n",
      "  - The Beginning\n",
      "Harry Potter and the Order of the Phoenix\n",
      "  - Dudley Demented\n",
      "  - A Peck of Owls\n",
      "  - The Advance Guard\n",
      "  - Number Twelve, Grimmauld Place\n",
      "  - The Order of the Phoenix\n",
      "  - The Noble and Most Ancient House of Black\n",
      "  - The Ministry of Magic\n",
      "  - The Hearing\n",
      "  - The Woes of Mrs Weasley\n",
      "  - Luna Lovegood\n",
      "  - The Sorting Hat’s New Song\n",
      "  - Professor Umbridge\n",
      "  - Detention with Dolores\n",
      "  - Percy and Padfoot\n",
      "  - The Hogwarts High Inquisitor\n",
      "  - In the Hog’s Head\n",
      "  - Four\n",
      "  - Dumbledore’s Army\n",
      "  - The Lion and the Serpent\n",
      "  - Hagrid’s Tale\n",
      "  - The Eye of the Snake\n",
      "  - St Mungo’s Hospital for Magical Maladies and Injuries\n",
      "  - Christmas on the Closed Ward\n",
      "  - Occlumency\n",
      "  - The Beetle at Bay\n",
      "  - Seen and Unforeseen\n",
      "  - The Centaur and the Sneak\n",
      "  - Snape’s Worst Memory\n",
      "  - Careers Advice\n",
      "  - Grawp\n",
      "  - O.W.L.s\n",
      "  - Out of the Fire\n",
      "  - Fight and Flight\n",
      "  - The Department of Mysteries\n",
      "  - Beyond the Veil\n",
      "  - The Only One He Ever Feared\n",
      "  - The Lost Prophecy\n",
      "  - The Second War Begins\n",
      "Harry Potter and the Half Blood Prince\n",
      "  - The Other Minister\n",
      "  - Spinner’s End\n",
      "  - Will and Won’t\n",
      "  - Horace Slughorn\n",
      "  - An Excess of Phlegm\n",
      "  - Draco’s Detour\n",
      "  - The Slug Club\n",
      "  - Snape Victorious\n",
      "  - Blood Prince\n",
      "  - The House of Gaunt\n",
      "  - Hermione’s Helping Hand\n",
      "  - Silver and Opals\n",
      "  - The Secret Riddle\n",
      "  - Felix Felicis\n",
      "  - The Unbreakable Vow\n",
      "  - A Very Frosty Christmas\n",
      "  - A Sluggish Memory\n",
      "  - Birthday Surprises\n",
      "  - Elf Tails\n",
      "  - Lord Voldemort’s Request\n",
      "  - The Unknowable Room\n",
      "  - After the Burial\n",
      "  - Horcruxes\n",
      "  - Sectumsempra\n",
      "  - The Seer Overheard\n",
      "  - The Cave\n",
      "  - Struck Tower\n",
      "  - Flight of the Prince\n",
      "  - The Phoenix Lament\n",
      "  - The White Tomb\n",
      "Harry Potter and the Deathly Hallows\n",
      "  - The Dark Lord Ascending\n",
      "  - In Memoriam\n",
      "  - The Dursleys Departing\n",
      "  - The Seven Potters\n",
      "  - Fallen Warrior\n",
      "  - The Ghoul in Pyjamas\n",
      "  - The Will of Albus Dumbledore\n",
      "  - The Wedding\n",
      "  - A Place to Hide\n",
      "  - Kreacher’s Tale\n",
      "  - The Bribe\n",
      "  - Magic is Might\n",
      "  - Born Registration Commission\n",
      "  - The Thief\n",
      "  - The Goblin’s Revenge\n",
      "  - Godric’s Hollow\n",
      "  - Bathilda’s Secret\n",
      "  - The Life and Lies of Albus Dumbledore\n",
      "  - The Silver Doe\n",
      "  - Xenophilius Lovegood\n",
      "  - The Tale of the Three Brothers\n",
      "  - The Deathly Hallows\n",
      "  - Malfoy Manor\n",
      "  - The Wandmaker\n",
      "  - Shell Cottage\n",
      "  - Gringotts\n",
      "  - The Final Hiding Place\n",
      "  - The Missing Mirror\n",
      "  - The Lost Diadem\n",
      "  - The Sacking of Severus Snape\n",
      "  - The Battle of Hogwarts\n",
      "  - The Elder Wand\n",
      "  - The Prince’s Tale\n",
      "  - The Forest Again\n",
      "  - King’s Cross\n",
      "  - The Flaw in the Plan\n",
      "  - Nineteen Years Later\n",
      "Harry Potter and the Sorcerer s Stone\n",
      "  - THE BOY WHO LIVED\n",
      "  - THE VANISHING GLASS\n",
      "  - THE LETTERS FROM NO ONE\n",
      "  - THE KEEPER OF THE KEYS\n",
      "  - DIAGON ALLEY\n",
      "  -  QUARTERS\n",
      "  - THE SORTING HAT\n",
      "  - THE POTIONS MASTER\n",
      "  - THE MIDNIGHT DUEL\n",
      "  - HALLOWEEN\n",
      "  - QUIDDITCH\n",
      "  - THE MIRROR OF ERISED\n",
      "  - NICOLAS FLAMEL\n",
      "  - NORBERT THE NORWEGIAN RIDGEBACK\n",
      "  - THE FORBIDDEN FOREST\n",
      "  - THROUGH THE TRAPDOOR\n",
      "  - THE MAN WITH TWO FACES\n",
      "Harry Potter and the Chamber of Secrets\n",
      "  - THE WORST BIRTHDAY\n",
      "  - DOBBY’S WARNING\n",
      "  - THE BURROW\n",
      "  - AT FLOURISH AND BLOTTS\n",
      "  - THE WHOMPING WILLOW\n",
      "  - GILDEROY LOCKHART\n",
      "  - MUDBLOODS AND MURMURS\n",
      "  - THE DEATHDAY PARTY\n",
      "  - THE WRITING ON THE WALL\n",
      "  - THE ROGUE BLUDGER\n",
      "  - THE DUELING CLUB\n",
      "  - THE POLYJUICE POTION\n",
      "  - THE VERY SECRET DIARY\n",
      "  - CORNELIUS FUDGE\n",
      "  - ARAGOG\n",
      "  - THE CHAMBER OF SECRETS\n",
      "  - THE HEIR OF SLYTHERIN\n",
      "  - DOBBY’S REWARD\n",
      "Harry Potter and the Prisoner of Azkaban\n",
      "  - OWL POST\n",
      "  - AUNT MARGE S BIG MISTAKE\n",
      "  - THE KNIGHT BUS\n",
      "  - THE LEAKY CAULDRON\n",
      "  - THE DEMENTOR\n",
      "  - TALONS AND TEA LEAVES\n",
      "  - THE BOGGART IN THE WARDROBE\n",
      "  - FLIGHT OF THE FAT LADY\n",
      "  - GRIM DEFEAT\n",
      "  - THE MARAUDER S MAP\n",
      "  - THE FIREBOLT\n",
      "  - THE PATRONUS\n",
      "  - GRYFFINDOR VERSUS RAVENCLAW\n",
      "  - SNAPE S GRUDGE\n",
      "  - THE QUIDDITCH FINAL\n",
      "  - PROFESSOR TRELAWNEY’S PREDICTION\n",
      "  - CAT, RAT, AND DOG\n",
      "  - MOONY, WORMTAIL, PADFOOT AND PRONGS\n",
      "  - THE SERVANT OF LORD VOLDEMORT\n",
      "  - THE DEMENTOR S KISS\n",
      "  - HERMIONE S SECRET\n",
      "  - OWL POST AGAIN\n",
      "Harry Potter and the Goblet of Fire\n",
      "  - THE RIDDLE HOUSE\n",
      "  - THE SCAR\n",
      "  - THE INVITATION\n",
      "  - BACK TO THE BURROW\n",
      "  - WEASLEYS’ WIZARD WHEEZES\n",
      "  - THE PORTKEY\n",
      "  - BAGMAN AND CROUCH\n",
      "  - THE QUIDDITCH WORLD CUP\n",
      "  - THE DARK MARK\n",
      "  - MAYHEM AT THE MINISTRY\n",
      "  - ABOARD THE HOGWARTS EXPRESS\n",
      "  - THE TRIWIZARD TOURNAMENT\n",
      "  - EYE MOODY\n",
      "  - THE UNFORGIVABLE CURSES\n",
      "  - BEAUXBATONS AND DURMSTRANG\n",
      "  - THE GOBLET OF FIRE\n",
      "  - THE FOUR CHAMPIONS\n",
      "  - THE WEIGHING OF THE WANDS\n",
      "  - THE HUNGARIAN HORNTAIL\n",
      "  - THE FIRST TASK\n",
      "  - ELF LIBERATION FRONT\n",
      "  - THE UNEXPECTED TASK\n",
      "  - THE YULE BALL\n",
      "  - RITA SKEETER S SCOOP\n",
      "  - THE EGG AND THE EYE\n",
      "  - THE SECOND TASK\n",
      "  - PADFOOT RETURNS\n",
      "  - THE MADNESS OF MR. CROUCH\n",
      "  - THE DREAM\n",
      "  - THE PENSIEVE\n",
      "  - THE THIRD TASK\n",
      "  - FLESH, BLOOD, AND BONE\n",
      "  - THE DEATH EATERS\n",
      "  - PRIORI INCANTATEM\n",
      "  - VERITASERUM\n",
      "  - THE PARTING OF THE WAYS\n",
      "  - THE BEGINNING\n",
      "Harry Potter and the Order of the Phoenix\n",
      "  - DUDLEY DEMENTED\n",
      "  - A PECK OF OWLS\n",
      "  - THE ADVANCE GUARD\n",
      "  - NUMBER TWELVE, GRIMMAULD PLACE\n",
      "  - THE ORDER OF THE PHOENIX\n",
      "  - THE NOBLE AND MOST ANCIENT HOUSE OF BLACK\n",
      "  - THE MINISTRY OF MAGIC\n",
      "  - THE HEARING\n",
      "  - THE WOES OF MRS. WEASLEY\n",
      "  - LUNA LOVEGOOD\n",
      "  - THE SORTING HAT S NEW SONG\n",
      "  - PROFESSOR UMBRIDGE\n",
      "  - DETENTION WITH DOLORES\n",
      "  - PERCY AND PADFOOT\n",
      "  - THE HOGWARTS HIGH INQUISITOR\n",
      "  - IN THE HOG S HEAD\n",
      "  - FOUR\n",
      "  - DUMBLEDORE S ARMY\n",
      "  - THE LION AND THE SERPENT\n",
      "  - HAGRID’S TALE\n",
      "  - THE EYE OF THE SNAKE\n",
      "  - ST. MUNGO S HOSPITAL FOR MAGICAL MALADIES AND INJURIES\n",
      "  - CHRISTMAS ON THE CLOSED WARD\n",
      "  - OCCLUMENCY\n",
      "  - THE BEETLE AT BAY\n",
      "  - SEEN AND UNFORESEEN\n",
      "  - THE CENTAUR AND THE SNEAK\n",
      "  - SNAPE S WORST MEMORY\n",
      "  - CAREER ADVICE\n",
      "  - GRAWP\n",
      "  - O.W.L.S\n",
      "  - OUT OF THE FIRE\n",
      "  - FlGHT AND FLIGHT\n",
      "  - THE DEPARTMENT OF MYSTERIES\n",
      "  - BEYOND THE VEIL\n",
      "  - THE ONLY ONE HE EVER FEARED\n",
      "  - THE LOST PROPHECY\n",
      "  - THE SECOND WAR BEGINS\n",
      "Harry Potter and the Half Blood Prince\n",
      "  - THE OTHER MINISTER\n",
      "  - SPINNER S END\n",
      "  - WILL AND WON T\n",
      "  - HORACE SLUGHORN\n",
      "  - AN EXCESS OF PHLEGM\n",
      "  - DRACO’S DETOUR\n",
      "  - THE SLUG CLUB\n",
      "  - SNAPE VICTORIOUS\n",
      "  - BLOOD PRINCE\n",
      "  - THE HOUSE OF GAUNT\n",
      "  - HERMIONE S HELPING HAND\n",
      "  - SILVER AND OPALS\n",
      "  - THE SECRET RIDDLE\n",
      "  - FELIX FELICIS\n",
      "  - THE UNBREAKABLE VOW\n",
      "  - A VERY FROSTY CHRISTMAS\n",
      "  - A SLUGISH MEMORY\n",
      "  - BIRTHDAY SURPRISES\n",
      "  - ELF TAILS\n",
      "  - LORD VOLDEMORT S REQUEST\n",
      "  - THE UNKNOWABLE ROOM\n",
      "  - AFTER THE BURIAL\n",
      "  - HORCRUXES\n",
      "  - SECTUMSEMPRA\n",
      "  - THE SEER OVERHEARD\n",
      "  - THE CAVE\n",
      "  - STRUCK TOWER\n",
      "  - FLIGHT OF THE PRINCE\n",
      "  - THE PHOENIX LAMENT\n",
      "  - THE WHITE TOMB\n",
      "Harry Potter and the Deathly Hallows\n",
      "  - THE DARK LORD ASCENDING\n",
      "  - IN MEMORIAM\n",
      "  - THE DURSLEYS DEPARTING\n",
      "  - THE SEVEN POTTERS\n",
      "  - FALLEN WARRIOR\n",
      "  - THE GHOUL IN PAJAMAS\n",
      "  - THE WILL OF ALBUS DUMBLEDORE\n",
      "  - THE WEDDING\n",
      "  - A PLACE TO HIDE\n",
      "  - KREACHER S TALE\n",
      "  - THE BRIBE\n",
      "  - MAGIC IS MIGHT\n",
      "  - BORN REGISTRATION COMMISSION\n",
      "  - THE THIEF\n",
      "  - THE GOBLIN’S REVENGE\n",
      "  - GODRIC S HOLLOW\n",
      "  - BATHILDA S SECRET\n",
      "  - THE LIFE AND LIES OF ALBUS DUMBLEDORE\n",
      "  - THE SILVER DOE\n",
      "  - XENOPHILIUS LOVEGOOD\n",
      "  - THE TALE OF THE THREE BROTHERS\n",
      "  - THE DEATHLY HALLOWS\n",
      "  - MALFOY MANOR\n",
      "  - THE WANDMAKER\n",
      "  - SHELL COTTAGE\n",
      "  - GRINGOTTS\n",
      "  - THE FINAL HIDING PLACE\n",
      "  - THE MISSING MIRROR\n",
      "  - THE LOST DIADEM\n",
      "  - THE SACKING OF SEVERUS SNAPE\n",
      "  - THE BATTLE OF HOGWARTS\n",
      "  - THE ELDER WAND\n",
      "  - THE PRINCE S TALE\n",
      "  - THE FOREST AGAIN\n",
      "  - KING S CROSS\n",
      "  - THE FLAW IN THE PLAN\n",
      "  - EPILOGUE\n",
      "['The', 'Dursleys', 'had', 'a', 'small', 'son', 'called', 'Dudley', 'and', 'in', 'their', 'opinion', 'there', 'was', 'no', 'finer', 'boy', 'anywhere', '.']\n"
     ]
    }
   ],
   "source": [
    "import os\n",
    "import glob\n",
    "from collections import OrderedDict\n",
    "\n",
    "namespaces = {'tei':'http://www.tei-c.org/ns/1.0'}\n",
    "\n",
    "def load_potter(indir):\n",
    "    HP = OrderedDict() # preserves the order in which the keys are inserted\n",
    "    for book_dir in sorted(glob.glob(f'{indir}/*/')):\n",
    "        book = os.path.basename(book_dir[:-1])\n",
    "        book = book.split('-')[-1].replace('_', ' ')\n",
    "        print(book)\n",
    "        HP[book] = OrderedDict()\n",
    "        for chapter_file in sorted(glob.glob(f'{book_dir}*.txt')):\n",
    "            chapter = os.path.basename(chapter_file).replace('.txt', '')\n",
    "            chapter = chapter.split('-')[-1].replace('_', ' ')\n",
    "            print('  -', chapter)\n",
    "            HP[book][chapter] = []\n",
    "            for line in open(chapter_file):\n",
    "                HP[book][chapter].append(line.strip().split())\n",
    "                \n",
    "    return HP # what are we returning here?\n",
    "\n",
    "UK = load_potter('hp_uk_plain_chapters_segm')\n",
    "US = load_potter('hp_us_plain_chapters_segm')\n",
    "\n",
    "print(UK['Harry Potter and the Philosopher s Stone']['The Boy Who Lived'][5])"
   ]
  },
  {
   "cell_type": "markdown",
   "metadata": {},
   "source": [
    "Now that we have loaded the Harry Potter texts into our notebooks, we can already make some exploratory, high-level plots of the book series. When looking at the Harry Potter series in a book store, for instance, it is clear that Rowling's books seem to have become longer:"
   ]
  },
  {
   "cell_type": "markdown",
   "metadata": {},
   "source": [
    "![alt text](http://ecx.images-amazon.com/images/I/51BRMauPcNL.jpg \"Logo Title Text 1\")"
   ]
  },
  {
   "cell_type": "markdown",
   "metadata": {},
   "source": [
    "Let us warm up a little, through making some simple plots that help us verify these impressions. For this this we make use of an established plotting library in Python, called `matplotlib`, which we import using the **alias** `plt`. To make sure that everything gets displayed correctly, and in a pleasing style, in our notebook, we first need to execute the block below."
   ]
  },
  {
   "cell_type": "code",
   "execution_count": 5,
   "metadata": {},
   "outputs": [],
   "source": [
    "%matplotlib inline\n",
    "import matplotlib.style\n",
    "matplotlib.style.use('seaborn-deep') # load a style\n",
    "import matplotlib.pyplot as plt"
   ]
  },
  {
   "cell_type": "markdown",
   "metadata": {},
   "source": [
    "The easiest way to measure the length of a book is to simply **count the total number of characters** it contains. For the UK books, for instance, we can first loop over the books in `UK`, then over the chapter and then over the paragraphs. For each book, we keep track of the number of characters it contains in a list of integers which we call `uk_len`:"
   ]
  },
  {
   "cell_type": "code",
   "execution_count": 7,
   "metadata": {},
   "outputs": [
    {
     "name": "stdout",
     "output_type": "stream",
     "text": [
      "[451487, 505811, 644377, 1134095, 1534073, 1012515, 1175318]\n"
     ]
    }
   ],
   "source": [
    "uk_len = []\n",
    "\n",
    "for uk_book in UK:\n",
    "    \n",
    "    uk_cnt = 0\n",
    "    for uk_chap in UK[uk_book]:\n",
    "        for sent in UK[uk_book][uk_chap]:\n",
    "            uk_text = ' '.join(sent) # join items of list into a single string\n",
    "            uk_cnt += len(uk_text)\n",
    "    \n",
    "    uk_len.append(uk_cnt)\n",
    "\n",
    "print(uk_len)"
   ]
  },
  {
   "cell_type": "markdown",
   "metadata": {},
   "source": [
    "From these numbers, it becomes clear already that the Harry Potter books, at least in the UK version, have grown significantly longer. We can now draw a block to visualize this information. Most of the commands used below should be intuitive enough to make sense to you (e.g. adding a legend and axis labels etc.)."
   ]
  },
  {
   "cell_type": "code",
   "execution_count": 8,
   "metadata": {},
   "outputs": [
    {
     "data": {
      "image/png": "[encoded data removed]",
      "text/plain": [
       "<Figure size 720x720 with 1 Axes>"
      ]
     },
     "metadata": {
      "needs_background": "light"
     },
     "output_type": "display_data"
    }
   ],
   "source": [
    "plt.figure(figsize=(10, 10))\n",
    "plt.plot(uk_len, label='uk')\n",
    "plt.ylabel('# characters')\n",
    "plt.xlabel('book titles')\n",
    "plt.xticks(range(len(uk_len)), UK.keys(), rotation='vertical')\n",
    "plt.legend()\n",
    "plt.tight_layout()"
   ]
  },
  {
   "cell_type": "markdown",
   "metadata": {},
   "source": [
    "This simple **line plot** visually confirms our expectation: ever since the relatively shorter *Philosopher's Stone*, the books have grown considerably larger. Although the *Half-Blood Prince* somewhat countered this trend, the finale of the series grows longer again - and both concluding volumes are clearly longer than the opening three items in the series. The fifth item, the *Phoenix* reaches the maximum length in characters -- and, as will we see later, this is not the only respect in which the *Phoenix* seems to play an exceptional role in the development of the series. Funnily, Rowling recently tweeted that in her *Cormoran Strike* series too, the \"fourth book\" would be the longest there as well:"
   ]
  },
  {
   "cell_type": "markdown",
   "metadata": {},
   "source": [
    "<blockquote class=\"twitter-tweet\" data-lang=\"en\"><p lang=\"en\" dir=\"ltr\">It progresses. Turns out the fourth in every one of my series has to be the longest. 🙄 <a href=\"https://t.co/cnXl2Qju6Y\">https://t.co/cnXl2Qju6Y</a></p>&mdash; J.K. Rowling (@jk_rowling) <a href=\"https://twitter.com/jk_rowling/status/958376528643002370?ref_src=twsrc%5Etfw\">January 30, 2018</a></blockquote>\n",
    "<script async src=\"https://platform.twitter.com/widgets.js\" charset=\"utf-8\"></script>"
   ]
  },
  {
   "cell_type": "markdown",
   "metadata": {},
   "source": [
    "According to our numbers, the fourth book in the Harry Potter series does have the largest number of chapters (see below), but it was *not* the longest in terms of length in characters..."
   ]
  },
  {
   "cell_type": "markdown",
   "metadata": {},
   "source": [
    "Literary scholars might easily interpret this development in terms of Rowling's growing success: ever since her books became international bestsellers, she must have obtained more leeway and artistic freedom with her editors, allowing her to create longer books, since the publisher could trust on the success of the upcoming items in the series, so no aggressive truncation of the narrative was needed. This is also evident from the number of chapters contained in the book. Using a simple **list comprehension** we retrieve the length of each book in terms of the number of chapters it contains."
   ]
  },
  {
   "cell_type": "code",
   "execution_count": 11,
   "metadata": {},
   "outputs": [
    {
     "name": "stdout",
     "output_type": "stream",
     "text": [
      "[17, 18, 22, 37, 38, 30, 37]\n"
     ]
    }
   ],
   "source": [
    "chap_len = [len(UK[t]) for t in UK]\n",
    "print(chap_len)"
   ]
  },
  {
   "cell_type": "markdown",
   "metadata": {},
   "source": [
    "Plotting this information requires only minor adjustments to our previous plotting block. Can you see which bits we had to change?"
   ]
  },
  {
   "cell_type": "code",
   "execution_count": 12,
   "metadata": {},
   "outputs": [
    {
     "data": {
      "image/png": "[encoded data removed]",
      "text/plain": [
       "<Figure size 720x720 with 1 Axes>"
      ]
     },
     "metadata": {
      "needs_background": "light"
     },
     "output_type": "display_data"
    }
   ],
   "source": [
    "plt.figure(figsize=(10, 10))\n",
    "plt.plot(chap_len, label='uk')\n",
    "plt.ylabel('# chapters')\n",
    "plt.xlabel('book titles')\n",
    "plt.xticks(range(len(chap_len)), UK.keys(), rotation='vertical')\n",
    "plt.legend()\n",
    "plt.tight_layout()"
   ]
  },
  {
   "cell_type": "markdown",
   "metadata": {},
   "source": [
    "Here, it is interesting how the evolution of the number of chapter per books closely parallels the overall length of the books -- which makes sense intuitively, at least if we assume that the average length of a chapter did not change radically."
   ]
  },
  {
   "cell_type": "markdown",
   "metadata": {},
   "source": [
    "#### Quiz\n",
    "> Create the same plots (length of the books in characters and chapters), but now for the US version."
   ]
  },
  {
   "cell_type": "markdown",
   "metadata": {},
   "source": [
    "## Sentence length"
   ]
  },
  {
   "cell_type": "markdown",
   "metadata": {},
   "source": [
    "**Readability** is a thorny issue in the international Rowling criticism, especially in the context of the difference between the UK and US versions. Reviewers, critics and readers alike have noted that many aspects of the US version seem to have been somewhat \"simplified\" in comparison to the UK version. Some critics have gone as far as claiming that this would constitute a pure act of \"dumbing down\" the books for a less intellectual American readership. Others might counter this naive view by arguing that such interventions might actually boost the stylistic qualities of the books. One crude, yet insightful way to quantify such differences would be to inspect the average length of sentences in the books. Would the length of sentences (i.e. the number of word tokens they contain), on average, indeed be shorter in the UK than in the US version?"
   ]
  },
  {
   "cell_type": "markdown",
   "metadata": {},
   "source": [
    "If we glue these components together, we are now ready to verify whether the UK and US versions indeed deviate significantly from each other in terms of the average number of words used in a sentence. Using the `zip` function below, we now loop over the books and chapter in the UK and US version simultaneously. (Note, of course, that the number of chapters have never changed in the UK and US version.) Using the `mean` function, from the `statistics` module in Python's **standard library**, we collect for each book its average sentence length."
   ]
  },
  {
   "cell_type": "code",
   "execution_count": 15,
   "metadata": {},
   "outputs": [
    {
     "name": "stdout",
     "output_type": "stream",
     "text": [
      "Harry Potter and the Philosopher s Stone vs Harry Potter and the Sorcerer s Stone\n",
      "Harry Potter and the Chamber of Secrets vs Harry Potter and the Chamber of Secrets\n",
      "Harry Potter and the Prisoner of Azkaban vs Harry Potter and the Prisoner of Azkaban\n",
      "Harry Potter and the Goblet of Fire vs Harry Potter and the Goblet of Fire\n",
      "Harry Potter and the Order of the Phoenix vs Harry Potter and the Order of the Phoenix\n",
      "Harry Potter and the Half Blood Prince vs Harry Potter and the Half Blood Prince\n",
      "Harry Potter and the Deathly Hallows vs Harry Potter and the Deathly Hallows\n",
      "[20.47808358817533, 21.47773672953529, 21.229411764705883, 23.588569229288943, 26.55166867712103, 26.6887092823904, 24.65491183879093]\n",
      "[20.457613336043913, 21.30837173579109, 21.009847806624887, 22.634071739734914, 26.30576141525221, 26.15573378022504, 24.284158226638638]\n"
     ]
    }
   ],
   "source": [
    "import re\n",
    "from statistics import mean\n",
    "\n",
    "uk_len, us_len, uk_titles  = [], [], []\n",
    "#DOTS = re.compile(r'(\\s*)\\.(\\s*)\\.(\\s*)\\.(\\s*)') # meaning?\n",
    "\n",
    "for uk_book, us_book in zip(UK, US):\n",
    "    print(uk_book, 'vs', us_book)\n",
    "    uk_titles.append(us_book)\n",
    "    \n",
    "    uk_cnt, us_cnt = [], []\n",
    "    for uk_chap, us_chap in zip(UK[uk_book], US[us_book]):\n",
    "        \n",
    "        for sent in UK[uk_book][uk_chap]:\n",
    "            uk_cnt.append(len(sent))\n",
    "        \n",
    "        for sent in US[us_book][us_chap]:\n",
    "            us_cnt.append(len(sent))\n",
    "    \n",
    "    # now average at book level\n",
    "    uk_len.append(mean(uk_cnt))\n",
    "    us_len.append(mean(us_cnt))\n",
    "\n",
    "print(uk_len)\n",
    "print(us_len)"
   ]
  },
  {
   "cell_type": "code",
   "execution_count": 16,
   "metadata": {},
   "outputs": [
    {
     "data": {
      "text/html": [
       "<div>\n",
       "<style scoped>\n",
       "    .dataframe tbody tr th:only-of-type {\n",
       "        vertical-align: middle;\n",
       "    }\n",
       "\n",
       "    .dataframe tbody tr th {\n",
       "        vertical-align: top;\n",
       "    }\n",
       "\n",
       "    .dataframe thead th {\n",
       "        text-align: right;\n",
       "    }\n",
       "</style>\n",
       "<table border=\"1\" class=\"dataframe\">\n",
       "  <thead>\n",
       "    <tr style=\"text-align: right;\">\n",
       "      <th></th>\n",
       "      <th>titles</th>\n",
       "      <th>uk</th>\n",
       "      <th>us</th>\n",
       "    </tr>\n",
       "  </thead>\n",
       "  <tbody>\n",
       "    <tr>\n",
       "      <th>0</th>\n",
       "      <td>Harry Potter and the Sorcerer s Stone</td>\n",
       "      <td>20.478084</td>\n",
       "      <td>20.457613</td>\n",
       "    </tr>\n",
       "    <tr>\n",
       "      <th>1</th>\n",
       "      <td>Harry Potter and the Chamber of Secrets</td>\n",
       "      <td>21.477737</td>\n",
       "      <td>21.308372</td>\n",
       "    </tr>\n",
       "    <tr>\n",
       "      <th>2</th>\n",
       "      <td>Harry Potter and the Prisoner of Azkaban</td>\n",
       "      <td>21.229412</td>\n",
       "      <td>21.009848</td>\n",
       "    </tr>\n",
       "    <tr>\n",
       "      <th>3</th>\n",
       "      <td>Harry Potter and the Goblet of Fire</td>\n",
       "      <td>23.588569</td>\n",
       "      <td>22.634072</td>\n",
       "    </tr>\n",
       "    <tr>\n",
       "      <th>4</th>\n",
       "      <td>Harry Potter and the Order of the Phoenix</td>\n",
       "      <td>26.551669</td>\n",
       "      <td>26.305761</td>\n",
       "    </tr>\n",
       "    <tr>\n",
       "      <th>5</th>\n",
       "      <td>Harry Potter and the Half Blood Prince</td>\n",
       "      <td>26.688709</td>\n",
       "      <td>26.155734</td>\n",
       "    </tr>\n",
       "    <tr>\n",
       "      <th>6</th>\n",
       "      <td>Harry Potter and the Deathly Hallows</td>\n",
       "      <td>24.654912</td>\n",
       "      <td>24.284158</td>\n",
       "    </tr>\n",
       "  </tbody>\n",
       "</table>\n",
       "</div>"
      ],
      "text/plain": [
       "                                      titles         uk         us\n",
       "0      Harry Potter and the Sorcerer s Stone  20.478084  20.457613\n",
       "1    Harry Potter and the Chamber of Secrets  21.477737  21.308372\n",
       "2   Harry Potter and the Prisoner of Azkaban  21.229412  21.009848\n",
       "3        Harry Potter and the Goblet of Fire  23.588569  22.634072\n",
       "4  Harry Potter and the Order of the Phoenix  26.551669  26.305761\n",
       "5     Harry Potter and the Half Blood Prince  26.688709  26.155734\n",
       "6       Harry Potter and the Deathly Hallows  24.654912  24.284158"
      ]
     },
     "execution_count": 16,
     "metadata": {},
     "output_type": "execute_result"
    }
   ],
   "source": [
    "import pandas as pd\n",
    "df = pd.DataFrame(list(zip(uk_titles, uk_len, us_len)), columns=('titles', 'uk', 'us'))\n",
    "df"
   ]
  },
  {
   "cell_type": "code",
   "execution_count": 19,
   "metadata": {},
   "outputs": [
    {
     "data": {
      "text/html": [
       "<div>\n",
       "<style scoped>\n",
       "    .dataframe tbody tr th:only-of-type {\n",
       "        vertical-align: middle;\n",
       "    }\n",
       "\n",
       "    .dataframe tbody tr th {\n",
       "        vertical-align: top;\n",
       "    }\n",
       "\n",
       "    .dataframe thead th {\n",
       "        text-align: right;\n",
       "    }\n",
       "</style>\n",
       "<table border=\"1\" class=\"dataframe\">\n",
       "  <thead>\n",
       "    <tr style=\"text-align: right;\">\n",
       "      <th></th>\n",
       "      <th>titles</th>\n",
       "      <th>uk</th>\n",
       "      <th>us</th>\n",
       "      <th>diff</th>\n",
       "    </tr>\n",
       "  </thead>\n",
       "  <tbody>\n",
       "    <tr>\n",
       "      <th>0</th>\n",
       "      <td>Harry Potter and the Sorcerer s Stone</td>\n",
       "      <td>20.478084</td>\n",
       "      <td>20.457613</td>\n",
       "      <td>0.020470</td>\n",
       "    </tr>\n",
       "    <tr>\n",
       "      <th>1</th>\n",
       "      <td>Harry Potter and the Chamber of Secrets</td>\n",
       "      <td>21.477737</td>\n",
       "      <td>21.308372</td>\n",
       "      <td>0.169365</td>\n",
       "    </tr>\n",
       "    <tr>\n",
       "      <th>2</th>\n",
       "      <td>Harry Potter and the Prisoner of Azkaban</td>\n",
       "      <td>21.229412</td>\n",
       "      <td>21.009848</td>\n",
       "      <td>0.219564</td>\n",
       "    </tr>\n",
       "    <tr>\n",
       "      <th>3</th>\n",
       "      <td>Harry Potter and the Goblet of Fire</td>\n",
       "      <td>23.588569</td>\n",
       "      <td>22.634072</td>\n",
       "      <td>0.954497</td>\n",
       "    </tr>\n",
       "    <tr>\n",
       "      <th>4</th>\n",
       "      <td>Harry Potter and the Order of the Phoenix</td>\n",
       "      <td>26.551669</td>\n",
       "      <td>26.305761</td>\n",
       "      <td>0.245907</td>\n",
       "    </tr>\n",
       "    <tr>\n",
       "      <th>5</th>\n",
       "      <td>Harry Potter and the Half Blood Prince</td>\n",
       "      <td>26.688709</td>\n",
       "      <td>26.155734</td>\n",
       "      <td>0.532976</td>\n",
       "    </tr>\n",
       "    <tr>\n",
       "      <th>6</th>\n",
       "      <td>Harry Potter and the Deathly Hallows</td>\n",
       "      <td>24.654912</td>\n",
       "      <td>24.284158</td>\n",
       "      <td>0.370754</td>\n",
       "    </tr>\n",
       "  </tbody>\n",
       "</table>\n",
       "</div>"
      ],
      "text/plain": [
       "                                      titles         uk         us      diff\n",
       "0      Harry Potter and the Sorcerer s Stone  20.478084  20.457613  0.020470\n",
       "1    Harry Potter and the Chamber of Secrets  21.477737  21.308372  0.169365\n",
       "2   Harry Potter and the Prisoner of Azkaban  21.229412  21.009848  0.219564\n",
       "3        Harry Potter and the Goblet of Fire  23.588569  22.634072  0.954497\n",
       "4  Harry Potter and the Order of the Phoenix  26.551669  26.305761  0.245907\n",
       "5     Harry Potter and the Half Blood Prince  26.688709  26.155734  0.532976\n",
       "6       Harry Potter and the Deathly Hallows  24.654912  24.284158  0.370754"
      ]
     },
     "execution_count": 19,
     "metadata": {},
     "output_type": "execute_result"
    }
   ],
   "source": [
    "df['diff'] = df['uk'] - df['us']\n",
    "df"
   ]
  },
  {
   "cell_type": "markdown",
   "metadata": {},
   "source": [
    "Plotting the numbers is very similar to what we have done before, only now, you can see that we call the `plot` function twice, to add a line in the plot for both the `UK` and `US` series."
   ]
  },
  {
   "cell_type": "code",
   "execution_count": 21,
   "metadata": {},
   "outputs": [
    {
     "data": {
      "image/png": "[encoded data removed]",
      "text/plain": [
       "<Figure size 720x720 with 1 Axes>"
      ]
     },
     "metadata": {
      "needs_background": "light"
     },
     "output_type": "display_data"
    }
   ],
   "source": [
    "plt.figure(figsize=(10, 10))\n",
    "plt.plot(uk_len, label='uk')\n",
    "plt.plot(us_len, label='us')\n",
    "plt.ylabel('average sentence length (in # tokens)')\n",
    "plt.xlabel('# book')\n",
    "plt.xticks(range(len(uk_titles)), uk_titles, rotation='vertical')\n",
    "plt.legend()\n",
    "plt.tight_layout()"
   ]
  },
  {
   "cell_type": "markdown",
   "metadata": {},
   "source": [
    "The difference is striking: we can indeed observe that the US sentences *in each book* are a good deal shorter on average than their British counterparts. This difference grows even more pronounced in the later and longer books, where the US editors (and Rowling herself, apparently) seem to have felt an even stronger need to cut down on the average sentence length."
   ]
  },
  {
   "cell_type": "markdown",
   "metadata": {},
   "source": [
    "## Collation"
   ]
  },
  {
   "cell_type": "markdown",
   "metadata": {},
   "source": [
    "So far, we have been relying on fairly crude and superficial metrics to compare the UK and US versions, e.g. average sentence length. This is indeed typical of much DH/DLS research, where scholars adopt a **distant or macroanalytical perspective** -- \"dumb down, to scale up\", so to speak. In the next section, however, we turn to a methodology that allows us to zoom in again on the text, in order to get a grasp of the *actual* microlevel differences that exist between both versions: (semi-)automatic collation. Let us start with a simple example and collate the first chapters of the UK and US version respectively.\n",
    "\n",
    "For this we can make use of an external Java tool called [Collatex](https://collatex.net/), which is one of the more popular tools which are available for aligning and collating multiple (>=2) versions of the same text. This tool comes as single **jar-file** that you can download from the project's [website](https://collatex.net/) -- we used 1.7.1. (You should place this file in the same folder as this notebook.) Running this jar-file requires that you have a recent version of the **Java** programming language: if you don't (know whether you) have that, it's a good idea to download the correct version for your operating system [here](http://www.oracle.com/technetwork/java/javase/downloads/jdk8-downloads-2133151.html)."
   ]
  },
  {
   "cell_type": "markdown",
   "metadata": {},
   "source": [
    "First, we will use `CollateX` from the command line, which is at this point still the most powerful and flexible interfaces to the software. For this, you can open a new command line window, navigate to the folder where you left the far, and type in the commands that follow below. Alternatively, you can just run the commands in the code blocks below -- through adding an exclamation mark (`!`) we indicate that those commands should be **executed in the notebook as if we executed them in the shell**. (If you do this from the notebook, however, please be well aware that we are no longer working in simple Python here, but that we switch to shell syntax!)\n",
    "\n",
    "Below, we start by invoking the **help** or **documentation** for the jar-file, which will tell us, amongst others, what sort of input is expected from our side and which settings we can tweak. Some notes on the syntax of this command:\n",
    "- `java` indicates that we want to run the program using the Java programming language\n",
    "- `-jar` is a flag indicating that we run a (fully self-contained) jar-version of the Java program\n",
    "- `collatex-tools-1.7.1.jar` is just the (relative) path to the actual jar file on our system\n",
    "- `-h` is a flag that we use to print out the help documentation that comes with the jar"
   ]
  },
  {
   "cell_type": "code",
   "execution_count": 23,
   "metadata": {},
   "outputs": [
    {
     "name": "stdout",
     "output_type": "stream",
     "text": [
      "usage: collatex [<options>]\n",
      "                (<json_input> | <witness_1> <witness_2> [[<witness_3>] ...])\n",
      "  -a,--algorithm <arg>                    progressive alignment algorithm to\n",
      "                                          use 'dekker' (default), 'medite',\n",
      "                                          'needleman-wunsch'\n",
      "  -cp,--context-path <arg>                URL base/context path of the\n",
      "                                          service, default: '/'\n",
      "  -dot,--dot-path <arg>                   path to Graphviz 'dot',\n",
      "                                          auto-detected by default\n",
      "  -f,--format <arg>                       result/output format: 'json', 'csv',\n",
      "                                          'dot', 'graphml', 'tei'\n",
      "  -h,--help                               print usage instructions\n",
      "  -ie,--input-encoding <arg>              charset to use for decoding non-XML\n",
      "                                          witnesses; default: UTF-8\n",
      "  -mcs,--max-collation-size <arg>         maximum number of characters\n",
      "                                          (counted over all witnesses) to\n",
      "                                          perform collations on, default:\n",
      "                                          unlimited\n",
      "  -mpc,--max-parallel-collations <arg>    maximum number of collations to\n",
      "                                          perform in parallel, default: 2\n",
      "  -o,--output <arg>                       output file; '-' for standard output\n",
      "                                          (default)\n",
      "  -oe,--output-encoding <arg>             charset to use for encoding the\n",
      "                                          output; default: UTF-8\n",
      "  -p,--port <arg>                         HTTP port to bind server to,\n",
      "                                          default: 7369\n",
      "  -s,--script <arg>                       ECMA/JavaScript resource with\n",
      "                                          functions to be plugged into the\n",
      "                                          alignment algorithm\n",
      "  -S,--http                               start RESTful HTTP server\n",
      "  -t,--tokenized                          consecutive matches of tokens will\n",
      "                                          *not* be joined to segments\n",
      "  -xml,--xml-mode                         witnesses are treated as XML\n",
      "                                          documents\n",
      "  -xp,--xpath <arg>                       XPath 1.0 expression evaluating to\n",
      "                                          tokens of XML witnesses; default:\n",
      "                                          '//text()'\n"
     ]
    }
   ],
   "source": [
    "!java -jar collatex-tools-1.7.1.jar -h"
   ]
  },
  {
   "cell_type": "markdown",
   "metadata": {},
   "source": [
    "Running the program with the `-h` flag, returns a list of all the possible flags that we can use and their anticipated behavior or effect on the internal working of the tool -- this includes the documentation `-h` and `--help` flags themselves, as you can see. Most of these flags have so-called `default settings`, which means that, if we are happy with them, we do not have to explicitly set them each time we run the program."
   ]
  },
  {
   "cell_type": "markdown",
   "metadata": {},
   "source": [
    "Let us first dump a simple plain text version of the first chapters in both the UK and US version. In Python, this is as simple as:"
   ]
  },
  {
   "cell_type": "code",
   "execution_count": 25,
   "metadata": {},
   "outputs": [],
   "source": [
    "with open('uk_chap1.txt', 'w') as f:\n",
    "    text = ''\n",
    "    for sent in UK[\"Harry Potter and the Philosopher s Stone\"]['The Boy Who Lived']:\n",
    "        text += ' '.join(sent) + ' '\n",
    "    f.write(text)\n",
    "\n",
    "with open('us_chap1.txt', 'w') as f:\n",
    "    text = ''\n",
    "    for sent in US[\"Harry Potter and the Sorcerer s Stone\"]['THE BOY WHO LIVED']:\n",
    "        text += ' '.join(sent) + ' '\n",
    "    f.write(text)"
   ]
  },
  {
   "cell_type": "markdown",
   "metadata": {},
   "source": [
    "If you inspect the contents of these newly created files in your text editor, you should see that they contain simple plain text. To now go and collate these texts, we can just add them as additional arguments."
   ]
  },
  {
   "cell_type": "code",
   "execution_count": 27,
   "metadata": {},
   "outputs": [
    {
     "name": "stdout",
     "output_type": "stream",
     "text": [
      "Warning: Nashorn engine is planned to be removed from a future JDK release\n",
      "{\"witnesses\":[\"w1\",\"w2\"],\"table\":[[[\"Mr \"],[\"Mr\"]],[[],[\". \"]],[[\"and \",\"Mrs \"],[\"and \",\"Mrs\"]],[[],[\". \"]],[[\"Dursley \",\", \",\"of \",\"number \",\"four \",\", \",\"Privet \",\"Drive \",\", \",\"were \",\"proud \",\"to \",\"say \",\"that \",\"they \",\"were \",\"perfectly \",\"normal \",\", \",\"thank \",\"you \",\"very \",\"much \",\". \",\"They \",\"were \",\"the \",\"last \",\"people \",\"you \",\"’ \",\"d \",\"expect \",\"to \",\"be \",\"involved \",\"in \",\"anything \",\"strange \",\"or \",\"mysterious \",\", \",\"because \",\"they \",\"just \",\"didn \",\"’ \",\"t \",\"hold \",\"with \",\"such \",\"nonsense \",\". \",\"Mr \"],[\"Dursley \",\", \",\"of \",\"number \",\"four \",\", \",\"Privet \",\"Drive \",\", \",\"were \",\"proud \",\"to \",\"say \",\"that \",\"they \",\"were \",\"perfectly \",\"normal \",\", \",\"thank \",\"you \",\"very \",\"much \",\". \",\"They \",\"were \",\"the \",\"last \",\"people \",\"you \",\"’ \",\"d \",\"expect \",\"to \",\"be \",\"involved \",\"in \",\"anything \",\"strange \",\"or \",\"mysterious \",\", \",\"because \",\"they \",\"just \",\"didn \",\"’ \",\"t \",\"hold \",\"with \",\"such \",\"nonsense \",\". \",\"Mr\"]],[[],[\". \"]],[[\"Dursley \",\"was \",\"the \",\"director \",\"of \",\"a \",\"firm \",\"called \",\"Grunnings \",\", \",\"which \",\"made \",\"drills \",\". \",\"He \",\"was \",\"a \",\"big \",\", \",\"beefy \",\"man \",\"with \",\"hardly \",\"any \",\"neck \",\", \",\"although \",\"he \",\"did \",\"have \",\"a \",\"very \",\"large \"],[\"Dursley \",\"was \",\"the \",\"director \",\"of \",\"a \",\"firm \",\"called \",\"Grunnings \",\", \",\"which \",\"made \",\"drills \",\". \",\"He \",\"was \",\"a \",\"big \",\", \",\"beefy \",\"man \",\"with \",\"hardly \",\"any \",\"neck \",\", \",\"although \",\"he \",\"did \",\"have \",\"a \",\"very \",\"large \"]],[[\"moustache \"],[\"mustache \"]],[[\". \",\"Mrs \"],[\". \",\"Mrs\"]],[[],[\". \"]],[[\"Dursley \",\"was \",\"thin \",\"and \",\"blonde \",\"and \",\"had \",\"nearly \",\"twice \",\"the \",\"usual \",\"amount \",\"of \",\"neck \",\", \",\"which \",\"came \",\"in \",\"very \",\"useful \",\"as \",\"she \",\"spent \",\"so \",\"much \",\"of \",\"her \",\"time \",\"craning \",\"over \",\"garden \",\"fences \",\", \",\"spying \",\"on \",\"the \"],[\"Dursley \",\"was \",\"thin \",\"and \",\"blonde \",\"and \",\"had \",\"nearly \",\"twice \",\"the \",\"usual \",\"amount \",\"of \",\"neck \",\", \",\"which \",\"came \",\"in \",\"very \",\"useful \",\"as \",\"she \",\"spent \",\"so \",\"much \",\"of \",\"her \",\"time \",\"craning \",\"over \",\"garden \",\"fences \",\", \",\"spying \",\"on \",\"the \"]],[[\"neighbours \"],[\"neighbors \"]],[[\". \",\"The \",\"Dursleys \",\"had \",\"a \",\"small \",\"son \",\"called \",\"Dudley \",\"and \",\"in \",\"their \",\"opinion \",\"there \",\"was \",\"no \",\"finer \",\"boy \",\"anywhere \",\". \",\"The \",\"Dursleys \",\"had \",\"everything \",\"they \",\"wanted \",\", \",\"but \",\"they \",\"also \",\"had \",\"a \",\"secret \",\", \",\"and \",\"their \",\"greatest \",\"fear \",\"was \",\"that \",\"somebody \",\"would \",\"discover \",\"it \",\". \",\"They \",\"didn \",\"’ \",\"t \",\"think \",\"they \",\"could \",\"bear \",\"it \",\"if \",\"anyone \",\"found \",\"out \",\"about \",\"the \",\"Potters \",\". \",\"Mrs \"],[\". \",\"The \",\"Dursleys \",\"had \",\"a \",\"small \",\"son \",\"called \",\"Dudley \",\"and \",\"in \",\"their \",\"opinion \",\"there \",\"was \",\"no \",\"finer \",\"boy \",\"anywhere \",\". \",\"The \",\"Dursleys \",\"had \",\"everything \",\"they \",\"wanted \",\", \",\"but \",\"they \",\"also \",\"had \",\"a \",\"secret \",\", \",\"and \",\"their \",\"greatest \",\"fear \",\"was \",\"that \",\"somebody \",\"would \",\"discover \",\"it \",\". \",\"They \",\"didn \",\"’ \",\"t \",\"think \",\"they \",\"could \",\"bear \",\"it \",\"if \",\"anyone \",\"found \",\"out \",\"about \",\"the \",\"Potters \",\". \",\"Mrs\"]],[[],[\". \"]],[[\"Potter \",\"was \",\"Mrs \"],[\"Potter \",\"was \",\"Mrs\"]],[[],[\". \"]],[[\"Dursley \",\"’ \",\"s \",\"sister \",\", \",\"but \",\"they \",\"hadn \",\"’ \",\"t \",\"met \",\"for \",\"several \",\"years \",\"; \",\"in \",\"fact \",\", \",\"Mrs \"],[\"Dursley \",\"’ \",\"s \",\"sister \",\", \",\"but \",\"they \",\"hadn \",\"’ \",\"t \",\"met \",\"for \",\"several \",\"years \",\"; \",\"in \",\"fact \",\", \",\"Mrs\"]],[[],[\". \"]],[[\"Dursley \",\"pretended \",\"she \",\"didn \",\"’ \",\"t \",\"have \",\"a \",\"sister \",\", \",\"because \",\"her \",\"sister \",\"and \",\"her \",\"good-for-nothing \",\"husband \",\"were \",\"as \",\"unDursleyish \",\"as \",\"it \",\"was \",\"possible \",\"to \",\"be \",\". \",\"The \",\"Dursleys \",\"shuddered \",\"to \",\"think \",\"what \",\"the \"],[\"Dursley \",\"pretended \",\"she \",\"didn \",\"’ \",\"t \",\"have \",\"a \",\"sister \",\", \",\"because \",\"her \",\"sister \",\"and \",\"her \",\"good-for-nothing \",\"husband \",\"were \",\"as \",\"unDursleyish \",\"as \",\"it \",\"was \",\"possible \",\"to \",\"be \",\". \",\"The \",\"Dursleys \",\"shuddered \",\"to \",\"think \",\"what \",\"the \"]],[[\"neighbours \"],[\"neighbors \"]],[[\"would \",\"say \",\"if \",\"the \",\"Potters \",\"arrived \",\"in \",\"the \",\"street \",\". \",\"The \",\"Dursleys \",\"knew \",\"that \",\"the \",\"Potters \",\"had \",\"a \",\"small \",\"son \",\", \",\"too \",\", \",\"but \",\"they \",\"had \",\"never \",\"even \",\"seen \",\"him \",\". \",\"This \",\"boy \",\"was \",\"another \",\"good \",\"reason \",\"for \",\"keeping \",\"the \",\"Potters \",\"away \",\"; \",\"they \",\"didn \",\"’ \",\"t \",\"want \",\"Dudley \",\"mixing \",\"with \",\"a \",\"child \",\"like \",\"that \",\". \",\"When \",\"Mr \"],[\"would \",\"say \",\"if \",\"the \",\"Potters \",\"arrived \",\"in \",\"the \",\"street \",\". \",\"The \",\"Dursleys \",\"knew \",\"that \",\"the \",\"Potters \",\"had \",\"a \",\"small \",\"son \",\", \",\"too \",\", \",\"but \",\"they \",\"had \",\"never \",\"even \",\"seen \",\"him \",\". \",\"This \",\"boy \",\"was \",\"another \",\"good \",\"reason \",\"for \",\"keeping \",\"the \",\"Potters \",\"away \",\"; \",\"they \",\"didn \",\"’ \",\"t \",\"want \",\"Dudley \",\"mixing \",\"with \",\"a \",\"child \",\"like \",\"that \",\". \",\"When \",\"Mr\"]],[[],[\". \"]],[[\"and \",\"Mrs \"],[\"and \",\"Mrs\"]],[[],[\". \"]],[[\"Dursley \",\"woke \",\"up \",\"on \",\"the \",\"dull \",\", \"],[\"Dursley \",\"woke \",\"up \",\"on \",\"the \",\"dull \",\", \"]],[[\"grey \"],[\"gray \"]],[[\"Tuesday \",\"our \",\"story \",\"starts \",\", \",\"there \",\"was \",\"nothing \",\"about \",\"the \",\"cloudy \",\"sky \",\"outside \",\"to \",\"suggest \",\"that \",\"strange \",\"and \",\"mysterious \",\"things \",\"would \",\"soon \",\"be \",\"happening \",\"all \",\"over \",\"the \",\"country \",\". \",\"Mr \"],[\"Tuesday \",\"our \",\"story \",\"starts \",\", \",\"there \",\"was \",\"nothing \",\"about \",\"the \",\"cloudy \",\"sky \",\"outside \",\"to \",\"suggest \",\"that \",\"strange \",\"and \",\"mysterious \",\"things \",\"would \",\"soon \",\"be \",\"happening \",\"all \",\"over \",\"the \",\"country \",\". \",\"Mr\"]],[[],[\". \"]],[[\"Dursley \",\"hummed \",\"as \",\"he \",\"picked \",\"out \",\"his \",\"most \",\"boring \",\"tie \",\"for \",\"work \"],[\"Dursley \",\"hummed \",\"as \",\"he \",\"picked \",\"out \",\"his \",\"most \",\"boring \",\"tie \",\"for \",\"work \"]],[[],[\", \"]],[[\"and \",\"Mrs \"],[\"and \",\"Mrs\"]],[[],[\". \"]],[[\"Dursley \",\"gossiped \",\"away \",\"happily \",\"as \",\"she \",\"wrestled \",\"a \",\"screaming \",\"Dudley \",\"into \",\"his \",\"high \",\"chair \",\". \",\"None \",\"of \",\"them \",\"noticed \",\"a \",\"large \"],[\"Dursley \",\"gossiped \",\"away \",\"happily \",\"as \",\"she \",\"wrestled \",\"a \",\"screaming \",\"Dudley \",\"into \",\"his \",\"high \",\"chair \",\". \",\"None \",\"of \",\"them \",\"noticed \",\"a \",\"large \"]],[[],[\", \"]],[[\"tawny \",\"owl \",\"flutter \",\"past \",\"the \",\"window \",\". \",\"At \",\"half \",\"past \",\"eight \",\", \",\"Mr \"],[\"tawny \",\"owl \",\"flutter \",\"past \",\"the \",\"window \",\". \",\"At \",\"half \",\"past \",\"eight \",\", \",\"Mr\"]],[[],[\". \"]],[[\"Dursley \",\"picked \",\"up \",\"his \",\"briefcase \",\", \",\"pecked \",\"Mrs \"],[\"Dursley \",\"picked \",\"up \",\"his \",\"briefcase \",\", \",\"pecked \",\"Mrs\"]],[[],[\". \"]],[[\"Dursley \",\"on \",\"the \",\"cheek \"],[\"Dursley \",\"on \",\"the \",\"cheek \"]],[[],[\", \"]],[[\"and \",\"tried \",\"to \",\"kiss \",\"Dudley \"],[\"and \",\"tried \",\"to \",\"kiss \",\"Dudley \"]],[[\"goodbye \"],[\"good-bye \"]],[[\"but \",\"missed \",\", \",\"because \",\"Dudley \",\"was \",\"now \",\"having \",\"a \",\"tantrum \",\"and \",\"throwing \",\"his \",\"cereal \",\"at \",\"the \",\"walls \",\". \"],[\"but \",\"missed \",\", \",\"because \",\"Dudley \",\"was \",\"now \",\"having \",\"a \",\"tantrum \",\"and \",\"throwing \",\"his \",\"cereal \",\"at \",\"the \",\"walls \",\". \"]],[[\"‘ \"],[\"“ \"]],[[\"Little \",\"tyke \",\", \"],[\"Little \",\"tyke \",\", \"]],[[\"’ \"],[\"” \"]],[[\"chortled \",\"Mr \"],[\"chortled \",\"Mr\"]],[[],[\". \"]],[[\"Dursley \",\"as \",\"he \",\"left \",\"the \",\"house \",\". \",\"He \",\"got \",\"into \",\"his \",\"car \",\"and \",\"backed \",\"out \",\"of \",\"number \",\"four \",\"’ \",\"s \",\"drive \",\". \",\"It \",\"was \",\"on \",\"the \",\"corner \",\"of \",\"the \",\"street \",\"that \",\"he \",\"noticed \",\"the \",\"first \",\"sign \",\"of \",\"something \",\"peculiar \"],[\"Dursley \",\"as \",\"he \",\"left \",\"the \",\"house \",\". \",\"He \",\"got \",\"into \",\"his \",\"car \",\"and \",\"backed \",\"out \",\"of \",\"number \",\"four \",\"’ \",\"s \",\"drive \",\". \",\"It \",\"was \",\"on \",\"the \",\"corner \",\"of \",\"the \",\"street \",\"that \",\"he \",\"noticed \",\"the \",\"first \",\"sign \",\"of \",\"something \",\"peculiar \"]],[[\"– \"],[\"— \"]],[[\"a \",\"cat \",\"reading \",\"a \",\"map \",\". \",\"For \",\"a \",\"second \",\", \",\"Mr \"],[\"a \",\"cat \",\"reading \",\"a \",\"map \",\". \",\"For \",\"a \",\"second \",\", \",\"Mr\"]],[[],[\". \"]],[[\"Dursley \",\"didn \",\"’ \",\"t \"],[\"Dursley \",\"didn \",\"’ \",\"t \"]],[[\"realise \"],[\"realize \"]],[[\"what \",\"he \",\"had \",\"seen \"],[\"what \",\"he \",\"had \",\"seen \"]],[[\"– \"],[\"— \"]],[[\"then \",\"he \",\"jerked \",\"his \",\"head \",\"around \",\"to \",\"look \",\"again \",\". \",\"There \",\"was \",\"a \",\"tabby \",\"cat \",\"standing \",\"on \",\"the \",\"corner \",\"of \",\"Privet \",\"Drive \",\", \",\"but \",\"there \",\"wasn \",\"’ \",\"t \",\"a \",\"map \",\"in \"],[\"then \",\"he \",\"jerked \",\"his \",\"head \",\"around \",\"to \",\"look \",\"again \",\". \",\"There \",\"was \",\"a \",\"tabby \",\"cat \",\"standing \",\"on \",\"the \",\"corner \",\"of \",\"Privet \",\"Drive \",\", \",\"but \",\"there \",\"wasn \",\"’ \",\"t \",\"a \",\"map \",\"in \"]],[[],[\"' \"]],[[\"sight \",\". \",\"What \",\"could \",\"he \",\"have \",\"been \",\"thinking \",\"of \",\"? \",\"It \",\"must \",\"have \",\"been \",\"a \",\"trick \",\"of \",\"the \",\"light \",\". \",\"Mr \"],[\"sight \",\". \",\"What \",\"could \",\"he \",\"have \",\"been \",\"thinking \",\"of \",\"? \",\"It \",\"must \",\"have \",\"been \",\"a \",\"trick \",\"of \",\"the \",\"light \",\". \",\"Mr\"]],[[],[\". \"]],[[\"Dursley \",\"blinked \",\"and \",\"stared \",\"at \",\"the \",\"cat \",\". \",\"It \",\"stared \",\"back \",\". \",\"As \",\"Mr \"],[\"Dursley \",\"blinked \",\"and \",\"stared \",\"at \",\"the \",\"cat \",\". \",\"It \",\"stared \",\"back \",\". \",\"As \",\"Mr\"]],[[],[\". \"]],[[\"Dursley \",\"drove \",\"around \",\"the \",\"corner \",\"and \",\"up \",\"the \",\"road \",\", \",\"he \",\"watched \",\"the \",\"cat \",\"in \",\"his \",\"mirror \",\". \",\"It \",\"was \",\"now \",\"reading \",\"the \",\"sign \",\"that \",\"said \",\"Privet \",\"Drive \"],[\"Dursley \",\"drove \",\"around \",\"the \",\"corner \",\"and \",\"up \",\"the \",\"road \",\", \",\"he \",\"watched \",\"the \",\"cat \",\"in \",\"his \",\"mirror \",\". \",\"It \",\"was \",\"now \",\"reading \",\"the \",\"sign \",\"that \",\"said \",\"Privet \",\"Drive \"]],[[\"– \"],[\"— \"]],[[\"no \",\", \",\"looking \",\"at \",\"the \",\"sign \",\"; \",\"cats \",\"couldn \",\"’ \",\"t \",\"read \",\"maps \",\"or \",\"signs \",\". \",\"Mr \"],[\"no \",\", \",\"looking \",\"at \",\"the \",\"sign \",\"; \",\"cats \",\"couldn \",\"’ \",\"t \",\"read \",\"maps \",\"or \",\"signs \",\". \",\"Mr\"]],[[],[\". \"]],[[\"Dursley \",\"gave \",\"himself \",\"a \",\"little \",\"shake \",\"and \",\"put \",\"the \",\"cat \",\"out \",\"of \",\"his \",\"mind \",\". \",\"As \",\"he \",\"drove \"],[\"Dursley \",\"gave \",\"himself \",\"a \",\"little \",\"shake \",\"and \",\"put \",\"the \",\"cat \",\"out \",\"of \",\"his \",\"mind \",\". \",\"As \",\"he \",\"drove \"]],[[\"towards \"],[\"toward \"]],[[\"town \",\"he \",\"thought \",\"of \",\"nothing \",\"except \",\"a \",\"large \",\"order \",\"of \",\"drills \",\"he \",\"was \",\"hoping \",\"to \",\"get \",\"that \",\"day \",\". \",\"But \",\"on \",\"the \",\"edge \",\"of \",\"town \",\", \",\"drills \",\"were \",\"driven \",\"out \",\"of \",\"his \",\"mind \",\"by \",\"something \",\"else \",\". \",\"As \",\"he \",\"sat \",\"in \",\"the \",\"usual \",\"morning \",\"traffic \",\"jam \",\", \",\"he \",\"couldn \",\"’ \",\"t \",\"help \",\"noticing \",\"that \",\"there \",\"seemed \",\"to \",\"be \",\"a \",\"lot \",\"of \",\"strangely \",\"dressed \",\"people \",\"about \",\". \",\"People \",\"in \",\"cloaks \",\". \",\"Mr \"],[\"town \",\"he \",\"thought \",\"of \",\"nothing \",\"except \",\"a \",\"large \",\"order \",\"of \",\"drills \",\"he \",\"was \",\"hoping \",\"to \",\"get \",\"that \",\"day \",\". \",\"But \",\"on \",\"the \",\"edge \",\"of \",\"town \",\", \",\"drills \",\"were \",\"driven \",\"out \",\"of \",\"his \",\"mind \",\"by \",\"something \",\"else \",\". \",\"As \",\"he \",\"sat \",\"in \",\"the \",\"usual \",\"morning \",\"traffic \",\"jam \",\", \",\"he \",\"couldn \",\"’ \",\"t \",\"help \",\"noticing \",\"that \",\"there \",\"seemed \",\"to \",\"be \",\"a \",\"lot \",\"of \",\"strangely \",\"dressed \",\"people \",\"about \",\". \",\"People \",\"in \",\"cloaks \",\". \",\"Mr\"]],[[],[\". \"]],[[\"Dursley \",\"couldn \",\"’ \",\"t \",\"bear \",\"people \",\"who \",\"dressed \",\"in \",\"funny \",\"clothes \"],[\"Dursley \",\"couldn \",\"’ \",\"t \",\"bear \",\"people \",\"who \",\"dressed \",\"in \",\"funny \",\"clothes \"]],[[\"– \"],[\"— \"]],[[\"the \"],[\"the \"]],[[\"get-ups \"],[\"getups \"]],[[\"you \",\"saw \",\"on \",\"young \",\"people \",\"! \",\"He \",\"supposed \",\"this \",\"was \",\"some \",\"stupid \",\"new \",\"fashion \",\". \",\"He \",\"drummed \",\"his \",\"fingers \",\"on \",\"the \",\"steering \",\"wheel \",\"and \",\"his \",\"eyes \",\"fell \",\"on \",\"a \",\"huddle \",\"of \",\"these \",\"weirdos \",\"standing \",\"quite \",\"close \",\"by \",\". \",\"They \",\"were \",\"whispering \",\"excitedly \",\"together \",\". \",\"Mr \"],[\"you \",\"saw \",\"on \",\"young \",\"people \",\"! \",\"He \",\"supposed \",\"this \",\"was \",\"some \",\"stupid \",\"new \",\"fashion \",\". \",\"He \",\"drummed \",\"his \",\"fingers \",\"on \",\"the \",\"steering \",\"wheel \",\"and \",\"his \",\"eyes \",\"fell \",\"on \",\"a \",\"huddle \",\"of \",\"these \",\"weirdos \",\"standing \",\"quite \",\"close \",\"by \",\". \",\"They \",\"were \",\"whispering \",\"excitedly \",\"together \",\". \",\"Mr\"]],[[],[\". \"]],[[\"Dursley \",\"was \",\"enraged \",\"to \",\"see \",\"that \",\"a \",\"couple \",\"of \",\"them \",\"weren \",\"’ \",\"t \",\"young \",\"at \",\"all \",\"; \",\"why \",\", \",\"that \",\"man \",\"had \",\"to \",\"be \",\"older \",\"than \",\"he \",\"was \",\", \",\"and \",\"wearing \",\"an \",\"emerald-green \",\"cloak \",\"! \",\"The \",\"nerve \",\"of \",\"him \",\"! \",\"But \",\"then \",\"it \",\"struck \",\"Mr \"],[\"Dursley \",\"was \",\"enraged \",\"to \",\"see \",\"that \",\"a \",\"couple \",\"of \",\"them \",\"weren \",\"’ \",\"t \",\"young \",\"at \",\"all \",\"; \",\"why \",\", \",\"that \",\"man \",\"had \",\"to \",\"be \",\"older \",\"than \",\"he \",\"was \",\", \",\"and \",\"wearing \",\"an \",\"emerald-green \",\"cloak \",\"! \",\"The \",\"nerve \",\"of \",\"him \",\"! \",\"But \",\"then \",\"it \",\"struck \",\"Mr\"]],[[],[\". \"]],[[\"Dursley \",\"that \",\"this \",\"was \",\"probably \",\"some \",\"silly \",\"stunt \"],[\"Dursley \",\"that \",\"this \",\"was \",\"probably \",\"some \",\"silly \",\"stunt \"]],[[\"– \"],[\"— \"]],[[\"these \",\"people \",\"were \",\"obviously \",\"collecting \",\"for \",\"something… \",\"yes \",\", \",\"that \",\"would \",\"be \",\"it \",\". \",\"The \",\"traffic \",\"moved \",\"on \"],[\"these \",\"people \",\"were \",\"obviously \",\"collecting \",\"for \",\"something… \",\"yes \",\", \",\"that \",\"would \",\"be \",\"it \",\". \",\"The \",\"traffic \",\"moved \",\"on \"]],[[\", \"],[]],[[\"and \",\"a \",\"few \",\"minutes \",\"later \",\", \",\"Mr \"],[\"and \",\"a \",\"few \",\"minutes \",\"later \",\", \",\"Mr\"]],[[],[\". \"]],[[\"Dursley \",\"arrived \",\"in \",\"the \",\"Grunnings \"],[\"Dursley \",\"arrived \",\"in \",\"the \",\"Grunnings \"]],[[\"car \",\"park \"],[\"parking \",\"lot \"]],[[\", \",\"his \",\"mind \",\"back \",\"on \",\"drills \",\". \",\"Mr \"],[\", \",\"his \",\"mind \",\"back \",\"on \",\"drills \",\". \",\"Mr\"]],[[],[\". \"]],[[\"Dursley \",\"always \",\"sat \",\"with \",\"his \",\"back \",\"to \",\"the \",\"window \",\"in \",\"his \",\"office \",\"on \",\"the \",\"ninth \",\"floor \",\". \",\"If \",\"he \",\"hadn \",\"’ \",\"t \",\", \",\"he \",\"might \",\"have \",\"found \",\"it \",\"harder \",\"to \",\"concentrate \",\"on \",\"drills \",\"that \",\"morning \",\". \",\"He \",\"didn \",\"’ \",\"t \",\"see \",\"the \",\"owls \",\"swooping \",\"past \",\"in \",\"broad \",\"daylight \"],[\"Dursley \",\"always \",\"sat \",\"with \",\"his \",\"back \",\"to \",\"the \",\"window \",\"in \",\"his \",\"office \",\"on \",\"the \",\"ninth \",\"floor \",\". \",\"If \",\"he \",\"hadn \",\"’ \",\"t \",\", \",\"he \",\"might \",\"have \",\"found \",\"it \",\"harder \",\"to \",\"concentrate \",\"on \",\"drills \",\"that \",\"morning \",\". \",\"He \",\"didn \",\"’ \",\"t \",\"see \",\"the \",\"owls \",\"swooping \",\"past \",\"in \",\"broad \",\"daylight \"]],[[\", \"],[\"; \"]],[[\"though \",\"people \",\"down \",\"in \",\"the \",\"street \",\"did \",\"; \",\"they \",\"pointed \",\"and \",\"gazed \",\"open-mouthed \",\"as \",\"owl \",\"after \",\"owl \",\"sped \",\"overhead \",\". \",\"Most \",\"of \",\"them \",\"had \",\"never \",\"seen \",\"an \",\"owl \",\"even \",\"at \"],[\"though \",\"people \",\"down \",\"in \",\"the \",\"street \",\"did \",\"; \",\"they \",\"pointed \",\"and \",\"gazed \",\"open-mouthed \",\"as \",\"owl \",\"after \",\"owl \",\"sped \",\"overhead \",\". \",\"Most \",\"of \",\"them \",\"had \",\"never \",\"seen \",\"an \",\"owl \",\"even \",\"at \"]],[[\"night-time \"],[\"nighttime \"]],[[\". \",\"Mr \"],[\". \",\"Mr\"]],[[\"Dursley \"],[\". \",\"Durs-ley \"]],[[\", \",\"however \",\", \",\"had \",\"a \",\"perfectly \",\"normal \",\", \",\"owl-free \",\"morning \",\". \",\"He \",\"yelled \",\"at \",\"five \",\"different \",\"people \",\". \",\"He \",\"made \",\"several \",\"important \",\"telephone \",\"calls \",\"and \",\"shouted \",\"a \",\"bit \",\"more \",\". \",\"He \",\"was \",\"in \",\"a \",\"very \",\"good \",\"mood \",\"until \"],[\", \",\"however \",\", \",\"had \",\"a \",\"perfectly \",\"normal \",\", \",\"owl-free \",\"morning \",\". \",\"He \",\"yelled \",\"at \",\"five \",\"different \",\"people \",\". \",\"He \",\"made \",\"several \",\"important \",\"telephone \",\"calls \",\"and \",\"shouted \",\"a \",\"bit \",\"more \",\". \",\"He \",\"was \",\"in \",\"a \",\"very \",\"good \",\"mood \",\"until \"]],[[\"lunch-time \"],[\"lunchtime \"]],[[\", \",\"when \",\"he \",\"thought \",\"he \",\"’ \",\"d \",\"stretch \",\"his \",\"legs \",\"and \",\"walk \",\"across \",\"the \",\"road \",\"to \",\"buy \",\"himself \",\"a \",\"bun \",\"from \",\"the \"],[\", \",\"when \",\"he \",\"thought \",\"he \",\"’ \",\"d \",\"stretch \",\"his \",\"legs \",\"and \",\"walk \",\"across \",\"the \",\"road \",\"to \",\"buy \",\"himself \",\"a \",\"bun \",\"from \",\"the \"]],[[\"baker \",\"’ \",\"s \",\"opposite \"],[\"bakery \"]],[[\". \",\"He \"],[\". \",\"He \"]],[[\"’ \"],[]],[[\"d \",\"forgotten \",\"all \",\"about \",\"the \",\"people \",\"in \",\"cloaks \",\"until \",\"he \",\"passed \",\"a \",\"group \",\"of \",\"them \",\"next \",\"to \",\"the \"],[\"d \",\"forgotten \",\"all \",\"about \",\"the \",\"people \",\"in \",\"cloaks \",\"until \",\"he \",\"passed \",\"a \",\"group \",\"of \",\"them \",\"next \",\"to \",\"the \"]],[[\"baker \",\"’ \",\"s \"],[\"bakers \"]],[[\". \",\"He \",\"eyed \",\"them \",\"angrily \",\"as \",\"he \",\"passed \",\". \",\"He \",\"didn \",\"’ \",\"t \",\"know \",\"why \",\", \",\"but \",\"they \",\"made \",\"him \",\"uneasy \",\". \",\"This \"],[\". \",\"He \",\"eyed \",\"them \",\"angrily \",\"as \",\"he \",\"passed \",\". \",\"He \",\"didn \",\"’ \",\"t \",\"know \",\"why \",\", \",\"but \",\"they \",\"made \",\"him \",\"uneasy \",\". \",\"This \"]],[[\"lot \"],[\"bunch \"]],[[\"were \",\"whispering \",\"excitedly \",\", \",\"too \",\", \",\"and \",\"he \",\"couldn \",\"’ \",\"t \",\"see \",\"a \",\"single \",\"collecting \",\"tin \",\". \",\"It \",\"was \",\"on \",\"his \",\"way \",\"back \",\"past \",\"them \",\", \",\"clutching \",\"a \",\"large \",\"doughnut \",\"in \",\"a \",\"bag \",\", \",\"that \",\"he \",\"caught \",\"a \",\"few \",\"words \",\"of \",\"what \",\"they \",\"were \",\"saying \",\". \"],[\"were \",\"whispering \",\"excitedly \",\", \",\"too \",\", \",\"and \",\"he \",\"couldn \",\"’ \",\"t \",\"see \",\"a \",\"single \",\"collecting \",\"tin \",\". \",\"It \",\"was \",\"on \",\"his \",\"way \",\"back \",\"past \",\"them \",\", \",\"clutching \",\"a \",\"large \",\"doughnut \",\"in \",\"a \",\"bag \",\", \",\"that \",\"he \",\"caught \",\"a \",\"few \",\"words \",\"of \",\"what \",\"they \",\"were \",\"saying \",\". \"]],[[\"‘ \"],[\"“ \"]],[[\"The \",\"Potters \",\", \",\"that \",\"’ \",\"s \",\"right \",\", \",\"that \",\"’ \",\"s \",\"what \",\"I \",\"heard \"],[\"The \",\"Potters \",\", \",\"that \",\"’ \",\"s \",\"right \",\", \",\"that \",\"’ \",\"s \",\"what \",\"I \",\"heard \"]],[[\"– \",\"’ \",\"‘ \",\"– \"],[\"— \",\"” \",\"“ \",\"— \"]],[[\"yes \",\", \",\"their \",\"son \",\", \",\"Harry \"],[\"yes \",\", \",\"their \",\"son \",\", \",\"Harry \"]],[[\"– \",\"’ \"],[\"— \",\"” \"]],[[\"Mr \"],[\"Mr\"]],[[],[\". \"]],[[\"Dursley \",\"stopped \",\"dead \",\". \",\"Fear \",\"flooded \",\"him \",\". \",\"He \",\"looked \",\"back \",\"at \",\"the \",\"whisperers \",\"as \",\"if \",\"he \",\"wanted \",\"to \",\"say \",\"something \",\"to \",\"them \",\", \",\"but \",\"thought \",\"better \",\"of \",\"it \",\". \",\"He \",\"dashed \",\"back \",\"across \",\"the \",\"road \",\", \",\"hurried \",\"up \",\"to \",\"his \",\"office \",\", \",\"snapped \",\"at \",\"his \",\"secretary \",\"not \",\"to \",\"disturb \",\"him \",\", \",\"seized \",\"his \",\"telephone \"],[\"Dursley \",\"stopped \",\"dead \",\". \",\"Fear \",\"flooded \",\"him \",\". \",\"He \",\"looked \",\"back \",\"at \",\"the \",\"whisperers \",\"as \",\"if \",\"he \",\"wanted \",\"to \",\"say \",\"something \",\"to \",\"them \",\", \",\"but \",\"thought \",\"better \",\"of \",\"it \",\". \",\"He \",\"dashed \",\"back \",\"across \",\"the \",\"road \",\", \",\"hurried \",\"up \",\"to \",\"his \",\"office \",\", \",\"snapped \",\"at \",\"his \",\"secretary \",\"not \",\"to \",\"disturb \",\"him \",\", \",\"seized \",\"his \",\"telephone \"]],[[],[\", \"]],[[\"and \",\"had \",\"almost \",\"finished \"],[\"and \",\"had \",\"almost \",\"finished \"]],[[\"dialling \"],[\"dialing \"]],[[\"his \",\"home \",\"number \",\"when \",\"he \",\"changed \",\"his \",\"mind \",\". \",\"He \",\"put \",\"the \",\"receiver \",\"back \",\"down \",\"and \",\"stroked \",\"his \"],[\"his \",\"home \",\"number \",\"when \",\"he \",\"changed \",\"his \",\"mind \",\". \",\"He \",\"put \",\"the \",\"receiver \",\"back \",\"down \",\"and \",\"stroked \",\"his \"]],[[\"moustache \"],[\"mustache \"]],[[\", \",\"thinking… \",\"no \",\", \",\"he \",\"was \",\"being \",\"stupid \",\". \",\"Potter \",\"wasn \",\"’ \",\"t \",\"such \",\"an \",\"unusual \",\"name \",\". \",\"He \",\"was \",\"sure \",\"there \",\"were \",\"lots \",\"of \",\"people \",\"called \",\"Potter \",\"who \",\"had \",\"a \",\"son \",\"called \",\"Harry \",\". \",\"Come \",\"to \",\"think \",\"of \",\"it \",\", \",\"he \",\"wasn \",\"’ \",\"t \",\"even \",\"sure \",\"his \",\"nephew \",\"was \",\"called \",\"Harry \",\". \",\"He \",\"’ \",\"d \",\"never \",\"even \",\"seen \",\"the \",\"boy \",\". \",\"It \",\"might \",\"have \",\"been \",\"Harvey \",\". \",\"Or \",\"Harold \",\". \",\"There \",\"was \",\"no \",\"point \",\"in \",\"worrying \",\"Mrs \"],[\", \",\"thinking… \",\"no \",\", \",\"he \",\"was \",\"being \",\"stupid \",\". \",\"Potter \",\"wasn \",\"’ \",\"t \",\"such \",\"an \",\"unusual \",\"name \",\". \",\"He \",\"was \",\"sure \",\"there \",\"were \",\"lots \",\"of \",\"people \",\"called \",\"Potter \",\"who \",\"had \",\"a \",\"son \",\"called \",\"Harry \",\". \",\"Come \",\"to \",\"think \",\"of \",\"it \",\", \",\"he \",\"wasn \",\"’ \",\"t \",\"even \",\"sure \",\"his \",\"nephew \",\"was \",\"called \",\"Harry \",\". \",\"He \",\"’ \",\"d \",\"never \",\"even \",\"seen \",\"the \",\"boy \",\". \",\"It \",\"might \",\"have \",\"been \",\"Harvey \",\". \",\"Or \",\"Harold \",\". \",\"There \",\"was \",\"no \",\"point \",\"in \",\"worrying \",\"Mrs\"]],[[],[\". \"]],[[\"Dursley \"],[\"Dursley \"]],[[\", \"],[\"; \"]],[[\"she \",\"always \",\"got \",\"so \",\"upset \",\"at \",\"any \",\"mention \",\"of \",\"her \",\"sister \",\". \",\"He \",\"didn \",\"’ \",\"t \",\"blame \",\"her \"],[\"she \",\"always \",\"got \",\"so \",\"upset \",\"at \",\"any \",\"mention \",\"of \",\"her \",\"sister \",\". \",\"He \",\"didn \",\"’ \",\"t \",\"blame \",\"her \"]],[[\"– \"],[\"— \"]],[[\"if \",\"he \",\"’ \",\"d \",\"had \",\"a \",\"sister \",\"like \",\"that… \",\"but \",\"all \",\"the \",\"same \",\", \",\"those \",\"people \",\"in \",\"cloaks… \",\"He \",\"found \",\"it \",\"a \",\"lot \",\"harder \",\"to \",\"concentrate \",\"on \",\"drills \",\"that \",\"afternoon \"],[\"if \",\"he \",\"’ \",\"d \",\"had \",\"a \",\"sister \",\"like \",\"that… \",\"but \",\"all \",\"the \",\"same \",\", \",\"those \",\"people \",\"in \",\"cloaks… \",\"He \",\"found \",\"it \",\"a \",\"lot \",\"harder \",\"to \",\"concentrate \",\"on \",\"drills \",\"that \",\"afternoon \"]],[[\", \"],[]],[[\"and \",\"when \",\"he \",\"left \",\"the \",\"building \",\"at \",\"five \",\"o \",\"’ \",\"clock \",\", \",\"he \",\"was \",\"still \",\"so \",\"worried \",\"that \",\"he \",\"walked \",\"straight \",\"into \",\"someone \",\"just \",\"outside \",\"the \",\"door \",\". \"],[\"and \",\"when \",\"he \",\"left \",\"the \",\"building \",\"at \",\"five \",\"o \",\"’ \",\"clock \",\", \",\"he \",\"was \",\"still \",\"so \",\"worried \",\"that \",\"he \",\"walked \",\"straight \",\"into \",\"someone \",\"just \",\"outside \",\"the \",\"door \",\". \"]],[[\"‘ \"],[\"“ \"]],[[\"Sorry \",\", \"],[\"Sorry \",\", \"]],[[\"’ \"],[\"” \"]],[[\"he \",\"grunted \",\", \",\"as \",\"the \",\"tiny \",\"old \",\"man \",\"stumbled \",\"and \",\"almost \",\"fell \",\". \",\"It \",\"was \",\"a \",\"few \",\"seconds \",\"before \",\"Mr \"],[\"he \",\"grunted \",\", \",\"as \",\"the \",\"tiny \",\"old \",\"man \",\"stumbled \",\"and \",\"almost \",\"fell \",\". \",\"It \",\"was \",\"a \",\"few \",\"seconds \",\"before \",\"Mr\"]],[[],[\". \"]],[[\"Dursley \"],[\"Dursley \"]],[[\"realised \"],[\"realized \"]],[[\"that \",\"the \",\"man \",\"was \",\"wearing \",\"a \",\"violet \",\"cloak \",\". \",\"He \",\"didn \",\"’ \",\"t \",\"seem \",\"at \",\"all \",\"upset \",\"at \",\"being \",\"almost \",\"knocked \",\"to \",\"the \",\"ground \",\". \",\"On \",\"the \",\"contrary \",\", \",\"his \",\"face \",\"split \",\"into \",\"a \",\"wide \",\"smile \",\"and \",\"he \",\"said \",\"in \",\"a \",\"squeaky \",\"voice \",\"that \",\"made \"],[\"that \",\"the \",\"man \",\"was \",\"wearing \",\"a \",\"violet \",\"cloak \",\". \",\"He \",\"didn \",\"’ \",\"t \",\"seem \",\"at \",\"all \",\"upset \",\"at \",\"being \",\"almost \",\"knocked \",\"to \",\"the \",\"ground \",\". \",\"On \",\"the \",\"contrary \",\", \",\"his \",\"face \",\"split \",\"into \",\"a \",\"wide \",\"smile \",\"and \",\"he \",\"said \",\"in \",\"a \",\"squeaky \",\"voice \",\"that \",\"made \"]],[[\"passers-by \"],[\"passersby \"]],[[\"stare \"],[\"stare \"]],[[\": \",\"‘ \"],[\", \",\"“ \"]],[[\"Don \",\"’ \",\"t \",\"be \",\"sorry \",\", \",\"my \",\"dear \",\"sir \",\", \",\"for \",\"nothing \",\"could \",\"upset \",\"me \",\"today \",\"! \",\"Rejoice \",\", \",\"for \",\"You-Know-Who \",\"has \",\"gone \",\"at \",\"last \",\"! \",\"Even \",\"Muggles \",\"like \",\"yourself \",\"should \",\"be \",\"celebrating \",\", \",\"this \",\"happy \",\", \",\"happy \",\"day \",\"! \"],[\"Don \",\"’ \",\"t \",\"be \",\"sorry \",\", \",\"my \",\"dear \",\"sir \",\", \",\"for \",\"nothing \",\"could \",\"upset \",\"me \",\"today \",\"! \",\"Rejoice \",\", \",\"for \",\"You-Know-Who \",\"has \",\"gone \",\"at \",\"last \",\"! \",\"Even \",\"Muggles \",\"like \",\"yourself \",\"should \",\"be \",\"celebrating \",\", \",\"this \",\"happy \",\", \",\"happy \",\"day \",\"! \"]],[[\"’ \"],[\"” \"]],[[\"And \",\"the \",\"old \",\"man \",\"hugged \",\"Mr \"],[\"And \",\"the \",\"old \",\"man \",\"hugged \",\"Mr\"]],[[],[\". \"]],[[\"Dursley \",\"around \",\"the \",\"middle \",\"and \",\"walked \",\"off \",\". \",\"Mr \"],[\"Dursley \",\"around \",\"the \",\"middle \",\"and \",\"walked \",\"off \",\". \",\"Mr\"]],[[],[\". \"]],[[\"Dursley \",\"stood \",\"rooted \",\"to \",\"the \",\"spot \",\". \",\"He \",\"had \",\"been \",\"hugged \",\"by \",\"a \",\"complete \",\"stranger \",\". \",\"He \",\"also \",\"thought \",\"he \",\"had \",\"been \",\"called \",\"a \",\"Muggle \",\", \",\"whatever \",\"that \",\"was \",\". \",\"He \",\"was \",\"rattled \",\". \",\"He \",\"hurried \",\"to \",\"his \",\"car \",\"and \",\"set \",\"off \"],[\"Dursley \",\"stood \",\"rooted \",\"to \",\"the \",\"spot \",\". \",\"He \",\"had \",\"been \",\"hugged \",\"by \",\"a \",\"complete \",\"stranger \",\". \",\"He \",\"also \",\"thought \",\"he \",\"had \",\"been \",\"called \",\"a \",\"Muggle \",\", \",\"whatever \",\"that \",\"was \",\". \",\"He \",\"was \",\"rattled \",\". \",\"He \",\"hurried \",\"to \",\"his \",\"car \",\"and \",\"set \",\"off \"]],[[],[\"for \"]],[[\"home \",\", \",\"hoping \",\"he \",\"was \",\"imagining \",\"things \",\", \",\"which \",\"he \",\"had \",\"never \",\"hoped \",\"before \",\", \",\"because \",\"he \",\"didn \",\"’ \",\"t \",\"approve \",\"of \",\"imagination \",\". \",\"As \",\"he \",\"pulled \",\"into \",\"the \",\"driveway \",\"of \",\"number \",\"four \",\", \",\"the \",\"first \",\"thing \",\"he \",\"saw \"],[\"home \",\", \",\"hoping \",\"he \",\"was \",\"imagining \",\"things \",\", \",\"which \",\"he \",\"had \",\"never \",\"hoped \",\"before \",\", \",\"because \",\"he \",\"didn \",\"’ \",\"t \",\"approve \",\"of \",\"imagination \",\". \",\"As \",\"he \",\"pulled \",\"into \",\"the \",\"driveway \",\"of \",\"number \",\"four \",\", \",\"the \",\"first \",\"thing \",\"he \",\"saw \"]],[[\"– \"],[\"— \"]],[[\"and \",\"it \",\"didn \",\"’ \",\"t \",\"improve \",\"his \",\"mood \"],[\"and \",\"it \",\"didn \",\"’ \",\"t \",\"improve \",\"his \",\"mood \"]],[[\"– \"],[\"— \"]],[[\"was \",\"the \",\"tabby \",\"cat \",\"he \",\"’ \",\"d \",\"spotted \",\"that \",\"morning \",\". \",\"It \",\"was \",\"now \",\"sitting \",\"on \",\"his \",\"garden \",\"wall \",\". \",\"He \",\"was \",\"sure \",\"it \",\"was \",\"the \",\"same \",\"one \",\"; \",\"it \",\"had \",\"the \",\"same \",\"markings \",\"around \",\"its \",\"eyes \",\". \"],[\"was \",\"the \",\"tabby \",\"cat \",\"he \",\"’ \",\"d \",\"spotted \",\"that \",\"morning \",\". \",\"It \",\"was \",\"now \",\"sitting \",\"on \",\"his \",\"garden \",\"wall \",\". \",\"He \",\"was \",\"sure \",\"it \",\"was \",\"the \",\"same \",\"one \",\"; \",\"it \",\"had \",\"the \",\"same \",\"markings \",\"around \",\"its \",\"eyes \",\". \"]],[[\"‘ \"],[\"“ \"]],[[\"Shoo \",\"! \"],[\"Shoo \",\"! \"]],[[\"’ \"],[\"” \"]],[[\"said \",\"Mr \"],[\"said \",\"Mr\"]],[[],[\". \"]],[[\"Dursley \",\"loudly \",\". \",\"The \",\"cat \",\"didn \",\"’ \",\"t \",\"move \",\". \",\"It \",\"just \",\"gave \",\"him \",\"a \",\"stern \",\"look \",\". \",\"Was \",\"this \",\"normal \",\"cat \"],[\"Dursley \",\"loudly \",\". \",\"The \",\"cat \",\"didn \",\"’ \",\"t \",\"move \",\". \",\"It \",\"just \",\"gave \",\"him \",\"a \",\"stern \",\"look \",\". \",\"Was \",\"this \",\"normal \",\"cat \"]],[[\"behaviour \",\", \"],[\"behavior \",\"? \"]],[[\"Mr \"],[\"Mr\"]],[[],[\". \"]],[[\"Dursley \",\"wondered \",\". \",\"Trying \",\"to \",\"pull \",\"himself \",\"together \",\", \",\"he \",\"let \",\"himself \",\"into \",\"the \",\"house \",\". \",\"He \",\"was \",\"still \",\"determined \",\"not \",\"to \",\"mention \",\"anything \",\"to \",\"his \",\"wife \",\". \",\"Mrs \"],[\"Dursley \",\"wondered \",\". \",\"Trying \",\"to \",\"pull \",\"himself \",\"together \",\", \",\"he \",\"let \",\"himself \",\"into \",\"the \",\"house \",\". \",\"He \",\"was \",\"still \",\"determined \",\"not \",\"to \",\"mention \",\"anything \",\"to \",\"his \",\"wife \",\". \",\"Mrs\"]],[[],[\". \"]],[[\"Dursley \",\"had \",\"had \",\"a \",\"nice \",\", \",\"normal \",\"day \",\". \",\"She \",\"told \",\"him \",\"over \",\"dinner \",\"all \",\"about \",\"Mrs \"],[\"Dursley \",\"had \",\"had \",\"a \",\"nice \",\", \",\"normal \",\"day \",\". \",\"She \",\"told \",\"him \",\"over \",\"dinner \",\"all \",\"about \",\"Mrs\"]],[[],[\". \"]],[[\"Next \",\"Door \",\"’ \",\"s \",\"problems \",\"with \",\"her \",\"daughter \",\"and \",\"how \",\"Dudley \",\"had \"],[\"Next \",\"Door \",\"’ \",\"s \",\"problems \",\"with \",\"her \",\"daughter \",\"and \",\"how \",\"Dudley \",\"had \"]],[[\"learnt \"],[\"learned \"]],[[\"a \",\"new \",\"word \",\"( \"],[\"a \",\"new \",\"word \",\"( \"]],[[\"‘ \",\"Shan \"],[\"“ \",\"Won \"]],[[\"’ \",\"t \",\"! \"],[\"’ \",\"t \",\"! \"]],[[\"’ \"],[\"” \"]],[[\") \",\". \",\"Mr \"],[\") \",\". \",\"Mr\"]],[[],[\". \"]],[[\"Dursley \",\"tried \",\"to \",\"act \",\"normally \",\". \",\"When \",\"Dudley \",\"had \",\"been \",\"put \",\"to \",\"bed \",\", \",\"he \",\"went \",\"into \",\"the \"],[\"Dursley \",\"tried \",\"to \",\"act \",\"normally \",\". \",\"When \",\"Dudley \",\"had \",\"been \",\"put \",\"to \",\"bed \",\", \",\"he \",\"went \",\"into \",\"the \"]],[[\"living-room \"],[\"living \",\"room \"]],[[\"in \",\"time \",\"to \",\"catch \",\"the \",\"last \",\"report \",\"on \",\"the \",\"evening \",\"news \",\": \"],[\"in \",\"time \",\"to \",\"catch \",\"the \",\"last \",\"report \",\"on \",\"the \",\"evening \",\"news \",\": \"]],[[\"‘ \"],[\"“ \"]],[[\"And \",\"finally \",\", \",\"bird-watchers \",\"everywhere \",\"have \",\"reported \",\"that \",\"the \",\"nation \",\"’ \",\"s \",\"owls \",\"have \",\"been \",\"behaving \",\"very \",\"unusually \",\"today \",\". \",\"Although \",\"owls \",\"normally \",\"hunt \",\"at \",\"night \",\"and \",\"are \",\"hardly \",\"ever \",\"seen \",\"in \",\"daylight \",\", \",\"there \",\"have \",\"been \",\"hundreds \",\"of \",\"sightings \",\"of \",\"these \",\"birds \",\"flying \",\"in \",\"every \",\"direction \",\"since \",\"sunrise \",\". \",\"Experts \",\"are \",\"unable \",\"to \",\"explain \",\"why \",\"the \",\"owls \",\"have \",\"suddenly \",\"changed \",\"their \",\"sleeping \",\"pattern\",\". \"],[\"And \",\"finally \",\", \",\"bird-watchers \",\"everywhere \",\"have \",\"reported \",\"that \",\"the \",\"nation \",\"’ \",\"s \",\"owls \",\"have \",\"been \",\"behaving \",\"very \",\"unusually \",\"today \",\". \",\"Although \",\"owls \",\"normally \",\"hunt \",\"at \",\"night \",\"and \",\"are \",\"hardly \",\"ever \",\"seen \",\"in \",\"daylight \",\", \",\"there \",\"have \",\"been \",\"hundreds \",\"of \",\"sightings \",\"of \",\"these \",\"birds \",\"flying \",\"in \",\"every \",\"direction \",\"since \",\"sunrise \",\". \",\"Experts \",\"are \",\"unable \",\"to \",\"explain \",\"why \",\"the \",\"owls \",\"have \",\"suddenly \",\"changed \",\"their \",\"sleeping \",\"pattern\",\". \"]],[[\"’ \"],[\"” \"]],[[\"The \"],[\"The \"]],[[\"news \",\"reader \"],[\"newscaster \"]],[[\"allowed \",\"himself \",\"a \",\"grin \",\". \"],[\"allowed \",\"himself \",\"a \",\"grin \",\". \"]],[[\"‘ \"],[\"“ \"]],[[\"Most \",\"mysterious \",\". \",\"And \",\"now \",\", \",\"over \",\"to \",\"Jim \",\"McGuffin \",\"with \",\"the \",\"weather \",\". \",\"Going \",\"to \",\"be \",\"any \",\"more \",\"showers \",\"of \",\"owls \",\"tonight \",\", \",\"Jim \",\"? \"],[\"Most \",\"mysterious \",\". \",\"And \",\"now \",\", \",\"over \",\"to \",\"Jim \",\"McGuffin \",\"with \",\"the \",\"weather \",\". \",\"Going \",\"to \",\"be \",\"any \",\"more \",\"showers \",\"of \",\"owls \",\"tonight \",\", \",\"Jim \",\"? \"]],[[\"’ \",\"‘ \"],[\"” \",\"“ \"]],[[\"Well \",\", \",\"Ted \",\", \"],[\"Well \",\", \",\"Ted \",\", \"]],[[\"’ \"],[\"” \"]],[[\"said \",\"the \",\"weatherman \",\", \"],[\"said \",\"the \",\"weatherman \",\", \"]],[[\"‘ \"],[\"“ \"]],[[\"I \",\"don \",\"’ \",\"t \",\"know \",\"about \",\"that \",\", \",\"but \",\"it \",\"’ \",\"s \",\"not \",\"only \",\"the \",\"owls \",\"that \",\"have \",\"been \",\"acting \",\"oddly \",\"today \",\". \",\"Viewers \",\"as \",\"far \",\"apart \",\"as \",\"Kent \",\", \",\"Yorkshire \"],[\"I \",\"don \",\"’ \",\"t \",\"know \",\"about \",\"that \",\", \",\"but \",\"it \",\"’ \",\"s \",\"not \",\"only \",\"the \",\"owls \",\"that \",\"have \",\"been \",\"acting \",\"oddly \",\"today \",\". \",\"Viewers \",\"as \",\"far \",\"apart \",\"as \",\"Kent \",\", \",\"Yorkshire \"]],[[],[\", \"]],[[\"and \",\"Dundee \",\"have \",\"been \",\"phoning \",\"in \",\"to \",\"tell \",\"me \",\"that \",\"instead \",\"of \",\"the \",\"rain \",\"I \",\"promised \",\"yesterday \",\", \",\"they \",\"’ \",\"ve \",\"had \",\"a \",\"downpour \",\"of \",\"shooting \",\"stars \",\"! \",\"Perhaps \",\"people \",\"have \",\"been \",\"celebrating \",\"Bonfire \",\"Night \",\"early \"],[\"and \",\"Dundee \",\"have \",\"been \",\"phoning \",\"in \",\"to \",\"tell \",\"me \",\"that \",\"instead \",\"of \",\"the \",\"rain \",\"I \",\"promised \",\"yesterday \",\", \",\"they \",\"’ \",\"ve \",\"had \",\"a \",\"downpour \",\"of \",\"shooting \",\"stars \",\"! \",\"Perhaps \",\"people \",\"have \",\"been \",\"celebrating \",\"Bonfire \",\"Night \",\"early \"]],[[\"– \"],[\"— \"]],[[\"it \",\"’ \",\"s \",\"not \",\"until \",\"next \",\"week \",\", \",\"folks \",\"! \",\"But \",\"I \",\"can \",\"promise \",\"a \",\"wet \",\"night \",\"tonight\",\". \"],[\"it \",\"’ \",\"s \",\"not \",\"until \",\"next \",\"week \",\", \",\"folks \",\"! \",\"But \",\"I \",\"can \",\"promise \",\"a \",\"wet \",\"night \",\"tonight\",\". \"]],[[\"’ \"],[\"” \"]],[[\"Mr \"],[\"Mr\"]],[[],[\". \"]],[[\"Dursley \",\"sat \",\"frozen \",\"in \",\"his \",\"armchair \",\". \",\"Shooting \",\"stars \",\"all \",\"over \",\"Britain \",\"? \",\"Owls \",\"flying \",\"by \",\"daylight \",\"? \",\"Mysterious \",\"people \",\"in \",\"cloaks \",\"all \",\"over \",\"the \",\"place \",\"? \",\"And \",\"a \",\"whisper \",\", \",\"a \",\"whisper \",\"about \",\"the \",\"Potters… \",\"Mrs \"],[\"Dursley \",\"sat \",\"frozen \",\"in \",\"his \",\"armchair \",\". \",\"Shooting \",\"stars \",\"all \",\"over \",\"Britain \",\"? \",\"Owls \",\"flying \",\"by \",\"daylight \",\"? \",\"Mysterious \",\"people \",\"in \",\"cloaks \",\"all \",\"over \",\"the \",\"place \",\"? \",\"And \",\"a \",\"whisper \",\", \",\"a \",\"whisper \",\"about \",\"the \",\"Potters… \",\"Mrs\"]],[[],[\". \"]],[[\"Dursley \",\"came \",\"into \",\"the \"],[\"Dursley \",\"came \",\"into \",\"the \"]],[[\"living-room \"],[\"living \",\"room \"]],[[\"carrying \",\"two \",\"cups \",\"of \",\"tea \",\". \",\"It \",\"was \",\"no \",\"good \",\". \",\"He \",\"’ \",\"d \",\"have \",\"to \",\"say \",\"something \",\"to \",\"her \",\". \",\"He \",\"cleared \",\"his \",\"throat \",\"nervously \",\". \"],[\"carrying \",\"two \",\"cups \",\"of \",\"tea \",\". \",\"It \",\"was \",\"no \",\"good \",\". \",\"He \",\"’ \",\"d \",\"have \",\"to \",\"say \",\"something \",\"to \",\"her \",\". \",\"He \",\"cleared \",\"his \",\"throat \",\"nervously \",\". \"]],[[\"‘ \"],[\"“ \"]],[[\"Er \"],[\"Er \"]],[[\"– \"],[\"— \"]],[[\"Petunia \",\", \",\"dear \"],[\"Petunia \",\", \",\"dear \"]],[[\"– \"],[\"— \"]],[[\"you \",\"haven \",\"’ \",\"t \",\"heard \",\"from \",\"your \",\"sister \",\"lately \",\", \",\"have \",\"you \",\"? \"],[\"you \",\"haven \",\"’ \",\"t \",\"heard \",\"from \",\"your \",\"sister \",\"lately \",\", \",\"have \",\"you \",\"? \"]],[[\"’ \"],[\"” \"]],[[\"As \",\"he \",\"had \",\"expected \",\", \",\"Mrs \"],[\"As \",\"he \",\"had \",\"expected \",\", \",\"Mrs\"]],[[],[\". \"]],[[\"Dursley \",\"looked \",\"shocked \",\"and \",\"angry \",\". \",\"After \",\"all \",\", \",\"they \",\"normally \",\"pretended \",\"she \",\"didn \",\"’ \",\"t \",\"have \",\"a \",\"sister \",\". \"],[\"Dursley \",\"looked \",\"shocked \",\"and \",\"angry \",\". \",\"After \",\"all \",\", \",\"they \",\"normally \",\"pretended \",\"she \",\"didn \",\"’ \",\"t \",\"have \",\"a \",\"sister \",\". \"]],[[\"‘ \"],[\"“ \"]],[[\"No \",\", \"],[\"No \",\", \"]],[[\"’ \"],[\"” \"]],[[\"she \",\"said \",\"sharply \",\". \"],[\"she \",\"said \",\"sharply \",\". \"]],[[\"‘ \"],[\"“ \"]],[[\"Why \",\"? \"],[\"Why \",\"? \"]],[[\"’ \",\"‘ \"],[\"” \",\"“ \"]],[[\"Funny \",\"stuff \",\"on \",\"the \",\"news \",\", \"],[\"Funny \",\"stuff \",\"on \",\"the \",\"news \",\", \"]],[[\"’ \"],[\"” \"]],[[\"Mr \"],[\"Mr\"]],[[],[\". \"]],[[\"Dursley \",\"mumbled \",\". \"],[\"Dursley \",\"mumbled \",\". \"]],[[\"‘ \"],[\"“ \"]],[[\"Owls… \",\"shooting \",\"stars… \",\"and \",\"there \",\"were \",\"a \",\"lot \",\"of \",\"funny-looking \",\"people \",\"in \",\"town \",\"today… \"],[\"Owls… \",\"shooting \",\"stars… \",\"and \",\"there \",\"were \",\"a \",\"lot \",\"of \",\"funny-looking \",\"people \",\"in \",\"town \",\"today… \"]],[[\"’ \",\"‘ \"],[\". \",\"” \",\"“ \"]],[[\"So \",\"? \"],[\"So \",\"? \"]],[[\"’ \"],[\"” \"]],[[\"snapped \",\"Mrs \"],[\"snapped \",\"Mrs\"]],[[],[\". \"]],[[\"Dursley \",\". \"],[\"Dursley \",\". \"]],[[\"‘ \"],[\"“ \"]],[[\"Well \",\", \",\"I \",\"just \",\"thought… \",\"maybe… \",\"it \",\"was \",\"something \",\"to \",\"do \",\"with… \",\"you \",\"know… \",\"her \"],[\"Well \",\", \",\"I \",\"just \",\"thought… \",\"maybe… \",\"it \",\"was \",\"something \",\"to \",\"do \",\"with… \",\"you \",\"know… \",\"her \"]],[[\"lot\",\". \",\"’ \"],[\"crowd\",\". \",\"” \"]],[[\"Mrs \"],[\"Mrs\"]],[[],[\". \"]],[[\"Dursley \",\"sipped \",\"her \",\"tea \",\"through \",\"pursed \",\"lips \",\". \",\"Mr \"],[\"Dursley \",\"sipped \",\"her \",\"tea \",\"through \",\"pursed \",\"lips \",\". \",\"Mr\"]],[[],[\". \"]],[[\"Dursley \",\"wondered \",\"whether \",\"he \",\"dared \",\"tell \",\"her \",\"he \",\"’ \",\"d \",\"heard \",\"the \",\"name \"],[\"Dursley \",\"wondered \",\"whether \",\"he \",\"dared \",\"tell \",\"her \",\"he \",\"’ \",\"d \",\"heard \",\"the \",\"name \"]],[[\"‘ \"],[\"“ \"]],[[\"Potter \"],[\"Potter\"]],[[\"’ \",\". \"],[\". \",\"” \"]],[[\"He \",\"decided \",\"he \",\"didn \",\"’ \",\"t \",\"dare \",\". \",\"Instead \",\"he \",\"said \",\", \",\"as \",\"casually \",\"as \",\"he \",\"could \",\", \"],[\"He \",\"decided \",\"he \",\"didn \",\"’ \",\"t \",\"dare \",\". \",\"Instead \",\"he \",\"said \",\", \",\"as \",\"casually \",\"as \",\"he \",\"could \",\", \"]],[[\"‘ \"],[\"“ \"]],[[\"Their \",\"son \"],[\"Their \",\"son \"]],[[\"– \"],[\"— \"]],[[\"he \",\"’ \",\"d \",\"be \",\"about \",\"Dudley \",\"’ \",\"s \",\"age \",\"now \",\", \",\"wouldn \",\"’ \",\"t \",\"he \",\"? \"],[\"he \",\"’ \",\"d \",\"be \",\"about \",\"Dudley \",\"’ \",\"s \",\"age \",\"now \",\", \",\"wouldn \",\"’ \",\"t \",\"he \",\"? \"]],[[\"’ \",\"‘ \"],[\"” \",\"“ \"]],[[\"I \",\"suppose \",\"so \",\", \"],[\"I \",\"suppose \",\"so \",\", \"]],[[\"’ \"],[\"” \"]],[[\"said \",\"Mrs \"],[\"said \",\"Mrs\"]],[[],[\". \"]],[[\"Dursley \",\"stiffly \",\". \"],[\"Dursley \",\"stiffly \",\". \"]],[[\"‘ \"],[\"“ \"]],[[\"What \",\"’ \",\"s \",\"his \",\"name \",\"again \",\"? \",\"Howard \",\", \",\"isn \",\"’ \",\"t \",\"it \",\"? \"],[\"What \",\"’ \",\"s \",\"his \",\"name \",\"again \",\"? \",\"Howard \",\", \",\"isn \",\"’ \",\"t \",\"it \",\"? \"]],[[\"’ \",\"‘ \"],[\"” \",\"“ \"]],[[\"Harry \",\". \",\"Nasty \",\", \",\"common \",\"name \",\", \",\"if \",\"you \",\"ask \",\"me\",\". \"],[\"Harry \",\". \",\"Nasty \",\", \",\"common \",\"name \",\", \",\"if \",\"you \",\"ask \",\"me\",\". \"]],[[\"’ \",\"‘ \"],[\"” \",\"“ \"]],[[\"Oh \",\", \",\"yes \",\", \"],[\"Oh \",\", \",\"yes \",\", \"]],[[\"’ \"],[\"” \"]],[[\"said \",\"Mr \"],[\"said \",\"Mr\"]],[[],[\". \"]],[[\"Dursley \",\", \",\"his \",\"heart \",\"sinking \",\"horribly \",\". \"],[\"Dursley \",\", \",\"his \",\"heart \",\"sinking \",\"horribly \",\". \"]],[[\"‘ \"],[\"“ \"]],[[\"Yes \",\", \",\"I \",\"quite \",\"agree\",\". \"],[\"Yes \",\", \",\"I \",\"quite \",\"agree\",\". \"]],[[\"’ \"],[\"” \"]],[[\"He \",\"didn \",\"’ \",\"t \",\"say \",\"another \",\"word \",\"on \",\"the \",\"subject \",\"as \",\"they \",\"went \",\"upstairs \",\"to \",\"bed \",\". \",\"While \",\"Mrs \"],[\"He \",\"didn \",\"’ \",\"t \",\"say \",\"another \",\"word \",\"on \",\"the \",\"subject \",\"as \",\"they \",\"went \",\"upstairs \",\"to \",\"bed \",\". \",\"While \",\"Mrs\"]],[[],[\". \"]],[[\"Dursley \",\"was \",\"in \",\"the \",\"bathroom \",\", \",\"Mr \"],[\"Dursley \",\"was \",\"in \",\"the \",\"bathroom \",\", \",\"Mr\"]],[[],[\". \"]],[[\"Dursley \",\"crept \",\"to \",\"the \",\"bedroom \",\"window \",\"and \",\"peered \",\"down \",\"into \",\"the \",\"front \",\"garden \",\". \",\"The \",\"cat \",\"was \",\"still \",\"there \",\". \",\"It \",\"was \",\"staring \",\"down \",\"Privet \",\"Drive \",\"as \",\"though \",\"it \"],[\"Dursley \",\"crept \",\"to \",\"the \",\"bedroom \",\"window \",\"and \",\"peered \",\"down \",\"into \",\"the \",\"front \",\"garden \",\". \",\"The \",\"cat \",\"was \",\"still \",\"there \",\". \",\"It \",\"was \",\"staring \",\"down \",\"Privet \",\"Drive \",\"as \",\"though \",\"it \"]],[[\"was \"],[\"were \"]],[[\"waiting \",\"for \",\"something \",\". \",\"Was \",\"he \",\"imagining \",\"things \",\"? \",\"Could \",\"all \",\"this \",\"have \",\"anything \",\"to \",\"do \",\"with \",\"the \",\"Potters \",\"? \",\"If \",\"it \",\"did… \",\"if \",\"it \",\"got \",\"out \",\"that \",\"they \",\"were \",\"related \",\"to \",\"a \",\"pair \"],[\"waiting \",\"for \",\"something \",\". \",\"Was \",\"he \",\"imagining \",\"things \",\"? \",\"Could \",\"all \",\"this \",\"have \",\"anything \",\"to \",\"do \",\"with \",\"the \",\"Potters \",\"? \",\"If \",\"it \",\"did… \",\"if \",\"it \",\"got \",\"out \",\"that \",\"they \",\"were \",\"related \",\"to \",\"a \",\"pair \"]],[[\"of \",\"– \"],[\"of— \"]],[[\"well \",\", \",\"he \",\"didn \",\"’ \",\"t \",\"think \",\"he \",\"could \",\"bear \",\"it \",\". \",\"The \",\"Dursleys \",\"got \",\"into \",\"bed \",\". \",\"Mrs \"],[\"well \",\", \",\"he \",\"didn \",\"’ \",\"t \",\"think \",\"he \",\"could \",\"bear \",\"It \",\". \",\"The \",\"Dursleys \",\"got \",\"into \",\"bed \",\". \",\"Mrs\"]],[[],[\". \"]],[[\"Dursley \",\"fell \",\"asleep \",\"quickly \",\"but \",\"Mr \"],[\"Dursley \",\"fell \",\"asleep \",\"quickly \",\"but \",\"Mr\"]],[[],[\". \"]],[[\"Dursley \",\"lay \",\"awake \",\", \",\"turning \",\"it \",\"all \",\"over \",\"in \",\"his \",\"mind \",\". \",\"His \",\"last \",\", \",\"comforting \",\"thought \",\"before \",\"he \",\"fell \",\"asleep \",\"was \",\"that \",\"even \",\"if \",\"the \",\"Potters \",\"were \",\"involved \",\", \",\"there \",\"was \",\"no \",\"reason \",\"for \",\"them \",\"to \",\"come \",\"near \",\"him \",\"and \",\"Mrs \"],[\"Dursley \",\"lay \",\"awake \",\", \",\"turning \",\"it \",\"all \",\"over \",\"in \",\"his \",\"mind \",\". \",\"His \",\"last \",\", \",\"comforting \",\"thought \",\"before \",\"he \",\"fell \",\"asleep \",\"was \",\"that \",\"even \",\"if \",\"the \",\"Potters \",\"were \",\"involved \",\", \",\"there \",\"was \",\"no \",\"reason \",\"for \",\"them \",\"to \",\"come \",\"near \",\"him \",\"and \",\"Mrs\"]],[[],[\". \"]],[[\"Dursley \",\". \",\"The \",\"Potters \",\"knew \",\"very \",\"well \",\"what \",\"he \",\"and \",\"Petunia \",\"thought \",\"about \",\"them \",\"and \",\"their \",\"kind… \",\"He \",\"couldn \",\"’ \",\"t \",\"see \",\"how \",\"he \",\"and \",\"Petunia \",\"could \",\"get \",\"mixed \",\"up \",\"in \",\"anything \",\"that \",\"might \",\"be \",\"going \",\"on \"],[\"Dursley \",\". \",\"The \",\"Potters \",\"knew \",\"very \",\"well \",\"what \",\"he \",\"and \",\"Petunia \",\"thought \",\"about \",\"them \",\"and \",\"their \",\"kind… \",\"He \",\"couldn \",\"’ \",\"t \",\"see \",\"how \",\"he \",\"and \",\"Petunia \",\"could \",\"get \",\"mixed \",\"up \",\"in \",\"anything \",\"that \",\"might \",\"be \",\"going \",\"on \"]],[[\". \"],[\"— \"]],[[\"He \",\"yawned \",\"and \",\"turned \",\"over \"],[\"he \",\"yawned \",\"and \",\"turned \",\"over \"]],[[\". \"],[\"— \"]],[[\"It \",\"couldn \",\"’ \",\"t \",\"affect \",\"them… \",\"How \",\"very \",\"wrong \",\"he \",\"was \",\". \",\"Mr \"],[\"it \",\"couldn \",\"’ \",\"t \",\"affect \",\"them… \",\"How \",\"very \",\"wrong \",\"he \",\"was \",\". \",\"Mr\"]],[[],[\". \"]],[[\"Dursley \",\"might \",\"have \",\"been \",\"drifting \",\"into \",\"an \",\"uneasy \",\"sleep \",\", \",\"but \",\"the \",\"cat \",\"on \",\"the \",\"wall \",\"outside \",\"was \",\"showing \",\"no \",\"sign \",\"of \",\"sleepiness \",\". \",\"It \",\"was \",\"sitting \",\"as \",\"still \",\"as \",\"a \",\"statue \",\", \",\"its \",\"eyes \",\"fixed \",\"unblinkingly \",\"on \",\"the \",\"far \",\"corner \",\"of \",\"Privet \",\"Drive \",\". \",\"It \",\"didn \",\"’ \",\"t \",\"so \",\"much \",\"as \",\"quiver \",\"when \",\"a \",\"car \",\"door \",\"slammed \"],[\"Dursley \",\"might \",\"have \",\"been \",\"drifting \",\"into \",\"an \",\"uneasy \",\"sleep \",\", \",\"but \",\"the \",\"cat \",\"on \",\"the \",\"wall \",\"outside \",\"was \",\"showing \",\"no \",\"sign \",\"of \",\"sleepiness \",\". \",\"It \",\"was \",\"sitting \",\"as \",\"still \",\"as \",\"a \",\"statue \",\", \",\"its \",\"eyes \",\"fixed \",\"unblinkingly \",\"on \",\"the \",\"far \",\"corner \",\"of \",\"Privet \",\"Drive \",\". \",\"It \",\"didn \",\"’ \",\"t \",\"so \",\"much \",\"as \",\"quiver \",\"when \",\"a \",\"car \",\"door \",\"slammed \"]],[[\"in \"],[\"on \"]],[[\"the \",\"next \",\"street \",\", \",\"nor \",\"when \",\"two \",\"owls \",\"swooped \",\"overhead \",\". \",\"In \",\"fact \",\", \",\"it \",\"was \",\"nearly \",\"midnight \",\"before \",\"the \",\"cat \",\"moved \",\"at \",\"all \",\". \",\"A \",\"man \",\"appeared \",\"on \",\"the \",\"corner \",\"the \",\"cat \",\"had \",\"been \",\"watching \",\", \",\"appeared \",\"so \",\"suddenly \",\"and \",\"silently \",\"you \",\"’ \",\"d \",\"have \",\"thought \",\"he \",\"’ \",\"d \",\"just \",\"popped \",\"out \",\"of \",\"the \",\"ground \",\". \",\"The \",\"cat \",\"’ \",\"s \",\"tail \",\"twitched \",\"and \",\"its \",\"eyes \",\"narrowed \",\". \",\"Nothing \",\"like \",\"this \",\"man \",\"had \",\"ever \",\"been \",\"seen \"],[\"the \",\"next \",\"street \",\", \",\"nor \",\"when \",\"two \",\"owls \",\"swooped \",\"overhead \",\". \",\"In \",\"fact \",\", \",\"it \",\"was \",\"nearly \",\"midnight \",\"before \",\"the \",\"cat \",\"moved \",\"at \",\"all \",\". \",\"A \",\"man \",\"appeared \",\"on \",\"the \",\"corner \",\"the \",\"cat \",\"had \",\"been \",\"watching \",\", \",\"appeared \",\"so \",\"suddenly \",\"and \",\"silently \",\"you \",\"’ \",\"d \",\"have \",\"thought \",\"he \",\"’ \",\"d \",\"just \",\"popped \",\"out \",\"of \",\"the \",\"ground \",\". \",\"The \",\"cat \",\"’ \",\"s \",\"tail \",\"twitched \",\"and \",\"its \",\"eyes \",\"narrowed \",\". \",\"Nothing \",\"like \",\"this \",\"man \",\"had \",\"ever \",\"been \",\"seen \"]],[[\"in \"],[\"on \"]],[[\"Privet \",\"Drive \",\". \",\"He \",\"was \",\"tall \",\", \",\"thin \"],[\"Privet \",\"Drive \",\". \",\"He \",\"was \",\"tall \",\", \",\"thin \"]],[[],[\", \"]],[[\"and \",\"very \",\"old \",\", \",\"judging \",\"by \",\"the \",\"silver \",\"of \",\"his \",\"hair \",\"and \",\"beard \",\", \",\"which \",\"were \",\"both \",\"long \",\"enough \",\"to \",\"tuck \",\"into \",\"his \",\"belt \",\". \",\"He \",\"was \",\"wearing \",\"long \",\"robes \",\", \",\"a \",\"purple \",\"cloak \"],[\"and \",\"very \",\"old \",\", \",\"judging \",\"by \",\"the \",\"silver \",\"of \",\"his \",\"hair \",\"and \",\"beard \",\", \",\"which \",\"were \",\"both \",\"long \",\"enough \",\"to \",\"tuck \",\"into \",\"his \",\"belt \",\". \",\"He \",\"was \",\"wearing \",\"long \",\"robes \",\", \",\"a \",\"purple \",\"cloak \"]],[[\"which \"],[\"that \"]],[[\"swept \",\"the \",\"ground \"],[\"swept \",\"the \",\"ground \"]],[[],[\", \"]],[[\"and \",\"high-heeled \",\", \",\"buckled \",\"boots \",\". \",\"His \",\"blue \",\"eyes \",\"were \",\"light \",\", \",\"bright \"],[\"and \",\"high-heeled \",\", \",\"buckled \",\"boots \",\". \",\"His \",\"blue \",\"eyes \",\"were \",\"light \",\", \",\"bright \"]],[[],[\", \"]],[[\"and \",\"sparkling \",\"behind \",\"half-moon \",\"spectacles \",\"and \",\"his \",\"nose \",\"was \",\"very \",\"long \",\"and \",\"crooked \",\", \",\"as \",\"though \",\"it \",\"had \",\"been \",\"broken \",\"at \",\"least \",\"twice \",\". \",\"This \",\"man \",\"’ \",\"s \",\"name \",\"was \",\"Albus \",\"Dumbledore \",\". \",\"Albus \",\"Dumbledore \",\"didn \",\"’ \",\"t \",\"seem \",\"to \"],[\"and \",\"sparkling \",\"behind \",\"half-moon \",\"spectacles \",\"and \",\"his \",\"nose \",\"was \",\"very \",\"long \",\"and \",\"crooked \",\", \",\"as \",\"though \",\"it \",\"had \",\"been \",\"broken \",\"at \",\"least \",\"twice \",\". \",\"This \",\"man \",\"’ \",\"s \",\"name \",\"was \",\"Albus \",\"Dumbledore \",\". \",\"Albus \",\"Dumbledore \",\"didn \",\"’ \",\"t \",\"seem \",\"to \"]],[[\"realise \"],[\"realize \"]],[[\"that \",\"he \",\"had \",\"just \",\"arrived \",\"in \",\"a \",\"street \",\"where \",\"everything \",\"from \",\"his \",\"name \",\"to \",\"his \",\"boots \",\"was \",\"unwelcome \",\". \",\"He \",\"was \",\"busy \",\"rummaging \",\"in \",\"his \",\"cloak \",\", \",\"looking \",\"for \",\"something \",\". \",\"But \",\"he \",\"did \",\"seem \",\"to \"],[\"that \",\"he \",\"had \",\"just \",\"arrived \",\"in \",\"a \",\"street \",\"where \",\"everything \",\"from \",\"his \",\"name \",\"to \",\"his \",\"boots \",\"was \",\"unwelcome \",\". \",\"He \",\"was \",\"busy \",\"rummaging \",\"in \",\"his \",\"cloak \",\", \",\"looking \",\"for \",\"something \",\". \",\"But \",\"he \",\"did \",\"seem \",\"to \"]],[[\"realise \"],[\"realize \"]],[[\"he \",\"was \",\"being \",\"watched \",\", \",\"because \",\"he \",\"looked \",\"up \",\"suddenly \",\"at \",\"the \",\"cat \",\", \",\"which \",\"was \",\"still \",\"staring \",\"at \",\"him \",\"from \",\"the \",\"other \",\"end \",\"of \",\"the \",\"street \",\". \",\"For \",\"some \",\"reason \",\", \",\"the \",\"sight \",\"of \",\"the \",\"cat \",\"seemed \",\"to \",\"amuse \",\"him \",\". \",\"He \",\"chuckled \",\"and \",\"muttered \",\", \"],[\"he \",\"was \",\"being \",\"watched \",\", \",\"because \",\"he \",\"looked \",\"up \",\"suddenly \",\"at \",\"the \",\"cat \",\", \",\"which \",\"was \",\"still \",\"staring \",\"at \",\"him \",\"from \",\"the \",\"other \",\"end \",\"of \",\"the \",\"street \",\". \",\"For \",\"some \",\"reason \",\", \",\"the \",\"sight \",\"of \",\"the \",\"cat \",\"seemed \",\"to \",\"amuse \",\"him \",\". \",\"He \",\"chuckled \",\"and \",\"muttered \",\", \"]],[[\"‘ \"],[\"“ \"]],[[\"I \",\"should \",\"have \",\"known\",\". \"],[\"I \",\"should \",\"have \",\"known\",\". \"]],[[\"’ \"],[\"” \"]],[[\"He \"],[\"He \"]],[[\"had \"],[]],[[\"found \",\"what \",\"he \",\"was \",\"looking \",\"for \",\"in \",\"his \",\"inside \",\"pocket \",\". \",\"It \",\"seemed \",\"to \",\"be \",\"a \",\"silver \",\"cigarette \",\"lighter \",\". \",\"He \",\"flicked \",\"it \",\"open \",\", \",\"held \",\"it \",\"up \",\"in \",\"the \",\"air \"],[\"found \",\"what \",\"he \",\"was \",\"looking \",\"for \",\"in \",\"his \",\"inside \",\"pocket \",\". \",\"It \",\"seemed \",\"to \",\"be \",\"a \",\"silver \",\"cigarette \",\"lighter \",\". \",\"He \",\"flicked \",\"it \",\"open \",\", \",\"held \",\"it \",\"up \",\"in \",\"the \",\"air \"]],[[],[\", \"]],[[\"and \",\"clicked \",\"it \",\". \",\"The \",\"nearest \",\"street \",\"lamp \",\"went \",\"out \",\"with \",\"a \",\"little \",\"pop \",\". \",\"He \",\"clicked \",\"it \",\"again \"],[\"and \",\"clicked \",\"it \",\". \",\"The \",\"nearest \",\"street \",\"lamp \",\"went \",\"out \",\"with \",\"a \",\"little \",\"pop \",\". \",\"He \",\"clicked \",\"it \",\"again \"]],[[\"– \"],[\"— \"]],[[\"the \",\"next \",\"lamp \",\"flickered \",\"into \",\"darkness \",\". \",\"Twelve \",\"times \",\"he \",\"clicked \",\"the \",\"Put-Outer \",\", \",\"until \",\"the \",\"only \",\"lights \",\"left \"],[\"the \",\"next \",\"lamp \",\"flickered \",\"into \",\"darkness \",\". \",\"Twelve \",\"times \",\"he \",\"clicked \",\"the \",\"Put-Outer \",\", \",\"until \",\"the \",\"only \",\"lights \",\"left \"]],[[\"in \"],[\"on \"]],[[\"the \",\"whole \",\"street \",\"were \",\"two \",\"tiny \",\"pinpricks \",\"in \",\"the \",\"distance \",\", \",\"which \",\"were \",\"the \",\"eyes \",\"of \",\"the \",\"cat \",\"watching \",\"him \",\". \",\"If \",\"anyone \",\"looked \",\"out \",\"of \",\"their \",\"window \",\"now \",\", \",\"even \",\"beady-eyed \",\"Mrs \"],[\"the \",\"whole \",\"street \",\"were \",\"two \",\"tiny \",\"pinpricks \",\"in \",\"the \",\"distance \",\", \",\"which \",\"were \",\"the \",\"eyes \",\"of \",\"the \",\"cat \",\"watching \",\"him \",\". \",\"If \",\"anyone \",\"looked \",\"out \",\"of \",\"their \",\"window \",\"now \",\", \",\"even \",\"beady-eyed \",\"Mrs\"]],[[],[\". \"]],[[\"Dursley \",\", \",\"they \"],[\"Dursley \",\", \",\"they \"]],[[\"wouldn \",\"’ \",\"t \"],[\"would \",\"n't \"]],[[\"be \",\"able \",\"to \",\"see \",\"anything \",\"that \",\"was \",\"happening \",\"down \",\"on \",\"the \",\"pavement \",\". \",\"Dumbledore \",\"slipped \",\"the \",\"Put-Outer \",\"back \",\"inside \",\"his \",\"cloak \",\"and \",\"set \",\"off \",\"down \",\"the \",\"street \"],[\"be \",\"able \",\"to \",\"see \",\"anything \",\"that \",\"was \",\"happening \",\"down \",\"on \",\"the \",\"pavement \",\". \",\"Dumbledore \",\"slipped \",\"the \",\"Put-Outer \",\"back \",\"inside \",\"his \",\"cloak \",\"and \",\"set \",\"off \",\"down \",\"the \",\"street \"]],[[\"towards \"],[\"toward \"]],[[\"number \",\"four \",\", \",\"where \",\"he \",\"sat \",\"down \",\"on \",\"the \",\"wall \",\"next \",\"to \",\"the \",\"cat \",\". \",\"He \",\"didn \",\"’ \",\"t \",\"look \",\"at \",\"it \",\", \",\"but \",\"after \",\"a \",\"moment \",\"he \",\"spoke \",\"to \",\"it \",\". \"],[\"number \",\"four \",\", \",\"where \",\"he \",\"sat \",\"down \",\"on \",\"the \",\"wall \",\"next \",\"to \",\"the \",\"cat \",\". \",\"He \",\"didn \",\"’ \",\"t \",\"look \",\"at \",\"it \",\", \",\"but \",\"after \",\"a \",\"moment \",\"he \",\"spoke \",\"to \",\"it \",\". \"]],[[\"‘ \"],[\"“ \"]],[[\"Fancy \",\"seeing \",\"you \",\"here \",\", \",\"Professor \",\"McGonagall\",\". \"],[\"Fancy \",\"seeing \",\"you \",\"here \",\", \",\"Professor \",\"McGonagall\",\". \"]],[[\"’ \"],[\"” \"]],[[\"He \",\"turned \",\"to \",\"smile \",\"at \",\"the \",\"tabby \",\", \",\"but \",\"it \",\"had \",\"gone \",\". \",\"Instead \",\"he \",\"was \",\"smiling \",\"at \",\"a \",\"rather \",\"severe-looking \",\"woman \",\"who \",\"was \",\"wearing \",\"square \",\"glasses \",\"exactly \",\"the \",\"shape \",\"of \",\"the \",\"markings \",\"the \",\"cat \",\"had \",\"had \",\"around \",\"its \",\"eyes \",\". \",\"She \",\", \",\"too \",\", \",\"was \",\"wearing \",\"a \",\"cloak \",\", \",\"an \",\"emerald \",\"one \",\". \",\"Her \",\"black \",\"hair \",\"was \",\"drawn \",\"into \",\"a \",\"tight \",\"bun \",\". \",\"She \",\"looked \",\"distinctly \",\"ruffled \",\". \"],[\"He \",\"turned \",\"to \",\"smile \",\"at \",\"the \",\"tabby \",\", \",\"but \",\"it \",\"had \",\"gone \",\". \",\"Instead \",\"he \",\"was \",\"smiling \",\"at \",\"a \",\"rather \",\"severe-looking \",\"woman \",\"who \",\"was \",\"wearing \",\"square \",\"glasses \",\"exactly \",\"the \",\"shape \",\"of \",\"the \",\"markings \",\"the \",\"cat \",\"had \",\"had \",\"around \",\"its \",\"eyes \",\". \",\"She \",\", \",\"too \",\", \",\"was \",\"wearing \",\"a \",\"cloak \",\", \",\"an \",\"emerald \",\"one \",\". \",\"Her \",\"black \",\"hair \",\"was \",\"drawn \",\"into \",\"a \",\"tight \",\"bun \",\". \",\"She \",\"looked \",\"distinctly \",\"ruffled \",\". \"]],[[\"‘ \"],[\"“ \"]],[[\"How \",\"did \",\"you \",\"know \",\"it \",\"was \",\"me \",\"? \"],[\"How \",\"did \",\"you \",\"know \",\"it \",\"was \",\"me \",\"? \"]],[[\"’ \"],[\"” \"]],[[\"she \",\"asked \",\". \"],[\"she \",\"asked \",\". \"]],[[\"‘ \"],[\"“ \"]],[[\"My \",\"dear \",\"Professor \",\", \",\"I \",\"’ \",\"ve \",\"never \",\"seen \",\"a \",\"cat \",\"sit \",\"so \",\"stiffly\",\". \"],[\"My \",\"dear \",\"Professor \",\", \",\"I \",\"’ \",\"ve \",\"never \",\"seen \",\"a \",\"cat \",\"sit \",\"so \",\"stiffly\",\". \"]],[[\"’ \",\"‘ \"],[\"” \",\"“ \"]],[[\"You \",\"’ \",\"d \",\"be \",\"stiff \",\"if \",\"you \",\"’ \",\"d \",\"been \",\"sitting \",\"on \",\"a \",\"brick \",\"wall \",\"all \",\"day \",\", \"],[\"You \",\"’ \",\"d \",\"be \",\"stiff \",\"if \",\"you \",\"’ \",\"d \",\"been \",\"sitting \",\"on \",\"a \",\"brick \",\"wall \",\"all \",\"day \",\", \"]],[[\"’ \"],[\"” \"]],[[\"said \",\"Professor \",\"McGonagall \",\". \"],[\"said \",\"Professor \",\"McGonagall \",\". \"]],[[\"‘ \"],[]],[[\"All \",\"day \",\"? \",\"When \",\"you \",\"could \",\"have \",\"been \",\"celebrating \",\"? \",\"I \",\"must \",\"have \",\"passed \",\"a \",\"dozen \",\"feasts \",\"and \",\"parties \",\"on \",\"my \",\"way \",\"here\",\". \"],[\"All \",\"day \",\"? \",\"When \",\"you \",\"could \",\"have \",\"been \",\"celebrating \",\"? \",\"I \",\"must \",\"have \",\"passed \",\"a \",\"dozen \",\"feasts \",\"and \",\"parties \",\"on \",\"my \",\"way \",\"here\",\". \"]],[[\"’ \"],[\"” \"]],[[\"Professor \",\"McGonagall \",\"sniffed \",\"angrily \",\". \"],[\"Professor \",\"McGonagall \",\"sniffed \",\"angrily \",\". \"]],[[\"‘ \"],[\"“ \"]],[[\"Oh \",\"yes \",\", \",\"everyone \",\"’ \",\"s \",\"celebrating \",\", \",\"all \",\"right \",\", \"],[\"Oh \",\"yes \",\", \",\"everyone \",\"’ \",\"s \",\"celebrating \",\", \",\"all \",\"right \",\", \"]],[[\"’ \"],[\"” \"]],[[\"she \",\"said \",\"impatiently \",\". \"],[\"she \",\"said \",\"impatiently \",\". \"]],[[\"‘ \"],[\"“ \"]],[[\"You \",\"’ \",\"d \",\"think \",\"they \",\"’ \",\"d \",\"be \",\"a \",\"bit \",\"more \",\"careful \",\", \",\"but \",\"no \"],[\"You \",\"’ \",\"d \",\"think \",\"they \",\"’ \",\"d \",\"be \",\"a \",\"bit \",\"more \",\"careful \",\", \",\"but \",\"no \"]],[[\"– \"],[\"— \"]],[[\"even \",\"the \"],[\"even \",\"the \"]],[[\"Muggles \"],[\"Mug-gles \"]],[[\"have \",\"noticed \",\"something \",\"’ \",\"s \",\"going \",\"on \",\". \",\"It \",\"was \",\"on \",\"their \",\"news\",\". \"],[\"have \",\"noticed \",\"something \",\"’ \",\"s \",\"going \",\"on \",\". \",\"It \",\"was \",\"on \",\"their \",\"news\",\". \"]],[[\"’ \"],[\"” \"]],[[\"She \",\"jerked \",\"her \",\"head \",\"back \",\"at \",\"the \",\"Dursleys \",\"’ \",\"dark \",\"living-room \",\"window \",\". \"],[\"She \",\"jerked \",\"her \",\"head \",\"back \",\"at \",\"the \",\"Dursleys \",\"’ \",\"dark \",\"living-room \",\"window \",\". \"]],[[\"‘ \"],[\"“ \"]],[[\"I \",\"heard \",\"it \",\". \",\"Flocks \",\"of \",\"owls… \",\"shooting \",\"stars… \",\"Well \",\", \",\"they \",\"’ \",\"re \",\"not \",\"completely \",\"stupid \",\". \",\"They \",\"were \",\"bound \",\"to \",\"notice \",\"something \",\". \",\"Shooting \",\"stars \",\"down \",\"in \",\"Kent \"],[\"I \",\"heard \",\"it \",\". \",\"Flocks \",\"of \",\"owls… \",\"shooting \",\"stars… \",\"Well \",\", \",\"they \",\"’ \",\"re \",\"not \",\"completely \",\"stupid \",\". \",\"They \",\"were \",\"bound \",\"to \",\"notice \",\"something \",\". \",\"Shooting \",\"stars \",\"down \",\"in \",\"Kent \"]],[[\"– \"],[\"— \"]],[[\"I \",\"’ \",\"ll \",\"bet \",\"that \",\"was \",\"Dedalus \",\"Diggle \",\". \",\"He \",\"never \",\"had \",\"much \",\"sense\",\". \"],[\"I \",\"’ \",\"ll \",\"bet \",\"that \",\"was \",\"Dedalus \",\"Diggle \",\". \",\"He \",\"never \",\"had \",\"much \",\"sense\",\". \"]],[[\"’ \",\"‘ \"],[\"” \",\"“ \"]],[[\"You \",\"can \",\"’ \",\"t \",\"blame \",\"them \",\", \"],[\"You \",\"can \",\"’ \",\"t \",\"blame \",\"them \",\", \"]],[[\"’ \"],[\"” \"]],[[\"said \",\"Dumbledore \",\"gently \",\". \"],[\"said \",\"Dumbledore \",\"gently \",\". \"]],[[\"‘ \"],[\"“ \"]],[[\"We \",\"’ \",\"ve \",\"had \",\"precious \",\"little \",\"to \",\"celebrate \",\"for \",\"eleven \",\"years\",\". \"],[\"We \",\"’ \",\"ve \",\"had \",\"precious \",\"little \",\"to \",\"celebrate \",\"for \",\"eleven \",\"years\",\". \"]],[[\"’ \",\"‘ \"],[\"” \",\"“ \"]],[[\"I \",\"know \",\"that \",\", \"],[\"I \",\"know \",\"that \",\", \"]],[[\"’ \"],[\"” \"]],[[\"said \",\"Professor \",\"McGonagall \",\"irritably \",\". \"],[\"said \",\"Professor \",\"McGonagall \",\"irritably \",\". \"]],[[\"‘ \"],[\"“ \"]],[[\"But \",\"that \",\"’ \",\"s \",\"no \",\"reason \",\"to \",\"lose \",\"our \",\"heads \",\". \",\"People \",\"are \",\"being \",\"downright \",\"careless \",\", \",\"out \",\"on \",\"the \",\"streets \",\"in \",\"broad \",\"daylight \",\", \",\"not \",\"even \",\"dressed \",\"in \",\"Muggle \",\"clothes \",\", \",\"swapping \"],[\"But \",\"that \",\"’ \",\"s \",\"no \",\"reason \",\"to \",\"lose \",\"our \",\"heads \",\". \",\"People \",\"are \",\"being \",\"downright \",\"careless \",\", \",\"out \",\"on \",\"the \",\"streets \",\"in \",\"broad \",\"daylight \",\", \",\"not \",\"even \",\"dressed \",\"in \",\"Muggle \",\"clothes \",\", \",\"swapping \"]],[[\"rumours\"],[\"rumors\"]],[[\". \"],[\". \"]],[[\"’ \"],[\"” \"]],[[\"She \",\"threw \",\"a \",\"sharp \",\", \",\"sideways \",\"glance \",\"at \",\"Dumbledore \",\"here \",\", \",\"as \",\"though \",\"hoping \",\"he \",\"was \",\"going \",\"to \",\"tell \",\"her \",\"something \",\", \",\"but \",\"he \",\"didn \",\"’ \",\"t \",\", \",\"so \",\"she \",\"went \",\"on \"],[\"She \",\"threw \",\"a \",\"sharp \",\", \",\"sideways \",\"glance \",\"at \",\"Dumbledore \",\"here \",\", \",\"as \",\"though \",\"hoping \",\"he \",\"was \",\"going \",\"to \",\"tell \",\"her \",\"something \",\", \",\"but \",\"he \",\"didn \",\"’ \",\"t \",\", \",\"so \",\"she \",\"went \",\"on \"]],[[\": \",\"‘ \"],[\". \"]],[[\"A \",\"fine \",\"thing \",\"it \",\"would \",\"be \",\"if \",\", \",\"on \",\"the \",\"very \",\"day \",\"You-Know-Who \",\"seems \",\"to \",\"have \",\"disappeared \",\"at \",\"last \",\", \",\"the \",\"Muggles \",\"found \",\"out \",\"about \",\"us \",\"all \",\". \",\"I \",\"suppose \",\"he \",\"really \",\"has \",\"gone \",\", \",\"Dumbledore \",\"? \"],[\"A \",\"fine \",\"thing \",\"it \",\"would \",\"be \",\"if \",\", \",\"on \",\"the \",\"very \",\"day \",\"You-Know-Who \",\"seems \",\"to \",\"have \",\"disappeared \",\"at \",\"last \",\", \",\"the \",\"Muggles \",\"found \",\"out \",\"about \",\"us \",\"all \",\". \",\"I \",\"suppose \",\"he \",\"really \",\"has \",\"gone \",\", \",\"Dumbledore \",\"? \"]],[[\"’ \",\"‘ \"],[\"” \"]],[[\"It \",\"certainly \",\"seems \",\"so \",\", \"],[\"It \",\"certainly \",\"seems \",\"so \",\", \"]],[[\"’ \"],[]],[[\"said \",\"Dumbledore \",\". \"],[\"said \",\"Dumbledore \",\". \"]],[[\"‘ \"],[\"“ \"]],[[\"We \",\"have \",\"much \",\"to \",\"be \",\"thankful \",\"for \",\". \",\"Would \",\"you \",\"care \",\"for \",\"a \"],[\"We \",\"have \",\"much \",\"to \",\"be \",\"thankful \",\"for \",\". \",\"Would \",\"you \",\"care \",\"for \",\"a \"]],[[\"sherbet \",\"lemon \"],[\"lemon \",\"drop \"]],[[\"? \"],[\"? \"]],[[\"’ \",\"‘ \"],[\"” \",\"“ \"]],[[\"A \",\"what \",\"? \"],[\"A \",\"what \",\"? \"]],[[\"’ \",\"‘ \"],[\"” \"]],[[\"A \"],[\"A \"]],[[\"sherbet \",\"lemon \"],[\"lemon \",\"drop \"]],[[\". \",\"They \"],[\". \",\"They \"]],[[\"’ \"],[]],[[\"re \",\"a \",\"kind \",\"of \",\"Muggle \",\"sweet \",\"I \",\"’ \",\"m \",\"rather \",\"fond \",\"of\",\". \"],[\"re \",\"a \",\"kind \",\"of \",\"Muggle \",\"sweet \",\"I \",\"’ \",\"m \",\"rather \",\"fond \",\"of\",\". \"]],[[\"’ \",\"‘ \"],[\"” \",\"“ \"]],[[\"No \",\", \",\"thank \",\"you \",\", \"],[\"No \",\", \",\"thank \",\"you \",\", \"]],[[\"’ \"],[\"” \"]],[[\"said \",\"Professor \",\"McGonagall \",\"coldly \",\", \",\"as \",\"though \",\"she \",\"didn \",\"’ \",\"t \",\"think \",\"this \",\"was \",\"the \",\"moment \",\"for \"],[\"said \",\"Professor \",\"McGonagall \",\"coldly \",\", \",\"as \",\"though \",\"she \",\"didn \",\"’ \",\"t \",\"think \",\"this \",\"was \",\"the \",\"moment \",\"for \"]],[[\"sherbet \",\"lemons \"],[\"lemon \",\"drops \"]],[[\". \"],[\". \"]],[[\"‘ \"],[\"“ \"]],[[\"As \",\"I \",\"say \",\", \",\"even \",\"if \",\"You-Know-Who \",\"has \",\"gone \"],[\"As \",\"I \",\"say \",\", \",\"even \",\"if \",\"You-Know-Who \",\"has \",\"gone \"]],[[\"– \",\"’ \",\"‘ \"],[\"— \",\"” \",\"“ \"]],[[\"My \",\"dear \",\"Professor \",\", \",\"surely \",\"a \",\"sensible \",\"person \",\"like \",\"yourself \",\"can \",\"call \",\"him \",\"by \",\"his \",\"name \",\"? \",\"All \",\"this \"],[\"My \",\"dear \",\"Professor \",\", \",\"surely \",\"a \",\"sensible \",\"person \",\"like \",\"yourself \",\"can \",\"call \",\"him \",\"by \",\"his \",\"name \",\"? \",\"All \",\"this \"]],[[\"“ \"],[\"‘ \"]],[[\"You-Know-Who \"],[\"You-Know-Who \"]],[[\"” \"],[\"’ \"]],[[\"nonsense \"],[\"nonsense \"]],[[\"– \"],[\"— \"]],[[\"for \",\"eleven \",\"years \",\"I \",\"have \",\"been \",\"trying \",\"to \",\"persuade \",\"people \",\"to \",\"call \",\"him \",\"by \",\"his \",\"proper \",\"name \",\": \",\"Voldemort\",\". \"],[\"for \",\"eleven \",\"years \",\"I \",\"have \",\"been \",\"trying \",\"to \",\"persuade \",\"people \",\"to \",\"call \",\"him \",\"by \",\"his \",\"proper \",\"name \",\": \",\"Voldemort\",\". \"]],[[\"’ \"],[\"” \"]],[[\"Professor \",\"McGonagall \",\"flinched \",\", \",\"but \",\"Dumbledore \",\", \",\"who \",\"was \",\"unsticking \",\"two \"],[\"Professor \",\"McGonagall \",\"flinched \",\", \",\"but \",\"Dumbledore \",\", \",\"who \",\"was \",\"unsticking \",\"two \"]],[[\"sherbet \",\"lemons \"],[\"lemon \",\"drops \"]],[[\", \",\"seemed \",\"not \",\"to \",\"notice \",\". \"],[\", \",\"seemed \",\"not \",\"to \",\"notice \",\". \"]],[[\"‘ \"],[\"“ \"]],[[\"It \",\"all \",\"gets \",\"so \",\"confusing \",\"if \",\"we \",\"keep \",\"saying \"],[\"It \",\"all \",\"gets \",\"so \",\"confusing \",\"if \",\"we \",\"keep \",\"saying \"]],[[\"“ \"],[\"‘ \"]],[[\"You-Know-Who \"],[\"You-Know-Who\"]],[[\"” \"],[]],[[\". \",\"’ \",\"I \",\"have \",\"never \",\"seen \",\"any \",\"reason \",\"to \",\"be \",\"frightened \",\"of \",\"saying \",\"Voldemort \",\"’ \",\"s \",\"name\",\". \"],[\". \",\"’ \",\"I \",\"have \",\"never \",\"seen \",\"any \",\"reason \",\"to \",\"be \",\"frightened \",\"of \",\"saying \",\"Voldemort \",\"’ \",\"s \",\"name\",\". \"]],[[\"’ \",\"‘ \"],[\"” \",\"“ \"]],[[\"I \",\"know \",\"you \",\"haven \",\"’ \",\"t \",\", \"],[\"I \",\"know \",\"you \",\"haven \",\"’ \",\"t \",\", \"]],[[\"’ \"],[\"” \"]],[[\"said \",\"Professor \",\"McGonagall \",\", \",\"sounding \"],[\"said \",\"Professor \",\"McGonagall \",\", \",\"sounding \"]],[[\"half-exasperated \"],[\"half \",\"exasperated \"]],[[\", \"],[\", \"]],[[\"half-admiring \"],[\"half \",\"admiring \"]],[[\". \"],[\". \"]],[[\"‘ \"],[\"“ \"]],[[\"But \",\"you \",\"’ \",\"re \",\"different \",\". \",\"Everyone \",\"knows \",\"you \",\"’ \",\"re \",\"the \",\"only \",\"one \"],[\"But \",\"you \",\"’ \",\"re \",\"different \",\". \",\"Everyone \",\"knows \",\"you \",\"’ \",\"re \",\"the \",\"only \",\"one \"]],[[\"You-Know \",\"– \"],[\"You-Know- \"]],[[\"oh \",\", \",\"all \",\"right \",\", \",\"Voldemort \"],[\"oh \",\", \",\"all \",\"right \",\", \",\"Voldemort \"]],[[\"– \"],[\", \"]],[[\"was \",\"frightened \",\"of\",\". \"],[\"was \",\"frightened \",\"of\",\". \"]],[[\"’ \",\"‘ \"],[\"” \",\"“ \"]],[[\"You \",\"flatter \",\"me \",\", \"],[\"You \",\"flatter \",\"me \",\", \"]],[[\"’ \"],[\"” \"]],[[\"said \",\"Dumbledore \",\"calmly \",\". \"],[\"said \",\"Dumbledore \",\"calmly \",\". \"]],[[\"‘ \"],[\"“ \"]],[[\"Voldemort \",\"had \",\"powers \",\"I \",\"will \",\"never \",\"have\",\". \"],[\"Voldemort \",\"had \",\"powers \",\"I \",\"will \",\"never \",\"have\",\". \"]],[[\"’ \",\"‘ \"],[\"” \",\"“ \"]],[[\"Only \",\"because \",\"you \",\"’ \",\"re \",\"too \"],[\"Only \",\"because \",\"you \",\"’ \",\"re \",\"too \"]],[[\"– \"],[\"— \"]],[[\"well \"],[\"well \"]],[[\"– \"],[\"— \"]],[[\"noble \",\"to \",\"use \",\"them\",\". \"],[\"noble \",\"to \",\"use \",\"them\",\". \"]],[[\"’ \",\"‘ \"],[\"” \",\"“ \"]],[[\"It \",\"’ \",\"s \",\"lucky \",\"it \",\"’ \",\"s \",\"dark \",\". \",\"I \",\"haven \",\"’ \",\"t \",\"blushed \",\"so \",\"much \",\"since \",\"Madam \",\"Pomfrey \",\"told \",\"me \",\"she \",\"liked \",\"my \",\"new \",\"earmuffs\",\". \"],[\"It \",\"’ \",\"s \",\"lucky \",\"it \",\"’ \",\"s \",\"dark \",\". \",\"I \",\"haven \",\"’ \",\"t \",\"blushed \",\"so \",\"much \",\"since \",\"Madam \",\"Pomfrey \",\"told \",\"me \",\"she \",\"liked \",\"my \",\"new \",\"earmuffs\",\". \"]],[[\"’ \"],[\"” \"]],[[\"Professor \",\"McGonagall \",\"shot \",\"a \",\"sharp \",\"look \",\"at \",\"Dumbledore \",\"and \",\"said \",\", \"],[\"Professor \",\"McGonagall \",\"shot \",\"a \",\"sharp \",\"look \",\"at \",\"Dumbledore \",\"and \",\"said \",\", \"]],[[\"‘ \"],[\"“ \"]],[[\"The \",\"owls \",\"are \",\"nothing \"],[\"The \",\"owls \",\"are \",\"nothing \"]],[[],[\"next \"]],[[\"to \",\"the \"],[\"to \",\"the \"]],[[\"rumours \"],[\"rumors \"]],[[\"that \",\"are \",\"flying \",\"around \",\". \",\"You \",\"know \",\"what \",\"everyone \",\"’ \",\"s \",\"saying \",\"? \",\"About \",\"why \",\"he \",\"’ \",\"s \",\"disappeared \",\"? \",\"About \",\"what \",\"finally \",\"stopped \",\"him \",\"? \"],[\"that \",\"are \",\"flying \",\"around \",\". \",\"You \",\"know \",\"what \",\"everyone \",\"’ \",\"s \",\"saying \",\"? \",\"About \",\"why \",\"he \",\"’ \",\"s \",\"disappeared \",\"? \",\"About \",\"what \",\"finally \",\"stopped \",\"him \",\"? \"]],[[\"’ \"],[\"” \"]],[[\"It \",\"seemed \",\"that \",\"Professor \",\"McGonagall \",\"had \",\"reached \",\"the \",\"point \",\"she \",\"was \",\"most \",\"anxious \",\"to \",\"discuss \",\", \",\"the \",\"real \",\"reason \",\"she \",\"had \",\"been \",\"waiting \",\"on \",\"a \",\"cold \"],[\"It \",\"seemed \",\"that \",\"Professor \",\"McGonagall \",\"had \",\"reached \",\"the \",\"point \",\"she \",\"was \",\"most \",\"anxious \",\"to \",\"discuss \",\", \",\"the \",\"real \",\"reason \",\"she \",\"had \",\"been \",\"waiting \",\"on \",\"a \",\"cold \"]],[[],[\", \"]],[[\"hard \",\"wall \",\"all \",\"day \",\", \",\"for \",\"neither \",\"as \",\"a \",\"cat \",\"nor \",\"as \",\"a \",\"woman \",\"had \",\"she \",\"fixed \",\"Dumbledore \",\"with \",\"such \",\"a \",\"piercing \",\"stare \",\"as \",\"she \",\"did \",\"now \",\". \",\"It \",\"was \",\"plain \",\"that \",\"whatever \"],[\"hard \",\"wall \",\"all \",\"day \",\", \",\"for \",\"neither \",\"as \",\"a \",\"cat \",\"nor \",\"as \",\"a \",\"woman \",\"had \",\"she \",\"fixed \",\"Dumbledore \",\"with \",\"such \",\"a \",\"piercing \",\"stare \",\"as \",\"she \",\"did \",\"now \",\". \",\"It \",\"was \",\"plain \",\"that \",\"whatever \"]],[[\"‘ \"],[\"“ \"]],[[\"everyone \"],[\"everyone \"]],[[\"’ \"],[\"” \"]],[[\"was \",\"saying \",\", \",\"she \",\"was \",\"not \",\"going \",\"to \",\"believe \",\"it \",\"until \",\"Dumbledore \",\"told \",\"her \",\"it \",\"was \",\"true \",\". \",\"Dumbledore \",\", \",\"however \",\", \",\"was \",\"choosing \",\"another \"],[\"was \",\"saying \",\", \",\"she \",\"was \",\"not \",\"going \",\"to \",\"believe \",\"it \",\"until \",\"Dumbledore \",\"told \",\"her \",\"it \",\"was \",\"true \",\". \",\"Dumbledore \",\", \",\"however \",\", \",\"was \",\"choosing \",\"another \"]],[[\"sherbet \"],[]],[[\"lemon \"],[\"lemon \"]],[[],[\"drop \"]],[[\"and \",\"did \",\"not \",\"answer \",\". \"],[\"and \",\"did \",\"not \",\"answer \",\". \"]],[[\"‘ \"],[\"“ \"]],[[\"What \",\"they \",\"’ \",\"re \",\"saying \",\", \"],[\"What \",\"they \",\"’ \",\"re \",\"saying \",\", \"]],[[\"’ \"],[\"” \"]],[[\"she \",\"pressed \",\"on \",\", \"],[\"she \",\"pressed \",\"on \",\", \"]],[[\"‘ \"],[\"“ \"]],[[\"is \",\"that \",\"last \",\"night \"],[\"is \",\"that \",\"last \",\"night \"]],[[\"Voldemort \"],[\"Vol-demort \"]],[[\"turned \",\"up \",\"in \",\"Godric \",\"’ \",\"s \",\"Hollow \",\". \",\"He \",\"went \",\"to \",\"find \",\"the \",\"Potters \",\". \",\"The \"],[\"turned \",\"up \",\"in \",\"Godric \",\"’ \",\"s \",\"Hollow \",\". \",\"He \",\"went \",\"to \",\"find \",\"the \",\"Potters \",\". \",\"The \"]],[[\"rumour \"],[\"rumor \"]],[[\"is \",\"that \",\"Lily \",\"and \",\"James \",\"Potter \",\"are \"],[\"is \",\"that \",\"Lily \",\"and \",\"James \",\"Potter \",\"are \"]],[[\"– \"],[\"— \"]],[[\"are \"],[\"are \"]],[[\"– \"],[\"— \"]],[[\"that \",\"they \",\"’ \",\"re \"],[\"that \",\"they \",\"’ \",\"re \"]],[[\"– \"],[\"— \"]],[[\"dead\",\". \"],[\"dead\",\". \"]],[[\"’ \"],[\"” \"]],[[\"Dumbledore \",\"bowed \",\"his \",\"head \",\". \",\"Professor \",\"McGonagall \",\"gasped \",\". \"],[\"Dumbledore \",\"bowed \",\"his \",\"head \",\". \",\"Professor \",\"McGonagall \",\"gasped \",\". \"]],[[\"‘ \"],[\"“ \"]],[[\"Lily \",\"and \",\"James… \",\"I \",\"can \",\"’ \",\"t \",\"believe \",\"it… \",\"I \",\"didn \",\"’ \",\"t \",\"want \",\"to \",\"believe \",\"it… \",\"Oh \",\", \",\"Albus… \"],[\"Lily \",\"and \",\"James… \",\"I \",\"can \",\"’ \",\"t \",\"believe \",\"it… \",\"I \",\"didn \",\"’ \",\"t \",\"want \",\"to \",\"believe \",\"it… \",\"Oh \",\", \",\"Albus… \"]],[[\"’ \"],[\". \",\"” \"]],[[\"Dumbledore \",\"reached \",\"out \",\"and \",\"patted \",\"her \",\"on \",\"the \",\"shoulder \",\". \"],[\"Dumbledore \",\"reached \",\"out \",\"and \",\"patted \",\"her \",\"on \",\"the \",\"shoulder \",\". \"]],[[\"‘ \"],[\"“ \"]],[[\"I \",\"know… \",\"I \",\"know… \"],[\"I \",\"know… \",\"I \",\"know… \"]],[[\"’ \"],[\". \",\"” \"]],[[\"he \",\"said \",\"heavily \",\". \",\"Professor \",\"McGonagall \",\"’ \",\"s \",\"voice \",\"trembled \",\"as \",\"she \",\"went \",\"on \",\". \"],[\"he \",\"said \",\"heavily \",\". \",\"Professor \",\"McGonagall \",\"’ \",\"s \",\"voice \",\"trembled \",\"as \",\"she \",\"went \",\"on \",\". \"]],[[\"‘ \"],[\"“ \"]],[[\"That \",\"’ \",\"s \",\"not \",\"all \",\". \",\"They \",\"’ \",\"re \",\"saying \",\"he \",\"tried \",\"to \",\"kill \",\"the \",\"Potters \",\"’ \",\"son \",\", \",\"Harry \",\". \",\"But \"],[\"That \",\"’ \",\"s \",\"not \",\"all \",\". \",\"They \",\"’ \",\"re \",\"saying \",\"he \",\"tried \",\"to \",\"kill \",\"the \",\"Potters \",\"’ \",\"son \",\", \",\"Harry \",\". \",\"But \"]],[[\"– \"],[\"— \"]],[[\"he \",\"couldn \",\"’ \",\"t \",\". \",\"He \",\"couldn \",\"’ \",\"t \",\"kill \",\"that \",\"little \",\"boy \",\". \",\"No \",\"one \",\"knows \",\"why \",\", \",\"or \",\"how \",\", \",\"but \",\"they \",\"’ \",\"re \",\"saying \",\"that \",\"when \",\"he \",\"couldn \",\"’ \",\"t \",\"kill \",\"Harry \",\"Potter \",\", \",\"Voldemort \",\"’ \",\"s \",\"power \",\"somehow \",\"broke \"],[\"he \",\"couldn \",\"’ \",\"t \",\". \",\"He \",\"couldn \",\"’ \",\"t \",\"kill \",\"that \",\"little \",\"boy \",\". \",\"No \",\"one \",\"knows \",\"why \",\", \",\"or \",\"how \",\", \",\"but \",\"they \",\"’ \",\"re \",\"saying \",\"that \",\"when \",\"he \",\"couldn \",\"’ \",\"t \",\"kill \",\"Harry \",\"Potter \",\", \",\"Voldemort \",\"’ \",\"s \",\"power \",\"somehow \",\"broke \"]],[[\"– \"],[\"— \"]],[[\"and \",\"that \",\"’ \",\"s \",\"why \",\"he \",\"’ \",\"s \",\"gone\",\". \"],[\"and \",\"that \",\"’ \",\"s \",\"why \",\"he \",\"’ \",\"s \",\"gone\",\". \"]],[[\"’ \"],[\"” \"]],[[\"Dumbledore \",\"nodded \",\"glumly \",\". \"],[\"Dumbledore \",\"nodded \",\"glumly \",\". \"]],[[\"‘ \"],[\"“ \"]],[[\"It \",\"’ \",\"s \"],[\"It \",\"’ \",\"s \"]],[[\"– \"],[\"— \"]],[[\"it \",\"’ \",\"s \",\"true \",\"? \"],[\"it \",\"’ \",\"s \",\"true \",\"? \"]],[[\"’ \"],[]],[[\"faltered \",\"Professor \",\"McGonagall \",\". \"],[\"faltered \",\"Professor \",\"McGonagall \",\". \"]],[[\"‘ \"],[\"“ \"]],[[\"After \",\"all \",\"he \",\"’ \",\"s \",\"done… \",\"all \",\"the \",\"people \",\"he \",\"’ \",\"s \",\"killed… \",\"he \",\"couldn \",\"’ \",\"t \",\"kill \",\"a \",\"little \",\"boy \",\"? \",\"It \"],[\"After \",\"all \",\"he \",\"’ \",\"s \",\"done… \",\"all \",\"the \",\"people \",\"he \",\"’ \",\"s \",\"killed… \",\"he \",\"couldn \",\"’ \",\"t \",\"kill \",\"a \",\"little \",\"boy \",\"? \",\"It \"]],[[\"’ \",\"s \"],[\"'s \"]],[[\"just \",\"astounding… \",\"of \",\"all \",\"the \",\"things \",\"to \",\"stop \",\"him… \",\"but \",\"how \",\"in \",\"the \",\"name \",\"of \",\"heaven \",\"did \",\"Harry \",\"survive \",\"? \"],[\"just \",\"astounding… \",\"of \",\"all \",\"the \",\"things \",\"to \",\"stop \",\"him… \",\"but \",\"how \",\"in \",\"the \",\"name \",\"of \",\"heaven \",\"did \",\"Harry \",\"survive \",\"? \"]],[[\"’ \",\"‘ \"],[\"” \"]],[[\"We \",\"can \",\"only \",\"guess \",\", \"],[\"We \",\"can \",\"only \",\"guess \",\", \"]],[[\"’ \"],[]],[[\"said \",\"Dumbledore \",\". \"],[\"said \",\"Dumbledore \",\". \"]],[[\"‘ \"],[\"“ \"]],[[\"We \",\"may \",\"never \",\"know\",\". \"],[\"We \",\"may \",\"never \",\"know\",\". \"]],[[\"’ \"],[\"” \"]],[[\"Professor \",\"McGonagall \",\"pulled \",\"out \",\"a \",\"lace \",\"handkerchief \",\"and \",\"dabbed \",\"at \",\"her \",\"eyes \",\"beneath \",\"her \",\"spectacles \",\". \",\"Dumbledore \",\"gave \",\"a \",\"great \",\"sniff \",\"as \",\"he \",\"took \",\"a \",\"golden \",\"watch \",\"from \",\"his \",\"pocket \",\"and \",\"examined \",\"it \",\". \",\"It \",\"was \",\"a \",\"very \",\"odd \",\"watch \",\". \",\"It \",\"had \",\"twelve \",\"hands \",\"but \",\"no \",\"numbers \",\"; \",\"instead \",\", \",\"little \",\"planets \",\"were \",\"moving \",\"around \",\"the \",\"edge \",\". \",\"It \",\"must \",\"have \",\"made \",\"sense \",\"to \",\"Dumbledore \",\", \",\"though \",\", \",\"because \",\"he \",\"put \",\"it \",\"back \",\"in \",\"his \",\"pocket \",\"and \",\"said \",\", \"],[\"Professor \",\"McGonagall \",\"pulled \",\"out \",\"a \",\"lace \",\"handkerchief \",\"and \",\"dabbed \",\"at \",\"her \",\"eyes \",\"beneath \",\"her \",\"spectacles \",\". \",\"Dumbledore \",\"gave \",\"a \",\"great \",\"sniff \",\"as \",\"he \",\"took \",\"a \",\"golden \",\"watch \",\"from \",\"his \",\"pocket \",\"and \",\"examined \",\"it \",\". \",\"It \",\"was \",\"a \",\"very \",\"odd \",\"watch \",\". \",\"It \",\"had \",\"twelve \",\"hands \",\"but \",\"no \",\"numbers \",\"; \",\"instead \",\", \",\"little \",\"planets \",\"were \",\"moving \",\"around \",\"the \",\"edge \",\". \",\"It \",\"must \",\"have \",\"made \",\"sense \",\"to \",\"Dumbledore \",\", \",\"though \",\", \",\"because \",\"he \",\"put \",\"it \",\"back \",\"in \",\"his \",\"pocket \",\"and \",\"said \",\", \"]],[[\"‘ \"],[\"“ \"]],[[\"Hagrid \",\"’ \",\"s \",\"late \",\". \",\"I \",\"suppose \",\"it \",\"was \",\"he \",\"who \",\"told \",\"you \",\"I \",\"’ \",\"d \",\"be \",\"here \",\", \",\"by \",\"the \",\"way \",\"? \"],[\"Hagrid \",\"’ \",\"s \",\"late \",\". \",\"I \",\"suppose \",\"it \",\"was \",\"he \",\"who \",\"told \",\"you \",\"I \",\"’ \",\"d \",\"be \",\"here \",\", \",\"by \",\"the \",\"way \",\"? \"]],[[\"’ \",\"‘ \"],[\"” \",\"“ \"]],[[\"Yes \",\", \"],[\"Yes \",\", \"]],[[\"’ \"],[\"” \"]],[[\"said \",\"Professor \",\"McGonagall \",\". \"],[\"said \",\"Professor \",\"McGonagall \",\". \"]],[[\"‘ \"],[\"“ \"]],[[\"And \",\"I \",\"don \",\"’ \",\"t \",\"suppose \",\"you \",\"’ \",\"re \",\"going \",\"to \",\"tell \",\"me \",\"why \",\"you \",\"’ \",\"re \",\"here \",\", \",\"of \",\"all \",\"places \",\"? \"],[\"And \",\"I \",\"don \",\"’ \",\"t \",\"suppose \",\"you \",\"’ \",\"re \",\"going \",\"to \",\"tell \",\"me \",\"why \",\"you \",\"’ \",\"re \",\"here \",\", \",\"of \",\"all \",\"places \",\"? \"]],[[\"’ \",\"‘ \"],[\"” \",\"“ \"]],[[\"I \",\"’ \",\"ve \",\"come \",\"to \",\"bring \",\"Harry \",\"to \",\"his \",\"aunt \",\"and \",\"uncle \",\". \",\"They \",\"’ \",\"re \",\"the \",\"only \",\"family \",\"he \",\"has \",\"left \",\"now\",\". \"],[\"I \",\"’ \",\"ve \",\"come \",\"to \",\"bring \",\"Harry \",\"to \",\"his \",\"aunt \",\"and \",\"uncle \",\". \",\"They \",\"’ \",\"re \",\"the \",\"only \",\"family \",\"he \",\"has \",\"left \",\"now\",\". \"]],[[\"’ \",\"‘ \"],[\"” \",\"“ \"]],[[\"You \",\"don \",\"’ \",\"t \",\"mean \"],[\"You \",\"don \",\"’ \",\"t \",\"mean \"]],[[\"– \"],[\"— \"]],[[\"you \",\"can \",\"’ \",\"t \",\"mean \",\"the \",\"people \",\"who \",\"live \",\"here \",\"? \"],[\"you \",\"can \",\"’ \",\"t \",\"mean \",\"the \",\"people \",\"who \",\"live \",\"here \",\"? \"]],[[\"’ \"],[\"'' \"]],[[\"cried \",\"Professor \",\"McGonagall \",\", \",\"jumping \",\"to \",\"her \",\"feet \",\"and \",\"pointing \",\"at \",\"number \",\"four \",\". \"],[\"cried \",\"Professor \",\"McGonagall \",\", \",\"jumping \",\"to \",\"her \",\"feet \",\"and \",\"pointing \",\"at \",\"number \",\"four \",\". \"]],[[\"‘ \"],[\"“ \"]],[[\"Dumbledore \"],[\"Dumbledore \"]],[[\"– \"],[\"— \"]],[[\"you \",\"can \",\"’ \",\"t \",\". \",\"I \",\"’ \",\"ve \",\"been \",\"watching \",\"them \",\"all \",\"day \",\". \",\"You \",\"couldn \",\"’ \",\"t \",\"find \",\"two \",\"people \",\"who \",\"are \",\"less \",\"like \",\"us \",\". \",\"And \",\"they \",\"’ \",\"ve \",\"got \",\"this \",\"son \"],[\"you \",\"can \",\"’ \",\"t \",\". \",\"I \",\"’ \",\"ve \",\"been \",\"watching \",\"them \",\"all \",\"day \",\". \",\"You \",\"couldn \",\"’ \",\"t \",\"find \",\"two \",\"people \",\"who \",\"are \",\"less \",\"like \",\"us \",\". \",\"And \",\"they \",\"’ \",\"ve \",\"got \",\"this \",\"son \"]],[[\"– \"],[\"— \"]],[[\"I \",\"saw \",\"him \",\"kicking \",\"his \",\"mother \",\"all \",\"the \",\"way \",\"up \",\"the \",\"street \",\", \",\"screaming \",\"for \",\"sweets \",\". \",\"Harry \",\"Potter \",\"come \",\"and \",\"live \",\"here \",\"! \"],[\"I \",\"saw \",\"him \",\"kicking \",\"his \",\"mother \",\"all \",\"the \",\"way \",\"up \",\"the \",\"street \",\", \",\"screaming \",\"for \",\"sweets \",\". \",\"Harry \",\"Potter \",\"come \",\"and \",\"live \",\"here \",\"! \"]],[[\"’ \",\"‘ \"],[\"” \",\"“ \"]],[[\"It \",\"’ \",\"s \",\"the \",\"best \",\"place \",\"for \",\"him \",\", \"],[\"It \",\"’ \",\"s \",\"the \",\"best \",\"place \",\"for \",\"him \",\", \"]],[[\"’ \"],[\"” \"]],[[\"said \",\"Dumbledore \",\"firmly \",\". \"],[\"said \",\"Dumbledore \",\"firmly \",\". \"]],[[\"‘ \"],[\"“ \"]],[[\"His \",\"aunt \",\"and \",\"uncle \",\"will \",\"be \",\"able \",\"to \",\"explain \",\"everything \",\"to \",\"him \",\"when \",\"he \",\"’ \",\"s \",\"older \",\". \",\"I \",\"’ \",\"ve \",\"written \",\"them \",\"a \",\"letter\",\". \"],[\"His \",\"aunt \",\"and \",\"uncle \",\"will \",\"be \",\"able \",\"to \",\"explain \",\"everything \",\"to \",\"him \",\"when \",\"he \",\"’ \",\"s \",\"older \",\". \",\"I \",\"’ \",\"ve \",\"written \",\"them \",\"a \",\"letter\",\". \"]],[[\"’ \",\"‘ \"],[\"” \",\"“ \"]],[[\"A \",\"letter \",\"? \"],[\"A \",\"letter \",\"? \"]],[[\"’ \"],[\"” \"]],[[\"repeated \",\"Professor \",\"McGonagall \",\"faintly \",\", \",\"sitting \",\"back \",\"down \",\"on \",\"the \",\"wall \",\". \"],[\"repeated \",\"Professor \",\"McGonagall \",\"faintly \",\", \",\"sitting \",\"back \",\"down \",\"on \",\"the \",\"wall \",\". \"]],[[\"‘ \"],[\"“ \"]],[[\"Really \",\", \",\"Dumbledore \",\", \",\"you \",\"think \",\"you \",\"can \",\"explain \",\"all \",\"this \",\"in \",\"a \",\"letter \",\"? \",\"These \",\"people \",\"will \",\"never \",\"understand \",\"him \",\"! \",\"He \",\"’ \",\"ll \",\"be \",\"famous \"],[\"Really \",\", \",\"Dumbledore \",\", \",\"you \",\"think \",\"you \",\"can \",\"explain \",\"all \",\"this \",\"in \",\"a \",\"letter \",\"? \",\"These \",\"people \",\"will \",\"never \",\"understand \",\"him \",\"! \",\"He \",\"’ \",\"ll \",\"be \",\"famous \"]],[[\"– \"],[\"— \"]],[[\"a \",\"legend \"],[\"a \",\"legend \"]],[[\"– \"],[\"— \"]],[[\"I \",\"wouldn \",\"’ \",\"t \",\"be \",\"surprised \",\"if \",\"today \",\"was \",\"known \",\"as \",\"Harry \",\"Potter \",\"Day \",\"in \"],[\"I \",\"wouldn \",\"’ \",\"t \",\"be \",\"surprised \",\"if \",\"today \",\"was \",\"known \",\"as \",\"Harry \",\"Potter \",\"Day \",\"in \"]],[[],[\"the \"]],[[\"future \"],[\"future \"]],[[\"– \"],[\"— \"]],[[\"there \",\"will \",\"be \",\"books \",\"written \",\"about \",\"Harry \"],[\"there \",\"will \",\"be \",\"books \",\"written \",\"about \",\"Harry \"]],[[\"– \"],[\"— \"]],[[\"every \",\"child \",\"in \",\"our \",\"world \",\"will \",\"know \",\"his \",\"name \",\"! \"],[\"every \",\"child \",\"in \",\"our \",\"world \",\"will \",\"know \",\"his \",\"name \",\"! \"]],[[\"’ \",\"‘ \"],[\"” \",\"“ \"]],[[\"Exactly \",\", \"],[\"Exactly \",\", \"]],[[\"’ \"],[\"” \"]],[[\"said \",\"Dumbledore \",\", \",\"looking \",\"very \",\"seriously \",\"over \",\"the \",\"top \",\"of \",\"his \",\"half-moon \",\"glasses \",\". \"],[\"said \",\"Dumbledore \",\", \",\"looking \",\"very \",\"seriously \",\"over \",\"the \",\"top \",\"of \",\"his \",\"half-moon \",\"glasses \",\". \"]],[[\"‘ \"],[\"“ \"]],[[\"It \",\"would \",\"be \",\"enough \",\"to \",\"turn \",\"any \",\"boy \",\"’ \",\"s \",\"head \",\". \",\"Famous \",\"before \",\"he \",\"can \",\"walk \",\"and \",\"talk \",\"! \",\"Famous \",\"for \",\"something \",\"he \",\"won \",\"’ \",\"t \",\"even \",\"remember \",\"! \",\"Can \",\"’ \",\"t \",\"you \",\"see \",\"how \",\"much \",\"better \",\"off \",\"he \",\"’ \",\"ll \",\"be \",\", \",\"growing \",\"up \",\"away \",\"from \",\"all \",\"that \",\"until \",\"he \",\"’ \",\"s \",\"ready \",\"to \",\"take \",\"it \",\"? \"],[\"It \",\"would \",\"be \",\"enough \",\"to \",\"turn \",\"any \",\"boy \",\"’ \",\"s \",\"head \",\". \",\"Famous \",\"before \",\"he \",\"can \",\"walk \",\"and \",\"talk \",\"! \",\"Famous \",\"for \",\"something \",\"he \",\"won \",\"’ \",\"t \",\"even \",\"remember \",\"! \",\"Can \",\"’ \",\"t \",\"you \",\"see \",\"how \",\"much \",\"better \",\"off \",\"he \",\"’ \",\"ll \",\"be \",\", \",\"growing \",\"up \",\"away \",\"from \",\"all \",\"that \",\"until \",\"he \",\"’ \",\"s \",\"ready \",\"to \",\"take \",\"it \",\"? \"]],[[\"’ \"],[\"” \"]],[[\"Professor \",\"McGonagall \",\"opened \",\"her \",\"mouth \",\", \",\"changed \",\"her \",\"mind \",\", \",\"swallowed \"],[\"Professor \",\"McGonagall \",\"opened \",\"her \",\"mouth \",\", \",\"changed \",\"her \",\"mind \",\", \",\"swallowed \"]],[[],[\", \"]],[[\"and \",\"then \",\"said \",\", \"],[\"and \",\"then \",\"said \",\", \"]],[[\"‘ \"],[\"“ \"]],[[\"Yes \"],[\"Yes \"]],[[\"– \"],[\"— \"]],[[\"yes \",\", \",\"you \",\"’ \",\"re \",\"right \",\", \",\"of \",\"course \",\". \",\"But \",\"how \",\"is \",\"the \",\"boy \",\"getting \",\"here \",\", \",\"Dumbledore \",\"? \"],[\"yes \",\", \",\"you \",\"’ \",\"re \",\"right \",\", \",\"of \",\"course \",\". \",\"But \",\"how \",\"is \",\"the \",\"boy \",\"getting \",\"here \",\", \",\"Dumbledore \",\"? \"]],[[\"’ \"],[\"” \"]],[[\"She \",\"eyed \",\"his \",\"cloak \",\"suddenly \",\"as \",\"though \",\"she \",\"thought \",\"he \",\"might \",\"be \",\"hiding \",\"Harry \",\"underneath \",\"it \",\". \"],[\"She \",\"eyed \",\"his \",\"cloak \",\"suddenly \",\"as \",\"though \",\"she \",\"thought \",\"he \",\"might \",\"be \",\"hiding \",\"Harry \",\"underneath \",\"it \",\". \"]],[[\"‘ \"],[\"“ \"]],[[\"Hagrid \",\"’ \",\"s \",\"bringing \",\"him\",\". \"],[\"Hagrid \",\"’ \",\"s \",\"bringing \",\"him\",\". \"]],[[\"’ \",\"‘ \"],[\"” \",\"“ \"]],[[\"You \",\"think \",\"it \"],[\"You \",\"think \",\"it \"]],[[\"– \"],[\"— \"]],[[\"wise \"],[\"wise \"]],[[\"– \"],[\"— \"]],[[\"to \",\"trust \",\"Hagrid \",\"with \",\"something \",\"as \",\"important \",\"as \",\"this \",\"? \"],[\"to \",\"trust \",\"Hagrid \",\"with \",\"something \",\"as \",\"important \",\"as \",\"this \",\"? \"]],[[\"’ \",\"‘ \"],[\"” \",\"“ \"]],[[\"I \",\"would \",\"trust \",\"Hagrid \",\"with \",\"my \",\"life \",\", \"],[\"I \",\"would \",\"trust \",\"Hagrid \",\"with \",\"my \",\"life \",\", \"]],[[\"’ \"],[\"” \"]],[[\"said \",\"Dumbledore \",\". \"],[\"said \",\"Dumbledore \",\". \"]],[[\"‘ \"],[\"“ \"]],[[\"I \",\"’ \",\"m \",\"not \",\"saying \",\"his \",\"heart \",\"isn \",\"’ \",\"t \",\"in \",\"the \",\"right \",\"place \",\", \"],[\"I \",\"’ \",\"m \",\"not \",\"saying \",\"his \",\"heart \",\"isn \",\"’ \",\"t \",\"in \",\"the \",\"right \",\"place \",\", \"]],[[\"’ \"],[\"” \"]],[[\"said \",\"Professor \",\"McGonagall \",\"grudgingly \",\", \"],[\"said \",\"Professor \",\"McGonagall \",\"grudgingly \",\", \"]],[[\"‘ \"],[\"“ \"]],[[\"but \",\"you \",\"can \",\"’ \",\"t \",\"pretend \",\"he \",\"’ \",\"s \",\"not \",\"careless \",\". \",\"He \",\"does \",\"tend \",\"to \"],[\"but \",\"you \",\"can \",\"’ \",\"t \",\"pretend \",\"he \",\"’ \",\"s \",\"not \",\"careless \",\". \",\"He \",\"does \",\"tend \",\"to \"]],[[\"– \"],[\"— \"]],[[\"what \",\"was \",\"that \",\"? \"],[\"what \",\"was \",\"that \",\"? \"]],[[\"’ \"],[\"” \"]],[[\"A \",\"low \",\"rumbling \",\"sound \",\"had \",\"broken \",\"the \",\"silence \",\"around \",\"them \",\". \",\"It \",\"grew \",\"steadily \",\"louder \",\"as \",\"they \",\"looked \",\"up \",\"and \",\"down \",\"the \",\"street \",\"for \",\"some \",\"sign \",\"of \",\"a \",\"headlight \",\"; \",\"it \",\"swelled \",\"to \",\"a \",\"roar \",\"as \",\"they \",\"both \",\"looked \",\"up \",\"at \",\"the \",\"sky \"],[\"A \",\"low \",\"rumbling \",\"sound \",\"had \",\"broken \",\"the \",\"silence \",\"around \",\"them \",\". \",\"It \",\"grew \",\"steadily \",\"louder \",\"as \",\"they \",\"looked \",\"up \",\"and \",\"down \",\"the \",\"street \",\"for \",\"some \",\"sign \",\"of \",\"a \",\"headlight \",\"; \",\"it \",\"swelled \",\"to \",\"a \",\"roar \",\"as \",\"they \",\"both \",\"looked \",\"up \",\"at \",\"the \",\"sky \"]],[[\"– \"],[\"— \"]],[[\"and \",\"a \",\"huge \"],[\"and \",\"a \",\"huge \"]],[[\"motorbike \"],[\"motorcycle \"]],[[\"fell \",\"out \",\"of \",\"the \",\"air \",\"and \",\"landed \",\"on \",\"the \",\"road \",\"in \",\"front \",\"of \",\"them \",\". \",\"If \",\"the \"],[\"fell \",\"out \",\"of \",\"the \",\"air \",\"and \",\"landed \",\"on \",\"the \",\"road \",\"in \",\"front \",\"of \",\"them \",\". \",\"If \",\"the \"]],[[\"motorbike \"],[\"motorcycle \"]],[[\"was \",\"huge \",\", \",\"it \",\"was \",\"nothing \",\"to \",\"the \",\"man \",\"sitting \",\"astride \",\"it \",\". \",\"He \",\"was \",\"almost \",\"twice \",\"as \",\"tall \",\"as \",\"a \",\"normal \",\"man \",\"and \",\"at \",\"least \",\"five \",\"times \",\"as \",\"wide \",\". \",\"He \",\"looked \",\"simply \",\"too \",\"big \",\"to \",\"be \",\"allowed \",\", \",\"and \",\"so \"],[\"was \",\"huge \",\", \",\"it \",\"was \",\"nothing \",\"to \",\"the \",\"man \",\"sitting \",\"astride \",\"it \",\". \",\"He \",\"was \",\"almost \",\"twice \",\"as \",\"tall \",\"as \",\"a \",\"normal \",\"man \",\"and \",\"at \",\"least \",\"five \",\"times \",\"as \",\"wide \",\". \",\"He \",\"looked \",\"simply \",\"too \",\"big \",\"to \",\"be \",\"allowed \",\", \",\"and \",\"so \"]],[[\"wild \",\"– \"],[\"wild— \"]],[[\"long \",\"tangles \",\"of \",\"bushy \",\"black \",\"hair \",\"and \",\"beard \",\"hid \",\"most \",\"of \",\"his \",\"face \",\", \",\"he \",\"had \",\"hands \",\"the \",\"size \",\"of \"],[\"long \",\"tangles \",\"of \",\"bushy \",\"black \",\"hair \",\"and \",\"beard \",\"hid \",\"most \",\"of \",\"his \",\"face \",\", \",\"he \",\"had \",\"hands \",\"the \",\"size \",\"of \"]],[[\"dustbin \"],[\"trash \",\"can \"]],[[\"lids \"],[\"lids \"]],[[],[\", \"]],[[\"and \",\"his \",\"feet \",\"in \",\"their \",\"leather \",\"boots \",\"were \",\"like \",\"baby \",\"dolphins \",\". \",\"In \",\"his \",\"vast \",\", \",\"muscular \",\"arms \",\"he \",\"was \",\"holding \",\"a \",\"bundle \",\"of \",\"blankets \",\". \"],[\"and \",\"his \",\"feet \",\"in \",\"their \",\"leather \",\"boots \",\"were \",\"like \",\"baby \",\"dolphins \",\". \",\"In \",\"his \",\"vast \",\", \",\"muscular \",\"arms \",\"he \",\"was \",\"holding \",\"a \",\"bundle \",\"of \",\"blankets \",\". \"]],[[\"‘ \"],[]],[[\"Hagrid \",\", \"],[\"Hagrid \",\", \"]],[[\"’ \"],[\"” \"]],[[\"said \",\"Dumbledore \",\", \",\"sounding \",\"relieved \",\". \"],[\"said \",\"Dumbledore \",\", \",\"sounding \",\"relieved \",\". \"]],[[\"‘ \"],[\"“ \"]],[[\"At \",\"last \",\". \",\"And \",\"where \",\"did \",\"you \",\"get \",\"that \"],[\"At \",\"last \",\". \",\"And \",\"where \",\"did \",\"you \",\"get \",\"that \"]],[[\"motorbike \"],[\"motorcycle \"]],[[\"? \"],[\"? \"]],[[\"’ \",\"‘ \"],[\"” \"]],[[\"Borrowed \",\"it \",\", \",\"Professor \",\"Dumbledore \",\", \",\"sir \",\", \"],[\"Borrowed \",\"it \",\", \",\"Professor \",\"Dumbledore \",\", \",\"sir \",\", \"]],[[\"’ \"],[\"” \"]],[[\"said \",\"the \",\"giant \",\", \",\"climbing \",\"carefully \",\"off \",\"the \"],[\"said \",\"the \",\"giant \",\", \",\"climbing \",\"carefully \",\"off \",\"the \"]],[[\"motorbike \"],[\"motorcycle \"]],[[\"as \",\"he \",\"spoke \",\". \"],[\"as \",\"he \",\"spoke \",\". \"]],[[\"‘ \"],[\"“ \"]],[[\"Young \",\"Sirius \",\"Black \",\"lent \",\"it \"],[\"Young \",\"Sirius \",\"Black \",\"lent \",\"it \"]],[[],[\"to \"]],[[\"me \",\". \",\"I \",\"’ \",\"ve \",\"got \",\"him \",\", \",\"sir\",\". \"],[\"me \",\". \",\"I \",\"’ \",\"ve \",\"got \",\"him \",\", \",\"sir\",\". \"]],[[\"’ \",\"‘ \"],[\"” \",\"“ \"]],[[\"No \",\"problems \",\", \",\"were \",\"there \",\"? \"],[\"No \",\"problems \",\", \",\"were \",\"there \",\"? \"]],[[\"’ \",\"‘ \"],[\"” \",\"“ \"]],[[\"No \",\", \",\"sir \"],[\"No \",\", \",\"sir \"]],[[\"– \"],[\"— \"]],[[\"house \",\"was \",\"almost \",\"destroyed \"],[\"house \",\"was \",\"almost \",\"destroyed \"]],[[],[\", \"]],[[\"but \",\"I \",\"got \",\"him \",\"out \",\"all \",\"right \",\"before \",\"the \",\"Muggles \",\"started \",\"swarmin \",\"’ \",\"around \",\". \",\"He \",\"fell \",\"asleep \",\"as \",\"we \",\"was \",\"flyin \",\"’ \",\"over \",\"Bristol\",\". \"],[\"but \",\"I \",\"got \",\"him \",\"out \",\"all \",\"right \",\"before \",\"the \",\"Muggles \",\"started \",\"swarmin \",\"’ \",\"around \",\". \",\"He \",\"fell \",\"asleep \",\"as \",\"we \",\"was \",\"flyin \",\"’ \",\"over \",\"Bristol\",\". \"]],[[\"’ \"],[\"” \"]],[[\"Dumbledore \",\"and \",\"Professor \",\"McGonagall \",\"bent \",\"forward \",\"over \",\"the \",\"bundle \",\"of \",\"blankets \",\". \",\"Inside \",\", \",\"just \",\"visible \",\", \",\"was \",\"a \",\"baby \",\"boy \",\", \",\"fast \",\"asleep \",\". \",\"Under \",\"a \",\"tuft \",\"of \",\"jet-black \",\"hair \",\"over \",\"his \",\"forehead \",\"they \",\"could \",\"see \",\"a \",\"curiously \",\"shaped \",\"cut \",\", \",\"like \",\"a \",\"bolt \",\"of \",\"lightning \",\". \"],[\"Dumbledore \",\"and \",\"Professor \",\"McGonagall \",\"bent \",\"forward \",\"over \",\"the \",\"bundle \",\"of \",\"blankets \",\". \",\"Inside \",\", \",\"just \",\"visible \",\", \",\"was \",\"a \",\"baby \",\"boy \",\", \",\"fast \",\"asleep \",\". \",\"Under \",\"a \",\"tuft \",\"of \",\"jet-black \",\"hair \",\"over \",\"his \",\"forehead \",\"they \",\"could \",\"see \",\"a \",\"curiously \",\"shaped \",\"cut \",\", \",\"like \",\"a \",\"bolt \",\"of \",\"lightning \",\". \"]],[[\"‘ \"],[\"“ \"]],[[\"Is \",\"that \",\"where \"],[\"Is \",\"that \",\"where \"]],[[\"– \"],[\"— \"]],[[\"? \"],[\"? \"]],[[\"’ \"],[\"” \"]],[[\"whispered \",\"Professor \",\"McGonagall \",\". \"],[\"whispered \",\"Professor \",\"McGonagall \",\". \"]],[[\"‘ \"],[\"“ \"]],[[\"Yes \",\", \"],[\"Yes \",\", \"]],[[\"’ \"],[\"” \"]],[[\"said \",\"Dumbledore \",\". \"],[\"said \",\"Dumbledore \",\". \"]],[[\"‘ \"],[\"“ \"]],[[\"He \",\"’ \",\"ll \",\"have \",\"that \",\"scar \"],[\"He \",\"’ \",\"ll \",\"have \",\"that \",\"scar \"]],[[\"for \",\"ever\"],[\"forever\"]],[[\". \"],[\". \"]],[[\"’ \",\"‘ \"],[\"” \",\"“ \"]],[[\"Couldn \",\"’ \",\"t \",\"you \",\"do \",\"something \",\"about \",\"it \",\", \",\"Dumbledore \",\"? \"],[\"Couldn \",\"’ \",\"t \",\"you \",\"do \",\"something \",\"about \",\"it \",\", \",\"Dumbledore \",\"? \"]],[[\"’ \",\"‘ \"],[\"” \",\"“ \"]],[[\"Even \",\"if \",\"I \",\"could \",\", \",\"I \",\"wouldn \",\"’ \",\"t \",\". \",\"Scars \",\"can \",\"come \",\"in \"],[\"Even \",\"if \",\"I \",\"could \",\", \",\"I \",\"wouldn \",\"’ \",\"t \",\". \",\"Scars \",\"can \",\"come \",\"in \"]],[[\"useful \"],[\"handy \"]],[[\". \",\"I \",\"have \",\"one \",\"myself \",\"above \",\"my \",\"left \",\"knee \"],[\". \",\"I \",\"have \",\"one \",\"myself \",\"above \",\"my \",\"left \",\"knee \"]],[[\"which \"],[\"that \"]],[[\"is \",\"a \",\"perfect \",\"map \",\"of \",\"the \",\"London \",\"Underground \",\". \",\"Well \"],[\"is \",\"a \",\"perfect \",\"map \",\"of \",\"the \",\"London \",\"Underground \",\". \",\"Well \"]],[[\"– \"],[\"— \"]],[[\"give \",\"him \",\"here \",\", \",\"Hagrid \"],[\"give \",\"him \",\"here \",\", \",\"Hagrid \"]],[[\"– \"],[\"— \"]],[[\"we \",\"’ \",\"d \",\"better \",\"get \",\"this \",\"over \",\"with\",\". \"],[\"we \",\"’ \",\"d \",\"better \",\"get \",\"this \",\"over \",\"with\",\". \"]],[[\"’ \"],[\"” \"]],[[\"Dumbledore \",\"took \",\"Harry \",\"in \",\"his \",\"arms \",\"and \",\"turned \"],[\"Dumbledore \",\"took \",\"Harry \",\"in \",\"his \",\"arms \",\"and \",\"turned \"]],[[\"towards \"],[\"toward \"]],[[\"the \",\"Dursleys \",\"’ \",\"house \",\". \"],[\"the \",\"Dursleys \",\"’ \",\"house \",\". \"]],[[\"‘ \"],[\"“ \"]],[[\"Could \",\"I \"],[\"Could \",\"I \"]],[[\"– \"],[\"— \"]],[[\"could \",\"I \",\"say \"],[\"could \",\"I \",\"say \"]],[[\"goodbye \"],[\"good-bye \"]],[[\"to \",\"him \",\", \",\"sir \",\"? \"],[\"to \",\"him \",\", \",\"sir \",\"? \"]],[[\"’ \"],[\"” \"]],[[\"asked \",\"Hagrid \",\". \",\"He \",\"bent \",\"his \",\"great \",\", \",\"shaggy \",\"head \",\"over \",\"Harry \",\"and \",\"gave \",\"him \",\"what \",\"must \",\"have \",\"been \",\"a \",\"very \",\"scratchy \",\", \",\"whiskery \",\"kiss \",\". \",\"Then \",\", \",\"suddenly \",\", \",\"Hagrid \",\"let \",\"out \",\"a \",\"howl \",\"like \",\"a \",\"wounded \",\"dog \",\". \"],[\"asked \",\"Hagrid \",\". \",\"He \",\"bent \",\"his \",\"great \",\", \",\"shaggy \",\"head \",\"over \",\"Harry \",\"and \",\"gave \",\"him \",\"what \",\"must \",\"have \",\"been \",\"a \",\"very \",\"scratchy \",\", \",\"whiskery \",\"kiss \",\". \",\"Then \",\", \",\"suddenly \",\", \",\"Hagrid \",\"let \",\"out \",\"a \",\"howl \",\"like \",\"a \",\"wounded \",\"dog \",\". \"]],[[\"‘ \"],[\"“ \"]],[[\"Shhh \",\"! \"],[\"Shhh \",\"! \"]],[[\"’ \"],[\"” \"]],[[\"hissed \",\"Professor \",\"McGonagall \"],[\"hissed \",\"Professor \",\"McGonagall \"]],[[\". \",\"‘ \"],[\", \",\"“ \"]],[[\"You \",\"’ \",\"ll \",\"wake \",\"the \",\"Muggles \",\"! \"],[\"you \",\"’ \",\"ll \",\"wake \",\"the \",\"Muggles \",\"! \"]],[[\"’ \",\"‘ \"],[\"” \",\"“ \"]],[[\"S-s-sorry \",\", \"],[\"S-s-sorry \",\", \"]],[[\"’ \"],[\"” \"]],[[\"sobbed \",\"Hagrid \",\", \",\"taking \",\"out \",\"a \",\"large \"],[\"sobbed \",\"Hagrid \",\", \",\"taking \",\"out \",\"a \",\"large \"]],[[],[\", \"]],[[\"spotted \",\"handkerchief \",\"and \",\"burying \",\"his \",\"face \",\"in \",\"it \",\". \"],[\"spotted \",\"handkerchief \",\"and \",\"burying \",\"his \",\"face \",\"in \",\"it \",\". \"]],[[\"‘ \"],[\"“ \"]],[[\"But \",\"I \",\"c-c-can \",\"’ \",\"t \",\"stand \",\"it \"],[\"But \",\"I \",\"c-c-can \",\"’ \",\"t \",\"stand \",\"it \"]],[[\"– \"],[\"— \"]],[[\"Lily \",\"an \",\"’ \",\"James \",\"dead \"],[\"Lily \",\"an \",\"’ \",\"James \",\"dead \"]],[[\"– \"],[\"— \"]],[[\"an \",\"’ \",\"poor \",\"little \",\"Harry \",\"off \",\"ter \",\"live \",\"with \",\"Muggles \"],[\"an \",\"’ \",\"poor \",\"little \",\"Harry \",\"off \",\"ter \",\"live \",\"with \",\"Muggles \"]],[[\"– \",\"’ \",\"‘ \"],[\"— \",\"” \",\"“ \"]],[[\"Yes \",\", \",\"yes \",\", \",\"it \",\"’ \",\"s \",\"all \",\"very \",\"sad \",\", \",\"but \",\"get \",\"a \",\"grip \",\"on \",\"yourself \",\", \",\"Hagrid \",\", \",\"or \",\"we \",\"’ \",\"ll \",\"be \",\"found \",\", \"],[\"Yes \",\", \",\"yes \",\", \",\"it \",\"’ \",\"s \",\"all \",\"very \",\"sad \",\", \",\"but \",\"get \",\"a \",\"grip \",\"on \",\"yourself \",\", \",\"Hagrid \",\", \",\"or \",\"we \",\"’ \",\"ll \",\"be \",\"found \",\", \"]],[[\"’ \"],[\"” \"]],[[\"Professor \",\"McGonagall \",\"whispered \",\", \",\"patting \",\"Hagrid \",\"gingerly \",\"on \",\"the \",\"arm \",\"as \",\"Dumbledore \",\"stepped \",\"over \",\"the \",\"low \",\"garden \",\"wall \",\"and \",\"walked \",\"to \",\"the \",\"front \",\"door \",\". \",\"He \",\"laid \",\"Harry \",\"gently \",\"on \",\"the \",\"doorstep \",\", \",\"took \",\"a \",\"letter \",\"out \",\"of \",\"his \",\"cloak \",\", \",\"tucked \",\"it \",\"inside \",\"Harry \",\"’ \",\"s \",\"blankets \"],[\"Professor \",\"McGonagall \",\"whispered \",\", \",\"patting \",\"Hagrid \",\"gingerly \",\"on \",\"the \",\"arm \",\"as \",\"Dumbledore \",\"stepped \",\"over \",\"the \",\"low \",\"garden \",\"wall \",\"and \",\"walked \",\"to \",\"the \",\"front \",\"door \",\". \",\"He \",\"laid \",\"Harry \",\"gently \",\"on \",\"the \",\"doorstep \",\", \",\"took \",\"a \",\"letter \",\"out \",\"of \",\"his \",\"cloak \",\", \",\"tucked \",\"it \",\"inside \",\"Harry \",\"’ \",\"s \",\"blankets \"]],[[],[\", \"]],[[\"and \",\"then \",\"came \",\"back \",\"to \",\"the \",\"other \",\"two \",\". \",\"For \",\"a \",\"full \",\"minute \",\"the \",\"three \",\"of \",\"them \",\"stood \",\"and \",\"looked \",\"at \",\"the \",\"little \",\"bundle \",\"; \",\"Hagrid \",\"’ \",\"s \",\"shoulders \",\"shook \",\", \",\"Professor \",\"McGonagall \",\"blinked \",\"furiously \"],[\"and \",\"then \",\"came \",\"back \",\"to \",\"the \",\"other \",\"two \",\". \",\"For \",\"a \",\"full \",\"minute \",\"the \",\"three \",\"of \",\"them \",\"stood \",\"and \",\"looked \",\"at \",\"the \",\"little \",\"bundle \",\"; \",\"Hagrid \",\"’ \",\"s \",\"shoulders \",\"shook \",\", \",\"Professor \",\"McGonagall \",\"blinked \",\"furiously \"]],[[],[\", \"]],[[\"and \",\"the \",\"twinkling \",\"light \",\"that \",\"usually \",\"shone \",\"from \",\"Dumbledore \",\"’ \",\"s \",\"eyes \",\"seemed \",\"to \",\"have \",\"gone \",\"out \",\". \"],[\"and \",\"the \",\"twinkling \",\"light \",\"that \",\"usually \",\"shone \",\"from \",\"Dumbledore \",\"’ \",\"s \",\"eyes \",\"seemed \",\"to \",\"have \",\"gone \",\"out \",\". \"]],[[\"‘ \"],[\"“ \"]],[[\"Well \",\", \"],[\"Well \",\", \"]],[[\"’ \"],[\"” \"]],[[\"said \",\"Dumbledore \",\"finally \",\", \"],[\"said \",\"Dumbledore \",\"finally \",\", \"]],[[\"‘ \"],[\"“ \"]],[[\"that \",\"’ \",\"s \",\"that \",\". \",\"We \",\"’ \",\"ve \",\"no \",\"business \",\"staying \",\"here \",\". \",\"We \",\"may \",\"as \",\"well \",\"go \",\"and \",\"join \",\"the \",\"celebrations\",\". \"],[\"that \",\"’ \",\"s \",\"that \",\". \",\"We \",\"’ \",\"ve \",\"no \",\"business \",\"staying \",\"here \",\". \",\"We \",\"may \",\"as \",\"well \",\"go \",\"and \",\"join \",\"the \",\"celebrations\",\". \"]],[[\"’ \",\"‘ \"],[\"” \",\"“ \"]],[[\"Yeah \",\", \"],[\"Yeah \",\", \"]],[[\"’ \"],[\"” \"]],[[\"said \",\"Hagrid \",\"in \",\"a \",\"very \",\"muffled \",\"voice \"],[\"said \",\"Hagrid \",\"in \",\"a \",\"very \",\"muffled \",\"voice \"]],[[\". \",\"‘ \"],[\", \",\"“ \"]],[[\"I \",\"’ \",\"d \",\"best \",\"get \",\"this \",\"bike \",\"away \",\". \",\"G \",\"’ \",\"night \",\", \",\"Professor \",\"McGonagall \"],[\"I \",\"’ \",\"d \",\"best \",\"get \",\"this \",\"bike \",\"away \",\". \",\"G \",\"’ \",\"night \",\", \",\"Professor \",\"McGonagall \"]],[[\"– \"],[\"— \"]],[[\"Professor \",\"Dumbledore \",\", \",\"sir\",\". \"],[\"Professor \",\"Dumbledore \",\", \",\"sir\",\". \"]],[[\"’ \"],[\"” \"]],[[\"Wiping \",\"his \",\"streaming \",\"eyes \",\"on \",\"his \",\"jacket \",\"sleeve \",\", \",\"Hagrid \",\"swung \",\"himself \"],[\"Wiping \",\"his \",\"streaming \",\"eyes \",\"on \",\"his \",\"jacket \",\"sleeve \",\", \",\"Hagrid \",\"swung \",\"himself \"]],[[\"on \",\"to \"],[\"onto \"]],[[\"the \"],[\"the \"]],[[\"motorbike \"],[\"motorcycle \"]],[[\"and \",\"kicked \",\"the \",\"engine \",\"into \",\"life \",\"; \",\"with \",\"a \",\"roar \",\"it \",\"rose \",\"into \",\"the \",\"air \",\"and \",\"off \",\"into \",\"the \",\"night \",\". \"],[\"and \",\"kicked \",\"the \",\"engine \",\"into \",\"life \",\"; \",\"with \",\"a \",\"roar \",\"it \",\"rose \",\"into \",\"the \",\"air \",\"and \",\"off \",\"into \",\"the \",\"night \",\". \"]],[[\"‘ \"],[\"“ \"]],[[\"I \",\"shall \",\"see \",\"you \",\"soon \",\", \",\"I \",\"expect \",\", \",\"Professor \",\"McGonagall \",\", \"],[\"I \",\"shall \",\"see \",\"you \",\"soon \",\", \",\"I \",\"expect \",\", \",\"Professor \",\"McGonagall \",\", \"]],[[\"’ \"],[\"” \"]],[[\"said \",\"Dumbledore \",\", \",\"nodding \",\"to \",\"her \",\". \",\"Professor \",\"McGonagall \",\"blew \",\"her \",\"nose \",\"in \",\"reply \",\". \",\"Dumbledore \",\"turned \",\"and \",\"walked \",\"back \",\"down \",\"the \",\"street \",\". \",\"On \",\"the \",\"corner \",\"he \",\"stopped \",\"and \",\"took \",\"out \",\"the \",\"silver \",\"Put-Outer \",\". \",\"He \",\"clicked \",\"it \",\"once \"],[\"said \",\"Dumbledore \",\", \",\"nodding \",\"to \",\"her \",\". \",\"Professor \",\"McGonagall \",\"blew \",\"her \",\"nose \",\"in \",\"reply \",\". \",\"Dumbledore \",\"turned \",\"and \",\"walked \",\"back \",\"down \",\"the \",\"street \",\". \",\"On \",\"the \",\"corner \",\"he \",\"stopped \",\"and \",\"took \",\"out \",\"the \",\"silver \",\"Put-Outer \",\". \",\"He \",\"clicked \",\"it \",\"once \"]],[[],[\", \"]],[[\"and \",\"twelve \",\"balls \",\"of \",\"light \",\"sped \",\"back \",\"to \",\"their \",\"street \",\"lamps \",\"so \",\"that \",\"Privet \",\"Drive \",\"glowed \",\"suddenly \",\"orange \",\"and \",\"he \",\"could \",\"make \",\"out \",\"a \",\"tabby \",\"cat \",\"slinking \",\"around \",\"the \",\"corner \",\"at \",\"the \",\"other \",\"end \",\"of \",\"the \",\"street \",\". \",\"He \",\"could \",\"just \",\"see \",\"the \",\"bundle \",\"of \",\"blankets \",\"on \",\"the \",\"step \",\"of \",\"number \",\"four \",\". \"],[\"and \",\"twelve \",\"balls \",\"of \",\"light \",\"sped \",\"back \",\"to \",\"their \",\"street \",\"lamps \",\"so \",\"that \",\"Privet \",\"Drive \",\"glowed \",\"suddenly \",\"orange \",\"and \",\"he \",\"could \",\"make \",\"out \",\"a \",\"tabby \",\"cat \",\"slinking \",\"around \",\"the \",\"corner \",\"at \",\"the \",\"other \",\"end \",\"of \",\"the \",\"street \",\". \",\"He \",\"could \",\"just \",\"see \",\"the \",\"bundle \",\"of \",\"blankets \",\"on \",\"the \",\"step \",\"of \",\"number \",\"four \",\". \"]],[[\"‘ \"],[\"“ \"]],[[\"Good \",\"luck \",\", \",\"Harry \",\", \"],[\"Good \",\"luck \",\", \",\"Harry \",\", \"]],[[\"’ \"],[\"” \"]],[[\"he \",\"murmured \",\". \",\"He \",\"turned \",\"on \",\"his \",\"heel \",\"and \",\"with \",\"a \",\"swish \",\"of \",\"his \",\"cloak \"],[\"he \",\"murmured \",\". \",\"He \",\"turned \",\"on \",\"his \",\"heel \",\"and \",\"with \",\"a \",\"swish \",\"of \",\"his \",\"cloak \"]],[[],[\", \"]],[[\"he \",\"was \",\"gone \",\". \",\"A \",\"breeze \",\"ruffled \",\"the \",\"neat \",\"hedges \",\"of \",\"Privet \",\"Drive \",\", \",\"which \",\"lay \",\"silent \",\"and \",\"tidy \",\"under \",\"the \",\"inky \",\"sky \",\", \",\"the \",\"very \",\"last \",\"place \",\"you \",\"would \",\"expect \",\"astonishing \",\"things \",\"to \",\"happen \",\". \",\"Harry \",\"Potter \",\"rolled \",\"over \",\"inside \",\"his \",\"blankets \",\"without \",\"waking \",\"up \",\". \",\"One \",\"small \",\"hand \",\"closed \",\"on \",\"the \",\"letter \",\"beside \",\"him \",\"and \",\"he \",\"slept \",\"on \",\", \",\"not \",\"knowing \",\"he \",\"was \",\"special \",\", \",\"not \",\"knowing \",\"he \",\"was \",\"famous \",\", \",\"not \",\"knowing \",\"he \",\"would \",\"be \",\"woken \",\"in \",\"a \",\"few \",\"hours \",\"’ \",\"time \",\"by \",\"Mrs \"],[\"he \",\"was \",\"gone \",\". \",\"A \",\"breeze \",\"ruffled \",\"the \",\"neat \",\"hedges \",\"of \",\"Privet \",\"Drive \",\", \",\"which \",\"lay \",\"silent \",\"and \",\"tidy \",\"under \",\"the \",\"inky \",\"sky \",\", \",\"the \",\"very \",\"last \",\"place \",\"you \",\"would \",\"expect \",\"astonishing \",\"things \",\"to \",\"happen \",\". \",\"Harry \",\"Potter \",\"rolled \",\"over \",\"inside \",\"his \",\"blankets \",\"without \",\"waking \",\"up \",\". \",\"One \",\"small \",\"hand \",\"closed \",\"on \",\"the \",\"letter \",\"beside \",\"him \",\"and \",\"he \",\"slept \",\"on \",\", \",\"not \",\"knowing \",\"he \",\"was \",\"special \",\", \",\"not \",\"knowing \",\"he \",\"was \",\"famous \",\", \",\"not \",\"knowing \",\"he \",\"would \",\"be \",\"woken \",\"in \",\"a \",\"few \",\"hours \",\"’ \",\"time \",\"by \",\"Mrs\"]],[[],[\". \"]],[[\"Dursley \",\"’ \",\"s \",\"scream \",\"as \",\"she \",\"opened \",\"the \",\"front \",\"door \",\"to \",\"put \",\"out \",\"the \",\"milk \",\"bottles \",\", \",\"nor \",\"that \",\"he \",\"would \",\"spend \",\"the \",\"next \",\"few \",\"weeks \",\"being \",\"prodded \",\"and \",\"pinched \",\"by \",\"his \",\"cousin \",\"Dudley… \",\"He \",\"couldn \",\"’ \",\"t \",\"know \",\"that \",\"at \",\"this \",\"very \",\"moment \",\", \",\"people \",\"meeting \",\"in \",\"secret \",\"all \",\"over \",\"the \",\"country \",\"were \",\"holding \",\"up \",\"their \",\"glasses \",\"and \",\"saying \",\"in \",\"hushed \",\"voices \",\": \"],[\"Dursley \",\"’ \",\"s \",\"scream \",\"as \",\"she \",\"opened \",\"the \",\"front \",\"door \",\"to \",\"put \",\"out \",\"the \",\"milk \",\"bottles \",\", \",\"nor \",\"that \",\"he \",\"would \",\"spend \",\"the \",\"next \",\"few \",\"weeks \",\"being \",\"prodded \",\"and \",\"pinched \",\"by \",\"his \",\"cousin \",\"Dudley… \",\"He \",\"couldn \",\"’ \",\"t \",\"know \",\"that \",\"at \",\"this \",\"very \",\"moment \",\", \",\"people \",\"meeting \",\"in \",\"secret \",\"all \",\"over \",\"the \",\"country \",\"were \",\"holding \",\"up \",\"their \",\"glasses \",\"and \",\"saying \",\"in \",\"hushed \",\"voices \",\": \"]],[[\"‘ \"],[\"“ \"]],[[\"To \",\"Harry \",\"Potter \"],[\"To \",\"Harry \",\"Potter \"]],[[\"– \"],[\"— \"]],[[\"the \",\"boy \",\"who \",\"lived \",\"! \"],[\"the \",\"boy \",\"who \",\"lived \",\"! \"]],[[\"’ \",\"ut \"],[\"t \"]],[[\"a \",\"tabby \",\"cat \",\"slinking \",\"around \",\"the \",\"corner \",\"at \",\"the \",\"other \",\"end \",\"of \",\"the \",\"street \",\". \",\"He \",\"could \",\"just \",\"see \",\"the \",\"bundle \",\"of \",\"blankets \",\"on \",\"the \",\"step \",\"of \",\"number \",\"four \",\". \"],[\"a \",\"tabby \",\"cat \",\"slinking \",\"around \",\"the \",\"corner \",\"at \",\"the \",\"other \",\"end \",\"of \",\"the \",\"street \",\". \",\"He \",\"could \",\"just \",\"see \",\"the \",\"bundle \",\"of \",\"blankets \",\"on \",\"the \",\"step \",\"of \",\"number \",\"four \",\". \"]],[[\"‘ \"],[\"“ \"]],[[\"Good \",\"luck \",\", \",\"Harry \",\", \"],[\"Good \",\"luck \",\", \",\"Harry \",\", \"]],[[\"’ \"],[\"” \"]],[[\"he \",\"murmured \",\". \",\"He \",\"turned \",\"on \",\"his \",\"heel \",\"and \",\"with \",\"a \",\"swish \",\"of \",\"his \",\"cloak \"],[\"he \",\"murmured \",\". \",\"He \",\"turned \",\"on \",\"his \",\"heel \",\"and \",\"with \",\"a \",\"swish \",\"of \",\"his \",\"cloak \"]],[[],[\", \"]],[[\"he \",\"was \",\"gone \",\". \",\"A \",\"breeze \",\"ruffled \",\"the \",\"neat \",\"hedges \",\"of \",\"Privet \",\"Drive \",\", \",\"which \",\"lay \",\"silent \",\"and \",\"tidy \",\"under \",\"the \",\"inky \",\"sky \",\", \",\"the \",\"very \",\"last \",\"place \",\"you \",\"would \",\"expect \",\"astonishing \",\"things \",\"to \",\"happen \",\". \",\"Harry \",\"Potter \",\"rolled \",\"over \",\"inside \",\"his \",\"blankets \",\"without \",\"waking \",\"up \",\". \",\"One \",\"small \",\"hand \",\"closed \",\"on \",\"the \",\"letter \",\"beside \",\"him \",\"and \",\"he \",\"slept \",\"on \",\", \",\"not \",\"knowing \",\"he \",\"was \",\"special \",\", \",\"not \",\"knowing \",\"he \",\"was \",\"famous \",\", \",\"not \",\"knowing \",\"he \",\"would \",\"be \",\"woken \",\"in \",\"a \",\"few \",\"hours \",\"’ \",\"time \",\"by \",\"Mrs \"],[\"he \",\"was \",\"gone \",\". \",\"A \",\"breeze \",\"ruffled \",\"the \",\"neat \",\"hedges \",\"of \",\"Privet \",\"Drive \",\", \",\"which \",\"lay \",\"silent \",\"and \",\"tidy \",\"under \",\"the \",\"inky \",\"sky \",\", \",\"the \",\"very \",\"last \",\"place \",\"you \",\"would \",\"expect \",\"astonishing \",\"things \",\"to \",\"happen \",\". \",\"Harry \",\"Potter \",\"rolled \",\"over \",\"inside \",\"his \",\"blankets \",\"without \",\"waking \",\"up \",\". \",\"One \",\"small \",\"hand \",\"closed \",\"on \",\"the \",\"letter \",\"beside \",\"him \",\"and \",\"he \",\"slept \",\"on \",\", \",\"not \",\"knowing \",\"he \",\"was \",\"special \",\", \",\"not \",\"knowing \",\"he \",\"was \",\"famous \",\", \",\"not \",\"knowing \",\"he \",\"would \",\"be \",\"woken \",\"in \",\"a \",\"few \",\"hours \",\"’ \",\"time \",\"by \",\"Mrs\"]],[[],[\". \"]],[[\"Dursley \",\"’ \",\"s \",\"scream \",\"as \",\"she \",\"opened \",\"the \",\"front \",\"door \",\"to \",\"put \",\"out \",\"the \",\"milk \",\"bottles \",\", \",\"nor \",\"that \",\"he \",\"would \",\"spend \",\"the \",\"next \",\"few \",\"weeks \",\"being \",\"prodded \",\"and \",\"pinched \",\"by \",\"his \"],[\"Dursley \",\"’ \",\"s \",\"scream \",\"as \",\"she \",\"opened \",\"the \",\"front \",\"door \",\"to \",\"put \",\"out \",\"the \",\"milk \",\"bottles \",\", \",\"nor \",\"that \",\"he \",\"would \",\"spend \",\"the \",\"next \",\"few \",\"weeks \",\"being \",\"prodded \",\"and \",\"pinched \",\"by \",\"his \"]],[[\"cousin \",\"Dudley… \",\"He \",\"couldn \",\"’ \",\"t \",\"know \",\"that \",\"at \"],[\"cou\"]]]}"
     ]
    }
   ],
   "source": [
    "!java -jar collatex-tools-1.7.1.jar uk_chap1.txt us_chap1.txt"
   ]
  },
  {
   "cell_type": "markdown",
   "metadata": {},
   "source": [
    "This should print a rather large string to your console: because we did not specify an output file, the output of the program simply gets passed to the command line (or the so-called **standard output** route) in its entirety. To catch this output and send it to an actual file, there is a again a useful flag for this:"
   ]
  },
  {
   "cell_type": "code",
   "execution_count": 29,
   "metadata": {},
   "outputs": [
    {
     "name": "stdout",
     "output_type": "stream",
     "text": [
      "Warning: Nashorn engine is planned to be removed from a future JDK release\n"
     ]
    }
   ],
   "source": [
    "!java -jar collatex-tools-1.7.1.jar uk_chap1.txt us_chap1.txt --output chap1.json"
   ]
  },
  {
   "cell_type": "markdown",
   "metadata": {},
   "source": [
    "If you open the resulting file in a text editor, you will see that the output in the file `chap1.json` has been formatted as **json**. As you know already, json is a format that allows us to express a number of data collection using a simply structure that is reminiscent of the way lists or dictionaries are used in Python. For now, have a look at the bit that follows `\"table\":`. Can you explain how the result of the collation of two **witnesses** or text versions is reflected in this data structure?"
   ]
  },
  {
   "cell_type": "markdown",
   "metadata": {},
   "source": [
    "## The Python port"
   ]
  },
  {
   "cell_type": "markdown",
   "metadata": {},
   "source": [
    "Since a couple of years, there exists also a sort of \"rewrite\" or **port** of CollateX to Python and we will now explore that -- the highly respected scholar Ronald Haentjens Dekker (Huygens ING) is the lead developer of the project. Apart from the fact that it interacts really well with Jupyter notebooks, this port comes with a number of intuitive ways to visualize the result of a collation, live in our browser. To install the Python port, executing the following block should suffice -- if you're lucky... Detailed installation instructions can be found [here](http://collatex.obdurodon.org/installation.xhtml), should anything go wrong. As you can see, we also include a **dependency** of Collatex, i.e. another package that `CollateX` relies on for some of its functionality. This dependency should be installed *before* you install Collatex."
   ]
  },
  {
   "cell_type": "code",
   "execution_count": 43,
   "metadata": {},
   "outputs": [
    {
     "name": "stdout",
     "output_type": "stream",
     "text": [
      "Requirement already satisfied: graphviz in /Users/whaverals/opt/anaconda3/envs/py36/lib/python3.6/site-packages (0.16)\n",
      "Requirement already satisfied: python-levenshtein in /Users/whaverals/opt/anaconda3/envs/py36/lib/python3.6/site-packages (0.12.2)\n",
      "Requirement already satisfied: setuptools in /Users/whaverals/opt/anaconda3/envs/py36/lib/python3.6/site-packages (from python-levenshtein) (49.2.0.post20200714)\n",
      "Requirement already satisfied: Collatex in /Users/whaverals/opt/anaconda3/envs/py36/lib/python3.6/site-packages (2.2)\n",
      "Requirement already satisfied: networkx in /Users/whaverals/opt/anaconda3/envs/py36/lib/python3.6/site-packages (from Collatex) (2.4)\n",
      "Requirement already satisfied: prettytable in /Users/whaverals/opt/anaconda3/envs/py36/lib/python3.6/site-packages (from Collatex) (2.0.0)\n",
      "Requirement already satisfied: decorator>=4.3.0 in /Users/whaverals/opt/anaconda3/envs/py36/lib/python3.6/site-packages (from networkx->Collatex) (4.4.2)\n",
      "Requirement already satisfied: setuptools in /Users/whaverals/opt/anaconda3/envs/py36/lib/python3.6/site-packages (from prettytable->Collatex) (49.2.0.post20200714)\n",
      "Requirement already satisfied: wcwidth in /Users/whaverals/opt/anaconda3/envs/py36/lib/python3.6/site-packages (from prettytable->Collatex) (0.2.5)\n"
     ]
    }
   ],
   "source": [
    "!pip install graphviz\n",
    "!pip install python-levenshtein\n",
    "!pip install Collatex"
   ]
  },
  {
   "cell_type": "markdown",
   "metadata": {},
   "source": [
    "`pip` is a tool that allows you to quickly install **third-party packages** that are publicly available (as opposed to the **standard library** that is a part of Python itself). Interestingly, `pip` tries to make sure that you download a version that plays nicely with your specific hardware and software.\n",
    "\n",
    "Let us start with a really obvious but famous a example: the title of the very first Harry Potter book, which was modified, because people thought that the word \"philosopher\" would be to difficult for American children... We add a string representing each title as a witness, and have `CollateX` align those versions. We inspect the result in a so-called alignment table that visualizes the correspondences and deviations between our two witnesses:"
   ]
  },
  {
   "cell_type": "code",
   "execution_count": 44,
   "metadata": {},
   "outputs": [
    {
     "name": "stdout",
     "output_type": "stream",
     "text": [
      "+----+----------------------+-------------+----------+\n",
      "| UK | Harry Potter and the | Philosopher | 's Stone |\n",
      "| US | Harry Potter and the | Sorcerer    | 's Stone |\n",
      "+----+----------------------+-------------+----------+\n"
     ]
    }
   ],
   "source": [
    "from collatex import *\n",
    "\n",
    "collation = Collation()\n",
    "\n",
    "collation.add_plain_witness('UK', \"Harry Potter and the Philosopher's Stone\")\n",
    "collation.add_plain_witness('US', \"Harry Potter and the Sorcerer's Stone\")\n",
    "\n",
    "alignment_table = collate(collation)\n",
    "\n",
    "print(alignment_table)"
   ]
  },
  {
   "cell_type": "markdown",
   "metadata": {},
   "source": [
    "As you can see, CollateX has correctly identified and aligned the parts in which both titles deviate (or match). Essentially, the result of an alignment is a long list of pairs, showing which parts in the first witness (`\"UK\"`) correspond to the second witness which we specified (`\"US\"`). We can iterate over these pairs as follows, if we want to postprocess the output:"
   ]
  },
  {
   "cell_type": "code",
   "execution_count": 36,
   "metadata": {},
   "outputs": [
    {
     "name": "stdout",
     "output_type": "stream",
     "text": [
      "[Harry, Potter, and, the]\n",
      "[Harry, Potter, and, the]\n",
      "===\n",
      "[Sorcerer]\n",
      "[Philosopher]\n",
      "===\n",
      "[', s, Stone]\n",
      "[', s, Stone]\n",
      "===\n"
     ]
    }
   ],
   "source": [
    "for i in alignment_table.columns:\n",
    "    for idx, tokens in i.tokens_per_witness.items():\n",
    "        print(tokens)\n",
    "    print('===')"
   ]
  },
  {
   "cell_type": "markdown",
   "metadata": {},
   "source": [
    "Another really fancy way to visualize the result of a collation is through the use of a **variant graph**. "
   ]
  },
  {
   "cell_type": "code",
   "execution_count": 45,
   "metadata": {},
   "outputs": [
    {
     "data": {
      "image/svg+xml": [
       "<svg height=\"168pt\" viewBox=\"0.00 0.00 1223.13 167.71\" width=\"1223pt\" xmlns=\"http://www.w3.org/2000/svg\" xmlns:xlink=\"http://www.w3.org/1999/xlink\">\n",
       "<g class=\"graph\" id=\"graph0\" transform=\"scale(1 1) rotate(0) translate(4 163.71)\">\n",
       "<title>%3</title>\n",
       "<polygon fill=\"white\" points=\"-4,4 -4,-163.71 1219.13,-163.71 1219.13,4 -4,4\" stroke=\"transparent\"/>\n",
       "<!-- 1 -->\n",
       "<g class=\"node\" id=\"node1\">\n",
       "<title>1</title>\n",
       "<ellipse cx=\"68.59\" cy=\"-79.36\" fill=\"none\" rx=\"68.68\" ry=\"21.43\" stroke=\"black\"/>\n",
       "<polygon fill=\"none\" points=\"29.59,-69.36 29.59,-89.36 59.59,-89.36 59.59,-69.36 29.59,-69.36\" stroke=\"black\"/>\n",
       "<text font-family=\"Times,serif\" font-size=\"14.00\" font-weight=\"bold\" text-anchor=\"start\" x=\"32.54\" y=\"-76.16\">start</text>\n",
       "<polygon fill=\"none\" points=\"59.59,-69.36 59.59,-89.36 108.59,-89.36 108.59,-69.36 59.59,-69.36\" stroke=\"black\"/>\n",
       "<text font-family=\"Times,serif\" font-size=\"14.00\" text-anchor=\"start\" x=\"62.13\" y=\"-75.16\">exact: 0</text>\n",
       "<polygon fill=\"none\" points=\"28.09,-68.36 28.09,-90.36 109.09,-90.36 109.09,-68.36 28.09,-68.36\" stroke=\"black\"/>\n",
       "</g>\n",
       "<!-- 3 -->\n",
       "<g class=\"node\" id=\"node3\">\n",
       "<title>3</title>\n",
       "<ellipse cx=\"362.55\" cy=\"-79.36\" fill=\"none\" rx=\"144.5\" ry=\"35.21\" stroke=\"black\"/>\n",
       "<polygon fill=\"none\" points=\"269.55,-79.36 269.55,-99.36 404.55,-99.36 404.55,-79.36 269.55,-79.36\" stroke=\"black\"/>\n",
       "<text font-family=\"Times,serif\" font-size=\"14.00\" font-weight=\"bold\" text-anchor=\"start\" x=\"272.55\" y=\"-86.16\">Harry Potter and the</text>\n",
       "<polygon fill=\"none\" points=\"404.55,-79.36 404.55,-99.36 455.55,-99.36 455.55,-79.36 404.55,-79.36\" stroke=\"black\"/>\n",
       "<text font-family=\"Times,serif\" font-size=\"14.00\" text-anchor=\"start\" x=\"407.55\" y=\"-85.16\">exact: 1</text>\n",
       "<polygon fill=\"none\" points=\"269.55,-59.36 269.55,-79.36 404.55,-79.36 404.55,-59.36 269.55,-59.36\" stroke=\"black\"/>\n",
       "<text font-family=\"Bukyvede\" font-size=\"14.00\" text-anchor=\"start\" x=\"272.07\" y=\"-65.16\">Harry Potter and the </text>\n",
       "<polygon fill=\"none\" points=\"404.55,-59.36 404.55,-79.36 455.55,-79.36 455.55,-59.36 404.55,-59.36\" stroke=\"black\"/>\n",
       "<text font-family=\"Times,serif\" font-size=\"14.00\" text-anchor=\"start\" x=\"407.49\" y=\"-65.16\">UK, US</text>\n",
       "<polygon fill=\"none\" points=\"268.55,-58.36 268.55,-100.36 456.55,-100.36 456.55,-58.36 268.55,-58.36\" stroke=\"black\"/>\n",
       "</g>\n",
       "<!-- 1&#45;&gt;3 -->\n",
       "<g class=\"edge\" id=\"edge1\">\n",
       "<title>1-&gt;3</title>\n",
       "<path d=\"M137.3,-79.36C158.62,-79.36 183.1,-79.36 207.88,-79.36\" fill=\"none\" stroke=\"black\"/>\n",
       "<polygon fill=\"black\" points=\"208.13,-82.86 218.13,-79.36 208.13,-75.86 208.13,-82.86\" stroke=\"black\"/>\n",
       "<text font-family=\"Times,serif\" font-size=\"14.00\" text-anchor=\"middle\" x=\"177.74\" y=\"-82.16\">UK, US</text>\n",
       "</g>\n",
       "<!-- 2 -->\n",
       "<g class=\"node\" id=\"node2\">\n",
       "<title>2</title>\n",
       "<ellipse cx=\"1149.37\" cy=\"-79.36\" fill=\"none\" rx=\"65.52\" ry=\"21.43\" stroke=\"black\"/>\n",
       "<polygon fill=\"none\" points=\"1112.37,-69.36 1112.37,-89.36 1138.37,-89.36 1138.37,-69.36 1112.37,-69.36\" stroke=\"black\"/>\n",
       "<text font-family=\"Times,serif\" font-size=\"14.00\" font-weight=\"bold\" text-anchor=\"start\" x=\"1115.26\" y=\"-76.16\">end</text>\n",
       "<polygon fill=\"none\" points=\"1138.37,-69.36 1138.37,-89.36 1187.37,-89.36 1187.37,-69.36 1138.37,-69.36\" stroke=\"black\"/>\n",
       "<text font-family=\"Times,serif\" font-size=\"14.00\" text-anchor=\"start\" x=\"1140.91\" y=\"-75.16\">exact: 4</text>\n",
       "<polygon fill=\"none\" points=\"1110.87,-68.36 1110.87,-90.36 1187.87,-90.36 1187.87,-68.36 1110.87,-68.36\" stroke=\"black\"/>\n",
       "</g>\n",
       "<!-- 4 -->\n",
       "<g class=\"node\" id=\"node4\">\n",
       "<title>4</title>\n",
       "<ellipse cx=\"666.25\" cy=\"-124.36\" fill=\"none\" rx=\"103.48\" ry=\"35.21\" stroke=\"black\"/>\n",
       "<polygon fill=\"none\" points=\"602.25,-124.36 602.25,-144.36 681.25,-144.36 681.25,-124.36 602.25,-124.36\" stroke=\"black\"/>\n",
       "<text font-family=\"Times,serif\" font-size=\"14.00\" font-weight=\"bold\" text-anchor=\"start\" x=\"605.25\" y=\"-131.16\">Philosopher</text>\n",
       "<polygon fill=\"none\" points=\"681.25,-124.36 681.25,-144.36 730.25,-144.36 730.25,-124.36 681.25,-124.36\" stroke=\"black\"/>\n",
       "<text font-family=\"Times,serif\" font-size=\"14.00\" text-anchor=\"start\" x=\"683.79\" y=\"-130.16\">exact: 2</text>\n",
       "<polygon fill=\"none\" points=\"602.25,-104.36 602.25,-124.36 681.25,-124.36 681.25,-104.36 602.25,-104.36\" stroke=\"black\"/>\n",
       "<text font-family=\"Bukyvede\" font-size=\"14.00\" text-anchor=\"start\" x=\"604.79\" y=\"-110.16\">Philosopher</text>\n",
       "<polygon fill=\"none\" points=\"681.25,-104.36 681.25,-124.36 730.25,-124.36 730.25,-104.36 681.25,-104.36\" stroke=\"black\"/>\n",
       "<text font-family=\"Times,serif\" font-size=\"14.00\" text-anchor=\"start\" x=\"684.25\" y=\"-110.16\">UK</text>\n",
       "<polygon fill=\"none\" points=\"601.25,-103.36 601.25,-145.36 731.25,-145.36 731.25,-103.36 601.25,-103.36\" stroke=\"black\"/>\n",
       "</g>\n",
       "<!-- 3&#45;&gt;4 -->\n",
       "<g class=\"edge\" id=\"edge2\">\n",
       "<title>3-&gt;4</title>\n",
       "<path d=\"M486.26,-97.66C511.21,-101.38 537.23,-105.26 561.44,-108.87\" fill=\"none\" stroke=\"black\"/>\n",
       "<polygon fill=\"black\" points=\"560.94,-112.33 571.34,-110.35 561.97,-105.41 560.94,-112.33\" stroke=\"black\"/>\n",
       "<text font-family=\"Times,serif\" font-size=\"14.00\" text-anchor=\"middle\" x=\"534.91\" y=\"-108.16\">UK</text>\n",
       "</g>\n",
       "<!-- 6 -->\n",
       "<g class=\"node\" id=\"node6\">\n",
       "<title>6</title>\n",
       "<ellipse cx=\"666.25\" cy=\"-35.36\" fill=\"none\" rx=\"89.19\" ry=\"35.21\" stroke=\"black\"/>\n",
       "<polygon fill=\"none\" points=\"612.25,-35.36 612.25,-55.36 671.25,-55.36 671.25,-35.36 612.25,-35.36\" stroke=\"black\"/>\n",
       "<text font-family=\"Times,serif\" font-size=\"14.00\" font-weight=\"bold\" text-anchor=\"start\" x=\"615.25\" y=\"-42.16\">Sorcerer</text>\n",
       "<polygon fill=\"none\" points=\"671.25,-35.36 671.25,-55.36 720.25,-55.36 720.25,-35.36 671.25,-35.36\" stroke=\"black\"/>\n",
       "<text font-family=\"Times,serif\" font-size=\"14.00\" text-anchor=\"start\" x=\"673.79\" y=\"-41.16\">exact: 2</text>\n",
       "<polygon fill=\"none\" points=\"612.25,-15.36 612.25,-35.36 671.25,-35.36 671.25,-15.36 612.25,-15.36\" stroke=\"black\"/>\n",
       "<text font-family=\"Bukyvede\" font-size=\"14.00\" text-anchor=\"start\" x=\"614.91\" y=\"-21.16\">Sorcerer</text>\n",
       "<polygon fill=\"none\" points=\"671.25,-15.36 671.25,-35.36 720.25,-35.36 720.25,-15.36 671.25,-15.36\" stroke=\"black\"/>\n",
       "<text font-family=\"Times,serif\" font-size=\"14.00\" text-anchor=\"start\" x=\"674.25\" y=\"-21.16\">US</text>\n",
       "<polygon fill=\"none\" points=\"611.25,-14.36 611.25,-56.36 721.25,-56.36 721.25,-14.36 611.25,-14.36\" stroke=\"black\"/>\n",
       "</g>\n",
       "<!-- 3&#45;&gt;6 -->\n",
       "<g class=\"edge\" id=\"edge3\">\n",
       "<title>3-&gt;6</title>\n",
       "<path d=\"M487.13,-61.33C515.56,-57.19 545.32,-52.85 572.2,-48.93\" fill=\"none\" stroke=\"black\"/>\n",
       "<polygon fill=\"black\" points=\"572.96,-52.35 582.35,-47.45 571.95,-45.42 572.96,-52.35\" stroke=\"black\"/>\n",
       "<text font-family=\"Times,serif\" font-size=\"14.00\" text-anchor=\"middle\" x=\"534.91\" y=\"-58.16\">US</text>\n",
       "</g>\n",
       "<!-- 5 -->\n",
       "<g class=\"node\" id=\"node5\">\n",
       "<title>5</title>\n",
       "<ellipse cx=\"914.1\" cy=\"-79.36\" fill=\"none\" rx=\"88.28\" ry=\"35.21\" stroke=\"black\"/>\n",
       "<polygon fill=\"none\" points=\"861.1,-79.36 861.1,-99.36 917.1,-99.36 917.1,-79.36 861.1,-79.36\" stroke=\"black\"/>\n",
       "<text font-family=\"Times,serif\" font-size=\"14.00\" font-weight=\"bold\" text-anchor=\"start\" x=\"864.1\" y=\"-86.16\">' s Stone</text>\n",
       "<polygon fill=\"none\" points=\"917.1,-79.36 917.1,-99.36 968.1,-99.36 968.1,-79.36 917.1,-79.36\" stroke=\"black\"/>\n",
       "<text font-family=\"Times,serif\" font-size=\"14.00\" text-anchor=\"start\" x=\"920.1\" y=\"-85.16\">exact: 3</text>\n",
       "<polygon fill=\"none\" points=\"861.1,-59.36 861.1,-79.36 917.1,-79.36 917.1,-59.36 861.1,-59.36\" stroke=\"black\"/>\n",
       "<text font-family=\"Bukyvede\" font-size=\"14.00\" text-anchor=\"start\" x=\"864.03\" y=\"-65.16\">'s Stone</text>\n",
       "<polygon fill=\"none\" points=\"917.1,-59.36 917.1,-79.36 968.1,-79.36 968.1,-59.36 917.1,-59.36\" stroke=\"black\"/>\n",
       "<text font-family=\"Times,serif\" font-size=\"14.00\" text-anchor=\"start\" x=\"920.04\" y=\"-65.16\">UK, US</text>\n",
       "<polygon fill=\"none\" points=\"859.6,-58.36 859.6,-100.36 968.6,-100.36 968.6,-58.36 859.6,-58.36\" stroke=\"black\"/>\n",
       "</g>\n",
       "<!-- 4&#45;&gt;5 -->\n",
       "<g class=\"edge\" id=\"edge4\">\n",
       "<title>4-&gt;5</title>\n",
       "<path d=\"M757.75,-107.79C779.14,-103.87 801.95,-99.7 823.31,-95.79\" fill=\"none\" stroke=\"black\"/>\n",
       "<polygon fill=\"black\" points=\"824.13,-99.2 833.34,-93.95 822.87,-92.31 824.13,-99.2\" stroke=\"black\"/>\n",
       "<text font-family=\"Times,serif\" font-size=\"14.00\" text-anchor=\"middle\" x=\"797.6\" y=\"-104.16\">UK</text>\n",
       "</g>\n",
       "<!-- 5&#45;&gt;2 -->\n",
       "<g class=\"edge\" id=\"edge5\">\n",
       "<title>5-&gt;2</title>\n",
       "<path d=\"M1002.62,-79.36C1025.83,-79.36 1050.68,-79.36 1073.17,-79.36\" fill=\"none\" stroke=\"black\"/>\n",
       "<polygon fill=\"black\" points=\"1073.32,-82.86 1083.32,-79.36 1073.32,-75.86 1073.32,-82.86\" stroke=\"black\"/>\n",
       "<text font-family=\"Times,serif\" font-size=\"14.00\" text-anchor=\"middle\" x=\"1043.05\" y=\"-82.16\">UK, US</text>\n",
       "</g>\n",
       "<!-- 6&#45;&gt;5 -->\n",
       "<g class=\"edge\" id=\"edge6\">\n",
       "<title>6-&gt;5</title>\n",
       "<path d=\"M747.75,-49.76C771.75,-54.06 798.21,-58.79 822.8,-63.19\" fill=\"none\" stroke=\"black\"/>\n",
       "<polygon fill=\"black\" points=\"822.38,-66.67 832.84,-64.99 823.61,-59.78 822.38,-66.67\" stroke=\"black\"/>\n",
       "<text font-family=\"Times,serif\" font-size=\"14.00\" text-anchor=\"middle\" x=\"797.6\" y=\"-63.16\">US</text>\n",
       "</g>\n",
       "</g>\n",
       "</svg>"
      ],
      "text/plain": [
       "<IPython.core.display.SVG object>"
      ]
     },
     "metadata": {},
     "output_type": "display_data"
    }
   ],
   "source": [
    "collate(collation, output=\"svg\") # svg_simple, xml, csv, tsv, ..."
   ]
  },
  {
   "cell_type": "markdown",
   "metadata": {},
   "source": [
    "In this view, a text is modelled as a **directed, (acyclical) graph** and a witness is viewed as one specific **path** or **traversal** of that graph. This model of texts is becoming increasingly popular -- even \"hipster\" -- in the world of digital scholarly editing and probably for good reasons -- see for instance [this abstract](https://www.balisage.net/Proceedings/vol19/print/Dekker01/BalisageVol19-Dekker01.html). Even the acts of reading and editing a text can be viewed as a traversal of this graph, that allows you to switch or **oscillate** between different witnesses."
   ]
  },
  {
   "cell_type": "markdown",
   "metadata": {},
   "source": [
    "Finally, another highly readable manner to view the results of a collation is through a coloured table. In the next code block, we collate a slightly longer portion of text -- a fairly random segment from the *Prisoner of Azkaban*:"
   ]
  },
  {
   "cell_type": "code",
   "execution_count": 46,
   "metadata": {},
   "outputs": [
    {
     "name": "stdout",
     "output_type": "stream",
     "text": [
      "Harry Potter was a highly unusual boy in many ways . For one thing , he hated the summer holidays more than any other time of year . For another , he really wanted to do his homework , but was forced to do it in secret , in the dead of night . And he also happened to be a wizard . It was nearly midnight , and he was lying on his front in bed , the blankets drawn right over his head like a tent , a torch in one hand and a large leather-bound book ( A History of Magic , by Bathilda Bagshot ) propped open against the pillow . Harry moved the tip of his eagle-feather quill down the page , frowning as he looked for something that would help him write his essay , ‘ Witch-Burning in the Fourteenth Century Was Completely Pointless – discuss ’ . The quill paused at the top of a likely-looking paragraph . Harry pushed his round glasses up his nose , moved his torch closer to the book and read : Non-magic people ( more commonly known as Muggles ) were particularly afraid of magic in medieval time\n",
      "Harry Potter was a highly unusual boy in many ways . For one thing , he hated the summer holidays more than any other time of year . For another , he really wanted to do his homework but was forced to do it in secret , in the dead of night . And he also happened to be a wizard . It was nearly midnight , and he was lying on his stomach in bed , the blankets drawn right over his head like a tent , a flashlight in one hand and a large leather-bound book ( A History of Magic by Bathilda Bagshot ) propped open against the pillow . Harry moved the tip of his eagle-feather quill down the page , frowning as he looked for something that would help him write his essay , “ Witch Burning in the Fourteenth Century Was Completely Pointless — discuss. ” The quill paused at the top of a likely-looking paragraph . Harry pushed his round glasses up the bridge of his nose , moved his flashlight closer to the book , and read : Non-magic people ( more commonly known as Muggles ) were particularly afraid of\n"
     ]
    }
   ],
   "source": [
    "uk_chap = ' '.join([' '.join(s) for s in UK[\"Harry Potter and the Prisoner of Azkaban\"]['Owl Post']])[:1000]\n",
    "us_chap = ' '.join([' '.join(s) for s in US[\"Harry Potter and the Prisoner of Azkaban\"]['OWL POST']])[:1000]\n",
    "\n",
    "print(uk_chap)\n",
    "print(us_chap)"
   ]
  },
  {
   "cell_type": "markdown",
   "metadata": {},
   "source": [
    " Note that this will take a while to run:"
   ]
  },
  {
   "cell_type": "code",
   "execution_count": 47,
   "metadata": {},
   "outputs": [
    {
     "data": {
      "text/html": [
       "<TABLE border=\"1\" style=\"border: 1px solid #000000; border-collapse: collapse;\" cellpadding=\"4\">\n",
       " <TR>\n",
       "  <TH>UK</TH>\n",
       "  <TH>US</TH>\n",
       " </TR>\n",
       " <TR>\n",
       "  <TD bgcolor=\"00FFFF\">Harry Potter was a\n",
       "highly unusual boy\n",
       "in many ways . For\n",
       "one thing , he hated\n",
       "the summer holidays\n",
       "more than any other\n",
       "time of year . For\n",
       "another , he really\n",
       "wanted to do his\n",
       "homework</TD>\n",
       "  <TD bgcolor=\"00FFFF\">Harry Potter was a\n",
       "highly unusual boy\n",
       "in many ways . For\n",
       "one thing , he hated\n",
       "the summer holidays\n",
       "more than any other\n",
       "time of year . For\n",
       "another , he really\n",
       "wanted to do his\n",
       "homework</TD>\n",
       " </TR>\n",
       " <TR>\n",
       "  <TD bgcolor=\"FF0000\">,</TD>\n",
       "  <TD bgcolor=\"FF0000\">-</TD>\n",
       " </TR>\n",
       " <TR>\n",
       "  <TD bgcolor=\"00FFFF\">but was forced to do\n",
       "it in secret , in\n",
       "the dead of night .\n",
       "And he also happened\n",
       "to be a wizard . It\n",
       "was nearly midnight\n",
       ", and he was lying\n",
       "on his</TD>\n",
       "  <TD bgcolor=\"00FFFF\">but was forced to do\n",
       "it in secret , in\n",
       "the dead of night .\n",
       "And he also happened\n",
       "to be a wizard . It\n",
       "was nearly midnight\n",
       ", and he was lying\n",
       "on his</TD>\n",
       " </TR>\n",
       " <TR>\n",
       "  <TD bgcolor=\"FF0000\">front</TD>\n",
       "  <TD bgcolor=\"FF0000\">stomach</TD>\n",
       " </TR>\n",
       " <TR>\n",
       "  <TD bgcolor=\"00FFFF\">in bed , the\n",
       "blankets drawn right\n",
       "over his head like a\n",
       "tent , a</TD>\n",
       "  <TD bgcolor=\"00FFFF\">in bed , the\n",
       "blankets drawn right\n",
       "over his head like a\n",
       "tent , a</TD>\n",
       " </TR>\n",
       " <TR>\n",
       "  <TD bgcolor=\"FF0000\">torch</TD>\n",
       "  <TD bgcolor=\"FF0000\">flashlight</TD>\n",
       " </TR>\n",
       " <TR>\n",
       "  <TD bgcolor=\"00FFFF\">in one hand and a\n",
       "large leather-bound\n",
       "book ( A History of\n",
       "Magic</TD>\n",
       "  <TD bgcolor=\"00FFFF\">in one hand and a\n",
       "large leather-bound\n",
       "book ( A History of\n",
       "Magic</TD>\n",
       " </TR>\n",
       " <TR>\n",
       "  <TD bgcolor=\"FF0000\">,</TD>\n",
       "  <TD bgcolor=\"FF0000\">-</TD>\n",
       " </TR>\n",
       " <TR>\n",
       "  <TD bgcolor=\"00FFFF\">by Bathilda Bagshot\n",
       ") propped open\n",
       "against the pillow .\n",
       "Harry moved the tip\n",
       "of his eagle-feather\n",
       "quill down the page\n",
       ", frowning as he\n",
       "looked for something\n",
       "that would help him\n",
       "write his essay</TD>\n",
       "  <TD bgcolor=\"00FFFF\">by Bathilda Bagshot\n",
       ") propped open\n",
       "against the pillow .\n",
       "Harry moved the tip\n",
       "of his eagle-feather\n",
       "quill down the page\n",
       ", frowning as he\n",
       "looked for something\n",
       "that would help him\n",
       "write his essay</TD>\n",
       " </TR>\n",
       " <TR>\n",
       "  <TD bgcolor=\"FF0000\">, ‘</TD>\n",
       "  <TD bgcolor=\"FF0000\">, “</TD>\n",
       " </TR>\n",
       " <TR>\n",
       "  <TD bgcolor=\"00FFFF\">Witch</TD>\n",
       "  <TD bgcolor=\"00FFFF\">Witch</TD>\n",
       " </TR>\n",
       " <TR>\n",
       "  <TD bgcolor=\"FF0000\">-</TD>\n",
       "  <TD bgcolor=\"FF0000\">-</TD>\n",
       " </TR>\n",
       " <TR>\n",
       "  <TD bgcolor=\"00FFFF\">Burning in the\n",
       "Fourteenth Century\n",
       "Was Completely\n",
       "Pointless</TD>\n",
       "  <TD bgcolor=\"00FFFF\">Burning in the\n",
       "Fourteenth Century\n",
       "Was Completely\n",
       "Pointless</TD>\n",
       " </TR>\n",
       " <TR>\n",
       "  <TD bgcolor=\"FF0000\">–</TD>\n",
       "  <TD bgcolor=\"FF0000\">—</TD>\n",
       " </TR>\n",
       " <TR>\n",
       "  <TD bgcolor=\"00FFFF\">discuss</TD>\n",
       "  <TD bgcolor=\"00FFFF\">discuss</TD>\n",
       " </TR>\n",
       " <TR>\n",
       "  <TD bgcolor=\"FF0000\">’ .</TD>\n",
       "  <TD bgcolor=\"FF0000\">. ”</TD>\n",
       " </TR>\n",
       " <TR>\n",
       "  <TD bgcolor=\"00FFFF\">The quill paused at\n",
       "the top of a likely-\n",
       "looking paragraph .\n",
       "Harry pushed his\n",
       "round glasses up</TD>\n",
       "  <TD bgcolor=\"00FFFF\">The quill paused at\n",
       "the top of a likely-\n",
       "looking paragraph .\n",
       "Harry pushed his\n",
       "round glasses up</TD>\n",
       " </TR>\n",
       " <TR>\n",
       "  <TD bgcolor=\"FF0000\">-</TD>\n",
       "  <TD bgcolor=\"FF0000\">the bridge of</TD>\n",
       " </TR>\n",
       " <TR>\n",
       "  <TD bgcolor=\"00FFFF\">his nose , moved his</TD>\n",
       "  <TD bgcolor=\"00FFFF\">his nose , moved his</TD>\n",
       " </TR>\n",
       " <TR>\n",
       "  <TD bgcolor=\"FF0000\">torch</TD>\n",
       "  <TD bgcolor=\"FF0000\">flashlight</TD>\n",
       " </TR>\n",
       " <TR>\n",
       "  <TD bgcolor=\"00FFFF\">closer to the book</TD>\n",
       "  <TD bgcolor=\"00FFFF\">closer to the book</TD>\n",
       " </TR>\n",
       " <TR>\n",
       "  <TD bgcolor=\"FF0000\">-</TD>\n",
       "  <TD bgcolor=\"FF0000\">,</TD>\n",
       " </TR>\n",
       " <TR>\n",
       "  <TD bgcolor=\"00FFFF\">and read : Non-magic\n",
       "people ( more\n",
       "commonly known as\n",
       "Muggles ) were\n",
       "particularly afraid\n",
       "of</TD>\n",
       "  <TD bgcolor=\"00FFFF\">and read : Non-magic\n",
       "people ( more\n",
       "commonly known as\n",
       "Muggles ) were\n",
       "particularly afraid\n",
       "of</TD>\n",
       " </TR>\n",
       " <TR>\n",
       "  <TD bgcolor=\"FF0000\">magic in medieval\n",
       "time</TD>\n",
       "  <TD bgcolor=\"FF0000\">-</TD>\n",
       " </TR>\n",
       "</TABLE>"
      ],
      "text/plain": [
       "<IPython.core.display.HTML object>"
      ]
     },
     "metadata": {},
     "output_type": "display_data"
    }
   ],
   "source": [
    "collation = Collation()\n",
    "collation.add_plain_witness('UK', uk_chap)\n",
    "collation.add_plain_witness('US', us_chap)\n",
    "html_ = collate(collation, layout='vertical', output='html2')"
   ]
  },
  {
   "cell_type": "markdown",
   "metadata": {},
   "source": [
    "In red, this alignment table shows the segments in which the witnesses deviate. At a glance, it becomes obvious that this take on distant reading, however modest, already surfaces interesting differences in a way that would be hard to achieve using traditional means of analysis. Some categories emerge:\n",
    "- The bulk of deviations are fairly straightforward differences in orthography and punctuation that are not extremely interesting from a literary point of view (`neighbours` vs `neighbors`, `toward` versus `towards`);\n",
    "- A second clear categories concerns words that have been replaced by a more American expression (e.g. `torch` versus `flashlight`; `holidays` versus `break`); in many cases, however the semantics of both items is close enough to still speak of (innocent?) **synonyms**;\n",
    "- A third category of changes seem to be **stylistic**. The US version replaces \"stomach\" with \"front\", for instance: in such a case, it becomes harder to speak of pure synonymy, because a front and a stomach are not the exact same thing. The same is also, and perhaps even more true for the clarifying intervention to specify or add that \"Harry pushed his round glasses up *the bridge of* his nose\".\n",
    "\n",
    "The latter category of interventions are much harder to interpret, since we go beyond a simple synonym replacement as the lexical level. Why on earth would one want to change \"the Dursleys\" to, simply, \"they\" in the US version? Or add intensifying adverbs such as `particularly` or `especially` in seemingly random sentences that weren't in dire need for these additions? This category will therefore be a focal aspect of our analysis below."
   ]
  },
  {
   "cell_type": "markdown",
   "metadata": {},
   "source": [
    "The previous section yielded some proof of concept that collation offers a fruitful methodology to inspect the differences between the UK and US versions at a larger scale. We are now ready to collate the entire series. However, one clear downside of the Python port is that it is much slower to run than the Java tool. In the code blocks below, we therefore first produce collations using the Java tool, which takes \"only\" a couple of hour to run on my laptop, whereas the Python version would have to run overnight. We dump the results as json files that we can load again later for postprocessing in Python. (You can skip the next few code blocks if you are not interested in running the actual collation yourself. We provide the dumps of the analysis so that you can with postprocessing them right away.)"
   ]
  },
  {
   "cell_type": "code",
   "execution_count": 63,
   "metadata": {},
   "outputs": [],
   "source": [
    "import json\n",
    "import subprocess\n",
    "\n",
    "def java_alignment(uk_chap, us_chap):\n",
    "    W = {'witnesses': [{'id': 'uk', 'content': uk_chap},\n",
    "                       {'id': 'us', 'content': us_chap}]}\n",
    "    \n",
    "    with open('in.json', 'w') as f:\n",
    "        f.write(json.dumps(W))\n",
    "\n",
    "    subprocess.call(\"java -jar collatex-tools-1.7.1.jar in.json --output='out.json'\", shell=True)\n",
    "    \n",
    "    with open('out.json', 'r') as f:\n",
    "        alignment = json.loads(f.read())\n",
    "    \n",
    "    pairs = list(zip(*alignment['table']))\n",
    "        \n",
    "    uk = pairs[alignment['witnesses'].index('uk')]\n",
    "    us = pairs[alignment['witnesses'].index('us')]\n",
    "\n",
    "    return uk, us"
   ]
  },
  {
   "cell_type": "markdown",
   "metadata": {},
   "source": [
    "(This takes forever.)"
   ]
  },
  {
   "cell_type": "code",
   "execution_count": 64,
   "metadata": {},
   "outputs": [],
   "source": [
    "#%timeit java_alignment(uk_chap, us_chap)\n",
    "#%timeit collate(collation, layout='vertical')"
   ]
  },
  {
   "cell_type": "code",
   "execution_count": 65,
   "metadata": {},
   "outputs": [],
   "source": [
    "uk, us = java_alignment(uk_chap, us_chap)"
   ]
  },
  {
   "cell_type": "code",
   "execution_count": 66,
   "metadata": {},
   "outputs": [
    {
     "name": "stdout",
     "output_type": "stream",
     "text": [
      "Harry Potter was a highly unusual boy in many ways . For one thing , he hated the summer holidays more than any other time of year . For another , he really wanted to do his homework  <==> Harry Potter was a highly unusual boy in many ways . For one thing , he hated the summer holidays more than any other time of year . For another , he really wanted to do his homework \n",
      ",  <==> \n",
      "but was forced to do it in secret , in the dead of night . And he also happened to be a wizard . It was nearly midnight , and he was lying on his  <==> but was forced to do it in secret , in the dead of night . And he also happened to be a wizard . It was nearly midnight , and he was lying on his \n",
      "front  <==> stomach \n",
      "in bed , the blankets drawn right over his head like a tent , a  <==> in bed , the blankets drawn right over his head like a tent , a \n",
      "torch  <==> flashlight \n",
      "in one hand and a large leather-bound book ( A History of Magic  <==> in one hand and a large leather-bound book ( A History of Magic \n",
      ",  <==> \n",
      "by Bathilda Bagshot ) propped open against the pillow . Harry moved the tip of his eagle-feather quill down the page , frowning as he looked for something that would help him write his essay ,  <==> by Bathilda Bagshot ) propped open against the pillow . Harry moved the tip of his eagle-feather quill down the page , frowning as he looked for something that would help him write his essay , \n",
      "‘ Witch-Burning  <==> “ Witch Burning \n",
      "in the Fourteenth Century Was Completely Pointless  <==> in the Fourteenth Century Was Completely Pointless \n",
      "–  <==> — \n",
      "discuss  <==> discuss\n",
      "’  <==> \n",
      ".  <==> . \n",
      " <==> ” \n",
      "The quill paused at the top of a likely-looking paragraph . Harry pushed his round glasses up  <==> The quill paused at the top of a likely-looking paragraph . Harry pushed his round glasses up \n",
      " <==> the bridge of \n",
      "his nose , moved his  <==> his nose , moved his \n",
      "torch  <==> flashlight \n",
      "closer to the book  <==> closer to the book \n",
      " <==> , \n",
      "and read : Non-magic people ( more commonly known as Muggles ) were particularly afraid of  <==> and read : Non-magic people ( more commonly known as Muggles ) were particularly afraid of\n",
      "magic in medieval time <==> \n"
     ]
    }
   ],
   "source": [
    "for a, b in zip(uk, us):\n",
    "    print(''.join(a), '<==>', ''.join(b))"
   ]
  },
  {
   "cell_type": "markdown",
   "metadata": {},
   "source": [
    "Now we can run the collation at the chapter level in bulk and dump the results to a list of simple json-files that we can postprocess later - without having to rerun the actual collation over and over again. One important gimmick which we add at this stage is that we tokenize the texts and add a so-called **end-of-sentence marker** (EOS) in between sentences. This will help us study how and where new sentence endings have been introduced in the US version (cf. sentence length)."
   ]
  },
  {
   "cell_type": "markdown",
   "metadata": {},
   "source": [
    "```python\n",
    "import os\n",
    "import shutil\n",
    "\n",
    "try:\n",
    "    shutil.rmtree('collations')\n",
    "except FileNotFoundError:\n",
    "    pass\n",
    "os.mkdir('collations')\n",
    "\n",
    "cnt = 0\n",
    "for uk_book, us_book in zip(UK, US):\n",
    "    print(uk_book)\n",
    "    \n",
    "    for uk_chap, us_chap in zip(UK[uk_book], US[us_book]):\n",
    "        print('   ', uk_chap)\n",
    "        cnt += 1\n",
    "        idx = str(cnt)\n",
    "        while len(idx) < 3:\n",
    "            idx = '0' + idx\n",
    "        \n",
    "        #uk_sents = [' '.join(s) for s in UK[uk_book][uk_chap][:50]]\n",
    "        uk_sents = [' '.join(s) for s in UK[uk_book][uk_chap]]\n",
    "        uk_text = ' <EOS> '.join(uk_sents)\n",
    "        \n",
    "        #us_sents = [' '.join(s) for s in US[us_book][us_chap][:50]]\n",
    "        us_sents = [' '.join(s) for s in US[us_book][us_chap]]\n",
    "        us_text = ' <EOS> '.join(us_sents)\n",
    "        \n",
    "        uk, us = java_alignment(uk_text, us_text)\n",
    "        \n",
    "        fn = f\"collations/{idx}-{uk_book.replace(' ', '_')}-{uk_chap.replace(' ', '_')}.json\"\n",
    "        with open(fn, 'w') as f:\n",
    "            json.dump((uk, us), f)\n",
    "```"
   ]
  },
  {
   "cell_type": "markdown",
   "metadata": {},
   "source": [
    "## Analyzing the collation"
   ]
  },
  {
   "cell_type": "markdown",
   "metadata": {},
   "source": [
    "Above, we already hinted at the possibility of establishing a simple categorization of the differences which we find between the UK and US series. Separating superficial orthographic conventions from deeper stylistic interventions, for instance, would be one clear step forward in trying to arrive at an empirical and quantitative characterization of the way in which both versions differ.\n",
    "\n",
    "#### Synonyms\n",
    "Reserving a category for \"plain\" synonyms, for instance, would be a relevant option. Here, one could wonder whether terms such as `pitch` and `field` are truly close enough to be considered semantically interchangable, but (as Philip Nel convincingly argues) we should not forget that such words do come with a different set of associations along both sides of the Ocean. One interesting resource to help up resolve such issues in a replicatable manner is **WordNet**. [Wordnet](https://wordnet.princeton.edu/) is a lexical resource from the fields of corpus linguistics and computational linguistics that provides a large database of words. In this gigantic tree structure, nouns, verbs, adjectives and adverbs are grouped into sets of synonyms that are called **synsets**. Each of these sets covers an abstract concept and will hold, amongst other, the various synonyms that can be used to express this concept.\n",
    "\n",
    "Below, we define a simple function that interfaces WordNet through the NLTK. When fed two words, the function will simply return whether or not it considers these words synonyms as a boolean variable that will be `True` or `False`:"
   ]
  },
  {
   "cell_type": "code",
   "execution_count": 67,
   "metadata": {},
   "outputs": [
    {
     "name": "stderr",
     "output_type": "stream",
     "text": [
      "[nltk_data] Downloading package wordnet to\n",
      "[nltk_data]     /Users/whaverals/nltk_data...\n",
      "[nltk_data]   Package wordnet is already up-to-date!\n"
     ]
    },
    {
     "data": {
      "text/plain": [
       "True"
      ]
     },
     "execution_count": 67,
     "metadata": {},
     "output_type": "execute_result"
    }
   ],
   "source": [
    "import nltk\n",
    "nltk.download('wordnet')"
   ]
  },
  {
   "cell_type": "code",
   "execution_count": 68,
   "metadata": {},
   "outputs": [],
   "source": [
    "from nltk.corpus import wordnet as wn\n",
    "\n",
    "def is_synonym(w1, w2):\n",
    "    w1 = w1.strip().lower()\n",
    "    w2 = w2.strip().lower()\n",
    "    synonym = False\n",
    "    for synset in wn.synsets(w1):\n",
    "        for lemma in synset.lemma_names():\n",
    "            if lemma.lower() == w2.lower():\n",
    "                synonym = True\n",
    "    for synset in wn.synsets(w2):\n",
    "        for lemma in synset.lemma_names():\n",
    "            if lemma.lower() == w1.lower():\n",
    "                synonym = True\n",
    "    return synonym"
   ]
  },
  {
   "cell_type": "markdown",
   "metadata": {},
   "source": [
    "Below, we try on this function on a number of word pairs. (Feel free to add a couple of pairs of your own.)"
   ]
  },
  {
   "cell_type": "code",
   "execution_count": 69,
   "metadata": {},
   "outputs": [
    {
     "name": "stdout",
     "output_type": "stream",
     "text": [
      "True\n",
      "False\n",
      "True\n",
      "False\n"
     ]
    }
   ],
   "source": [
    "print(is_synonym('torch', 'flashlight'))\n",
    "print(is_synonym('torch', 'dog'))\n",
    "print(is_synonym('cutting', 'clipping'))\n",
    "print(is_synonym('jelly', 'jello'))"
   ]
  },
  {
   "cell_type": "markdown",
   "metadata": {},
   "source": [
    "Note that WordNet is large, but that its coverage of the English language is far from exhaustive or perfect. (We might therefore consider to expand this resource with a list of our own.)"
   ]
  },
  {
   "cell_type": "markdown",
   "metadata": {},
   "source": [
    "#### Spelling differences\n",
    "\n",
    "Another straightforward category to \"catch\" are orthographic differences between the UK and US spellings that are used fairly consistently throughout the books. In the following code we define a function that attempts to decide whether two non-identical strings are in fact just spelling differences. We do so on the basis of a long list of UK and US spelling differences which we found online."
   ]
  },
  {
   "cell_type": "code",
   "execution_count": 70,
   "metadata": {},
   "outputs": [],
   "source": [
    "uk_to_us_spellings = []\n",
    "for line in open('uk_vs_us.txt', 'r'):\n",
    "    if not line.strip().startswith('#'):\n",
    "        uk_to_us_spellings.append(line.strip().split())\n",
    "\n",
    "def is_spelling_diff(w1, w2):\n",
    "    spelling = False\n",
    "    w1 = w1.strip().lower()\n",
    "    w2 = w2.strip().lower()\n",
    "    \n",
    "    if ''.join(OrderedDict.fromkeys(w1)) == ''.join(OrderedDict.fromkeys(w2)):\n",
    "        spelling = True\n",
    "    elif ''.join(w1.split()) == ''.join(w2.split()):\n",
    "        spelling = True\n",
    "    else:\n",
    "        for british, american in uk_to_us_spellings:\n",
    "            if w1.endswith(british) and w2.endswith(american):\n",
    "                spelling = True\n",
    "    \n",
    "    return spelling"
   ]
  },
  {
   "cell_type": "markdown",
   "metadata": {},
   "source": [
    "Feel free to \"stress test\" the coverage of the function -- which seems pretty okay overall:"
   ]
  },
  {
   "cell_type": "code",
   "execution_count": 71,
   "metadata": {},
   "outputs": [
    {
     "name": "stdout",
     "output_type": "stream",
     "text": [
      "True\n",
      "True\n",
      "True\n",
      "False\n"
     ]
    }
   ],
   "source": [
    "print(is_spelling_diff('towards', 'toward'))\n",
    "print(is_spelling_diff('favourite', 'favorite'))\n",
    "print(is_spelling_diff('analyse', 'analyze'))\n",
    "print(is_spelling_diff('dog', 'torch'))"
   ]
  },
  {
   "cell_type": "markdown",
   "metadata": {},
   "source": [
    "We can now define a function that allows us to \"score\" the differences between two collated witnesses. By this, we mean that we keep track of:\n",
    "\n",
    "1. the length of the UK chapter in characters (which we will use to normalize our counts)\n",
    "2. the number of spelling modifications\n",
    "3. the number of obvious synonym replacements\n",
    "4. the number of \"stylistic\" interventions, i.e. interventions which were included in the previous two categories\n",
    "5. the number of sentence boundaries introduced"
   ]
  },
  {
   "cell_type": "code",
   "execution_count": 72,
   "metadata": {},
   "outputs": [],
   "source": [
    "def clean_cell(text):\n",
    "    text = ' '.join(text)\n",
    "    text = ''.join(text).strip().lower()\n",
    "    text = ''.join([c for c in text if c.isalpha() or c.isspace() or c in ('<', '>')])\n",
    "    return text\n",
    "\n",
    "quote = re.compile(r'’|‘|\\'|“|\\.')\n",
    "\n",
    "def quote_clean(text):\n",
    "    text = ''.join(text.split()).lower()\n",
    "    text = re.sub(quote, '', text).strip()\n",
    "    return text"
   ]
  },
  {
   "cell_type": "code",
   "execution_count": 73,
   "metadata": {},
   "outputs": [],
   "source": [
    "def get_label(a, b):\n",
    "    a = clean_cell(a)\n",
    "    b = clean_cell(b)\n",
    "\n",
    "    if a != b:\n",
    "        if (not '<eos>' in a and '<eos>' in b) or (not '<eos>' in b and '<eos>' in a):\n",
    "            if quote_clean(a) and quote_clean(b):\n",
    "                label = 'eos'\n",
    "            else:\n",
    "                label = 'neutral'\n",
    "        elif is_spelling_diff(a, b):\n",
    "            label = 'spelling'\n",
    "        elif is_synonym(a, b):\n",
    "            label = 'synonym'\n",
    "        else:\n",
    "            label = 'style'\n",
    "    else:\n",
    "        if a and not b or b and not a:\n",
    "            label = 'style'\n",
    "        else:\n",
    "            label = 'neutral'\n",
    "    return label"
   ]
  },
  {
   "cell_type": "code",
   "execution_count": 74,
   "metadata": {},
   "outputs": [],
   "source": [
    "colormap = {'eos': '#4cab98',\n",
    "            'spelling': '#c57b3d',#'#ca5477',\n",
    "            'synonym': '#7aa444',\n",
    "            'style': '#946fc7',\n",
    "            'neutral': '#c57b3d'\n",
    "           }\n",
    "\n",
    "def colorize(row):\n",
    "    color = colormap[row['label']]\n",
    "    background = ['background-color: {}'.format(color) for _ in row]\n",
    "    return background"
   ]
  },
  {
   "cell_type": "markdown",
   "metadata": {},
   "source": [
    "```python\n",
    "import shutil\n",
    "import json\n",
    "outfolder = 'coll_viz'\n",
    "try:\n",
    "    shutil.rmtree(outfolder)\n",
    "except FileNotFoundError:\n",
    "    pass\n",
    "os.mkdir(outfolder)\n",
    "\n",
    "for coll in sorted(list(glob.glob('collations/*.json'))):\n",
    "    with open(coll, 'r') as f:\n",
    "        all_uk, all_us = json.loads(f.read())\n",
    "    \n",
    "    data = []\n",
    "    for uk, us in zip(all_uk, all_us):\n",
    "        label = get_label(uk, us)\n",
    "        data.append((' '.join(uk), ' '.join(us), label))\n",
    "\n",
    "    df = pd.DataFrame(data, columns=('uk', 'us', 'label'))\n",
    "    colored = df.style.apply(colorize, axis=1)\n",
    "    colored.set_properties(**{'font-size': '12pt', 'font-family': 'Helvetica'})\n",
    "    outf = os.path.basename(coll).replace('.json', '.xlsx')\n",
    "    colored.to_excel(f'{outfolder}/{outf}')\n",
    "```"
   ]
  },
  {
   "cell_type": "markdown",
   "metadata": {},
   "source": [
    "We loop over the output of our collation and score each chapter pair. The results are stored in a so-called `pandas` **DataFrame**, a convenient way to store and query the data in a spreadsheet like fashion."
   ]
  },
  {
   "cell_type": "code",
   "execution_count": 75,
   "metadata": {},
   "outputs": [],
   "source": [
    "from collections import Counter\n",
    "\n",
    "columns = ['book', 'chapter', 'length', 'spell', 'synon', 'style', 'eos']\n",
    "\n",
    "def get_scores(df):\n",
    "    length = sum([len(s) for s in df['uk'] if isinstance(s, str)])\n",
    "    scores = [length, ]\n",
    "    cnt = Counter(df['label'])\n",
    "    for c in columns[3:]:\n",
    "        scores.append(cnt[c])\n",
    "    return scores\n",
    "\n",
    "data = []\n",
    "for fn in sorted(glob.glob('coll_viz/*.xlsx')):\n",
    "    book = os.path.basename(fn).split('-')[1].replace('_', ' ')\n",
    "    chapter = os.path.basename(fn).split('-')[2].replace('.xlsx', '').replace('_', ' ')\n",
    "    scores = get_scores(pd.read_excel(fn))\n",
    "    data.append([book, chapter] + scores)\n",
    "\n",
    "df = pd.DataFrame(data, columns=columns)"
   ]
  },
  {
   "cell_type": "markdown",
   "metadata": {},
   "source": [
    "We can easily export this dataframe to a comma-separated file format for future reference:"
   ]
  },
  {
   "cell_type": "code",
   "execution_count": 76,
   "metadata": {},
   "outputs": [],
   "source": [
    "df.to_csv('align.csv')"
   ]
  },
  {
   "cell_type": "markdown",
   "metadata": {},
   "source": [
    "The column \"style\" contains the number stylistic changes which we have captured. To normalize these absolute counts at the chapter level, we divide them by the number of characters in the chapter:"
   ]
  },
  {
   "cell_type": "code",
   "execution_count": 77,
   "metadata": {},
   "outputs": [
    {
     "data": {
      "text/html": [
       "<div>\n",
       "<style scoped>\n",
       "    .dataframe tbody tr th:only-of-type {\n",
       "        vertical-align: middle;\n",
       "    }\n",
       "\n",
       "    .dataframe tbody tr th {\n",
       "        vertical-align: top;\n",
       "    }\n",
       "\n",
       "    .dataframe thead th {\n",
       "        text-align: right;\n",
       "    }\n",
       "</style>\n",
       "<table border=\"1\" class=\"dataframe\">\n",
       "  <thead>\n",
       "    <tr style=\"text-align: right;\">\n",
       "      <th></th>\n",
       "      <th>Unnamed: 0</th>\n",
       "      <th>book</th>\n",
       "      <th>chapter</th>\n",
       "      <th>length</th>\n",
       "      <th>spell</th>\n",
       "      <th>synon</th>\n",
       "      <th>style</th>\n",
       "      <th>eos</th>\n",
       "      <th>norm</th>\n",
       "    </tr>\n",
       "  </thead>\n",
       "  <tbody>\n",
       "    <tr>\n",
       "      <th>0</th>\n",
       "      <td>0</td>\n",
       "      <td>Harry Potter and the Philosopher s Stone</td>\n",
       "      <td>The Boy Who Lived</td>\n",
       "      <td>33846</td>\n",
       "      <td>0</td>\n",
       "      <td>0</td>\n",
       "      <td>23</td>\n",
       "      <td>1</td>\n",
       "      <td>0.000680</td>\n",
       "    </tr>\n",
       "    <tr>\n",
       "      <th>1</th>\n",
       "      <td>1</td>\n",
       "      <td>Harry Potter and the Philosopher s Stone</td>\n",
       "      <td>The Vanishing Glass</td>\n",
       "      <td>24994</td>\n",
       "      <td>0</td>\n",
       "      <td>0</td>\n",
       "      <td>24</td>\n",
       "      <td>0</td>\n",
       "      <td>0.000960</td>\n",
       "    </tr>\n",
       "    <tr>\n",
       "      <th>2</th>\n",
       "      <td>2</td>\n",
       "      <td>Harry Potter and the Philosopher s Stone</td>\n",
       "      <td>The Letters from No One</td>\n",
       "      <td>28189</td>\n",
       "      <td>0</td>\n",
       "      <td>0</td>\n",
       "      <td>26</td>\n",
       "      <td>0</td>\n",
       "      <td>0.000922</td>\n",
       "    </tr>\n",
       "    <tr>\n",
       "      <th>3</th>\n",
       "      <td>3</td>\n",
       "      <td>Harry Potter and the Philosopher s Stone</td>\n",
       "      <td>The Keeper of the Keys</td>\n",
       "      <td>27382</td>\n",
       "      <td>0</td>\n",
       "      <td>0</td>\n",
       "      <td>7</td>\n",
       "      <td>0</td>\n",
       "      <td>0.000256</td>\n",
       "    </tr>\n",
       "    <tr>\n",
       "      <th>4</th>\n",
       "      <td>4</td>\n",
       "      <td>Harry Potter and the Philosopher s Stone</td>\n",
       "      <td>Diagon Alley</td>\n",
       "      <td>49598</td>\n",
       "      <td>0</td>\n",
       "      <td>0</td>\n",
       "      <td>40</td>\n",
       "      <td>1</td>\n",
       "      <td>0.000806</td>\n",
       "    </tr>\n",
       "  </tbody>\n",
       "</table>\n",
       "</div>"
      ],
      "text/plain": [
       "   Unnamed: 0                                      book  \\\n",
       "0           0  Harry Potter and the Philosopher s Stone   \n",
       "1           1  Harry Potter and the Philosopher s Stone   \n",
       "2           2  Harry Potter and the Philosopher s Stone   \n",
       "3           3  Harry Potter and the Philosopher s Stone   \n",
       "4           4  Harry Potter and the Philosopher s Stone   \n",
       "\n",
       "                   chapter  length  spell  synon  style  eos      norm  \n",
       "0        The Boy Who Lived   33846      0      0     23    1  0.000680  \n",
       "1      The Vanishing Glass   24994      0      0     24    0  0.000960  \n",
       "2  The Letters from No One   28189      0      0     26    0  0.000922  \n",
       "3   The Keeper of the Keys   27382      0      0      7    0  0.000256  \n",
       "4             Diagon Alley   49598      0      0     40    1  0.000806  "
      ]
     },
     "execution_count": 77,
     "metadata": {},
     "output_type": "execute_result"
    }
   ],
   "source": [
    "df = pd.read_csv('align.csv')\n",
    "df = df.infer_objects()\n",
    "df['norm'] = df['style'] / df['length']\n",
    "df.head()"
   ]
  },
  {
   "cell_type": "code",
   "execution_count": 78,
   "metadata": {},
   "outputs": [],
   "source": [
    "titles, start_idxs = [], []\n",
    "for idx, t in enumerate(df.book):\n",
    "    if idx == 0 or t != titles[-1]:\n",
    "        start_idxs.append(idx)\n",
    "        titles.append(t)\n",
    "titles = [t.replace('Harry Potter and the ', '') for t in titles]"
   ]
  },
  {
   "cell_type": "code",
   "execution_count": 79,
   "metadata": {},
   "outputs": [
    {
     "name": "stdout",
     "output_type": "stream",
     "text": [
      "199\n",
      "199\n"
     ]
    }
   ],
   "source": [
    "print(len(df.book))\n",
    "print(len(df.norm))"
   ]
  },
  {
   "cell_type": "code",
   "execution_count": null,
   "metadata": {},
   "outputs": [],
   "source": [
    "def align_xaxis(ax1, v1, ax2, v2):\n",
    "    \"\"\"adjust ax2 xlimit so that v2 in ax2 is aligned to v1 in ax1\"\"\"\n",
    "    x1, _ = ax1.transData.transform((v1, 0))\n",
    "    x2, _ = ax2.transData.transform((v2, 0))\n",
    "    inv = ax2.transData.inverted()\n",
    "    dx, _ = inv.transform((0, 0)) - inv.transform((x1-x2, 0))\n",
    "    minx, maxx = ax2.get_xlim()\n",
    "    ax2.set_xlim(minx+dx, maxx+dx)"
   ]
  },
  {
   "cell_type": "markdown",
   "metadata": {},
   "source": [
    "We can now plot the degree to which we find stylistic differences between the UK and US version:"
   ]
  },
  {
   "cell_type": "code",
   "execution_count": null,
   "metadata": {},
   "outputs": [],
   "source": [
    "plt.subplots(figsize=(20,15))\n",
    "ax = df['norm'].plot()\n",
    "ax.set_ylabel('stylistic changes / len')\n",
    "ax.set_xlabel('chapters')\n",
    "\n",
    "minx, maxx = ax.get_xlim()\n",
    "\n",
    "# add labels on top:\n",
    "ax2 = ax.twinx().twiny()\n",
    "ax2.set_xlim(minx, maxx)\n",
    "for i in start_idxs:\n",
    "    ax.axvline(i, color='grey')\n",
    "\n",
    "ax2.set_xticks(start_idxs)\n",
    "ax2.set_xticklabels(titles, rotation=90)\n",
    "\n",
    "align_xaxis(ax, 0, ax2, 0)"
   ]
  },
  {
   "cell_type": "markdown",
   "metadata": {},
   "source": [
    "In the plot above, we just look at the series as a long list of chapters (which they essentially are). Some interesting patterns already emerge. However, we can also **aggregate** these scores at the book level, through taking the mean chapter score in each book."
   ]
  },
  {
   "cell_type": "code",
   "execution_count": null,
   "metadata": {},
   "outputs": [],
   "source": [
    "import seaborn\n",
    "plt.subplots(figsize=(20,15))\n",
    "ax = seaborn.violinplot(df.book, df.norm, data=df)\n",
    "ax.set_xticklabels(tuple(titles), rotation=90);"
   ]
  },
  {
   "cell_type": "markdown",
   "metadata": {},
   "source": [
    "Here, the same pattern emerges: the degree of stylistic intervention in the first four books remains remarkably stable. It is again *The Phoenix* that breaks this trend and of all books it has clearly invited the highest number of stylistic edits. The final two books, on the other hand, have required much less edits than the fifth and we obtain even lower scores for them than for the first four books.\n",
    "\n",
    "These results could, in our opinion, be understood in two ways. Firstly, we could repeat the hypothesis that as the author's fame grew, she had more authority over her own text in the final two books; the editors might simply not have felt the need to intervene because they could expect that the readership would like the books anyway. Another hypothesis is that the author became more acutely aware of the scope of her American readership and simply started catering more for the US readership, already in the UK version. As such, the decreased level of difference between both versions could also be seen as a conscious marketing/manufacturing strategy that eased the dissemination of the books across the global English market."
   ]
  },
  {
   "cell_type": "markdown",
   "metadata": {},
   "source": [
    "### End-of-sentence"
   ]
  },
  {
   "cell_type": "code",
   "execution_count": null,
   "metadata": {},
   "outputs": [],
   "source": [
    "df['eos_norm'] = df['eos'] / df['length']\n",
    "df.head()\n",
    "\n",
    "plt.subplots(figsize=(20,15))\n",
    "ax = df['eos_norm'].plot()\n",
    "ax.set_ylabel('stylistic changes / len')\n",
    "ax.set_xlabel('chapters')\n",
    "\n",
    "minx, maxx = ax.get_xlim()\n",
    "\n",
    "# add labels on top:\n",
    "ax2 = ax.twinx().twiny()\n",
    "ax2.set_xlim(minx, maxx)\n",
    "for i in start_idxs:\n",
    "    ax.axvline(i, color='grey')\n",
    "\n",
    "ax2.set_xticks(start_idxs)\n",
    "ax2.set_xticklabels(titles, rotation=90)\n",
    "\n",
    "align_xaxis(ax, 0, ax2, 0)"
   ]
  },
  {
   "cell_type": "code",
   "execution_count": null,
   "metadata": {},
   "outputs": [],
   "source": [
    "plt.subplots(figsize=(20,15))\n",
    "ax = seaborn.violinplot(x=df.book, y=df.eos_norm, data=df)\n",
    "ax.set_xticklabels(tuple(titles), rotation=90);"
   ]
  },
  {
   "cell_type": "code",
   "execution_count": null,
   "metadata": {},
   "outputs": [],
   "source": []
  }
 ],
 "metadata": {
  "kernelspec": {
   "display_name": "Python 3.6",
   "language": "python",
   "name": "py36"
  },
  "language_info": {
   "codemirror_mode": {
    "name": "ipython",
    "version": 3
   },
   "file_extension": ".py",
   "mimetype": "text/x-python",
   "name": "python",
   "nbconvert_exporter": "python",
   "pygments_lexer": "ipython3",
   "version": "3.6.10"
  }
 },
 "nbformat": 4,
 "nbformat_minor": 4
}
